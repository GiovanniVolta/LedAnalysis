{
 "cells": [
  {
   "cell_type": "code",
   "execution_count": 1,
   "metadata": {},
   "outputs": [
    {
     "name": "stdout",
     "output_type": "stream",
     "text": [
      "/home/gvolta/XENONnT/LedAnalysis/Script/Class/configuration.ini\n"
     ]
    }
   ],
   "source": [
    "import sys\n",
    "#sys.path.append('/home/gvolta/XENONnT/LedAnalysis/Script/Class')\n",
    "sys.path.append('/home/gvolta/XENONnT/gain_spe')\n",
    "from PMTanalysis import *\n",
    "#PMT = PMTanalyzer('/home/gvolta/XENONnT/LedAnalysis/Script/Class')\n",
    "PMT = PMTanalyzer('/home/gvolta/XENONnT/gain_spe')"
   ]
  },
  {
   "cell_type": "code",
   "execution_count": 2,
   "metadata": {},
   "outputs": [],
   "source": [
    "import matplotlib as mpl\n",
    "import matplotlib.pyplot as plt\n",
    "from matplotlib import animation\n",
    "from matplotlib.animation import FuncAnimation\n",
    "from matplotlib.collections import PatchCollection\n",
    "from matplotlib.patches import Circle\n",
    "import matplotlib.colors as mcolors\n",
    "#mpl.use('Agg')"
   ]
  },
  {
   "cell_type": "code",
   "execution_count": 3,
   "metadata": {},
   "outputs": [
    {
     "data": {
      "text/plain": [
       "['/home/gvolta/XENONnT/LedAnalysis/Script/Class/configuration.ini']"
      ]
     },
     "execution_count": 3,
     "metadata": {},
     "output_type": "execute_result"
    }
   ],
   "source": [
    "Config = cp.ConfigParser()\n",
    "Config.read(PMT.config_file)"
   ]
  },
  {
   "cell_type": "code",
   "execution_count": null,
   "metadata": {},
   "outputs": [],
   "source": [
    "import strax\n",
    "print(strax.__version__)\n",
    "import straxen\n",
    "strax.Mailbox.DEFAULT_MAX_MESSAGES = 2\n",
    "st = straxen.contexts.xenon1t_dali()\n",
    "\n",
    "st = st.new_context(storage=[strax.DataDirectory(PMT.straxdata_spe, provide_run_metadata=False)],\n",
    "                    config=dict(led_window=(led_window[0],led_window[1]), noise_window=(noise_window[0], noise_window[1])))\n",
    "\n",
    "runs = st.select_runs()"
   ]
  },
  {
   "cell_type": "markdown",
   "metadata": {},
   "source": [
    "## spe raw records "
   ]
  },
  {
   "cell_type": "code",
   "execution_count": null,
   "metadata": {},
   "outputs": [],
   "source": [
    "runs = st.select_runs(run_mode='LED*')\n",
    "run_spe_topring = str(PMT.run_spe_topring)"
   ]
  },
  {
   "cell_type": "code",
   "execution_count": null,
   "metadata": {},
   "outputs": [],
   "source": [
    "led_window  = [Config.getint('window_pars','led_windows_left'), Config.getint('window_pars','led_windows_right')]"
   ]
  },
  {
   "cell_type": "code",
   "execution_count": null,
   "metadata": {},
   "outputs": [],
   "source": [
    "data_rr_ = st.get_array(run_spe_topring, 'raw_records', max_workers=10, seconds_range=(0,20))\n",
    "data_rr  = PMT.get_signal(data_rr_)"
   ]
  },
  {
   "cell_type": "code",
   "execution_count": null,
   "metadata": {},
   "outputs": [],
   "source": [
    "amplitude = PMT.get_amplitude(data_rr, window=[led_window[0], led_window[1]])"
   ]
  },
  {
   "cell_type": "code",
   "execution_count": null,
   "metadata": {},
   "outputs": [],
   "source": [
    "channels = np.linspace(0, 248, 249, dtype=int)\n",
    "SPE_wfmean = PMT.get_spemeanwaveform(data_rr, amplitude, channels, lenght=[15, 40])\n",
    "\n",
    "ch = 24\n",
    "y = SPE_wfmean[SPE_wfmean['channel']==ch]['SPE mean data'][0]\n",
    "y_err = SPE_wfmean[SPE_wfmean['channel']==ch]['SPE error data'][0]\n",
    "x = np.linspace(0, 56, 55)*10\n",
    "area = y.sum()\n",
    "y_norm = y/area\n",
    "y_err_norm = y_err/area\n",
    "argmax = np.argmax(y)\n",
    "\n",
    "plt.figure(figsize=(10,6))\n",
    "plt.errorbar(x, y_norm, yerr=y_err_norm, fmt='*--', ms=10, ecolor='blue')\n",
    "plt.xlabel('time [ns]')\n",
    "plt.yscale('log')"
   ]
  },
  {
   "cell_type": "code",
   "execution_count": null,
   "metadata": {},
   "outputs": [],
   "source": [
    "gauss_exp = lm.models.ExponentialGaussianModel(prefix='gexp_')\n",
    "box = lm.models.RectangleModel(prefix='box_', form='logistic')\n",
    "linear = lm.models.ConstantModel(prefix='flat_')\n",
    "\n",
    "template = gauss_exp + box + linear\n",
    "pars = template.make_params()\n",
    "\n",
    "pars['gexp_amplitude'].set(value=6.19)\n",
    "pars['gexp_center'].set(value=151)\n",
    "pars['gexp_sigma'].set(value=5.23)\n",
    "pars['gexp_gamma'].set(value=0.121)\n",
    "\n",
    "pars['box_amplitude'].set(value=0.009)\n",
    "pars['box_center1'].set(value=130.34)\n",
    "pars['box_sigma1'].set(value=13.5)\n",
    "pars['box_center2'].set(value=314.35)\n",
    "pars['box_sigma2'].set(value=20)\n",
    "\n",
    "pars['flat_c'].set(value=0.004)\n",
    "\n",
    "######################################################\n",
    "\n",
    "x_ = np.linspace(0, 420, 800)\n",
    "y_eval_box = box.eval(x=x_, box_amplitude=1.25e-2, box_center1=130, box_sigma1=40, box_center2=330, box_sigma2=30)\n",
    "y_eval_ge = gauss_exp.eval(x=x_, gexp_amplitude=5.5, gexp_center = 150, gexp_sigma=5, gexp_gamma=0.09)\n",
    "y_eval_linear = linear.eval(x=x_, flat_c=4e-3)\n",
    "\n",
    "y_eval_linear_plot = [ ]\n",
    "for i in range(len(x_)):\n",
    "    y_eval_linear_plot.append(y_eval_linear)\n",
    "    \n",
    "y_eval_template = y_eval_box + y_eval_ge + y_eval_linear\n",
    "y_eval_template = template.eval(x=x_, gexp_amplitude=5.5, gexp_center = 152, gexp_sigma=5, gexp_gamma=0.099999,\n",
    "                                      box_amplitude=0.87e-2, box_center1=125, box_sigma1=15, box_center2=325, box_sigma2=10,\n",
    "                                      flat_c=4e-3)\n",
    "\n",
    "plt.figure(figsize=(20,6))\n",
    "plt.plot(x_, y_eval_template, 'k-')\n",
    "plt.errorbar(x, y_norm, yerr=y_err_norm, fmt='*--', ms=10, ecolor='blue')\n",
    "plt.yscale('log')\n",
    "plt.ylim(3e-3, 5)\n",
    "plt.xlim(0, 500)\n",
    "plt.xlabel('time [ns]')"
   ]
  },
  {
   "cell_type": "raw",
   "metadata": {},
   "source": [
    "template.set_param_hint('gexp_amplitude', value=5.5, min=5, max=6.5)\n",
    "template.set_param_hint('gexp_center', value=152, min=145, max=160)\n",
    "template.set_param_hint('gexp_sigma', value=5, min=3, max=5.5)\n",
    "template.set_param_hint('gexp_gamma', value=0.09999, min=0.07, max=1.01)\n",
    "\n",
    "template.set_param_hint('box_amplitude', value=0.87e-2, min=0.7e-2, max=1.1e-2)\n",
    "template.set_param_hint('box_center1', value=127.772182, min=115, max=135, vary=True)\n",
    "template.set_param_hint('box_sigma1', value=9.35035299, min=8, max=25, vary=True)\n",
    "template.set_param_hint('box_center2', value=325, min=310, max=335)\n",
    "template.set_param_hint('box_sigma2', value=10, min=3, max=20)\n",
    "\n",
    "template.set_param_hint('flat_c', value=4e-3, min=3e-3, max=6e-3)"
   ]
  },
  {
   "cell_type": "code",
   "execution_count": null,
   "metadata": {},
   "outputs": [],
   "source": [
    "mask = np.where((x>80)&(x<400))\n",
    "result_fit = template.fit(data=y_norm[mask], x=x[mask], params=pars, weights=1.0/y_err_norm[mask], nan_policy='raise', verbose=True)"
   ]
  },
  {
   "cell_type": "code",
   "execution_count": null,
   "metadata": {},
   "outputs": [],
   "source": [
    "lm.report_fit(result_fit)"
   ]
  },
  {
   "cell_type": "code",
   "execution_count": null,
   "metadata": {},
   "outputs": [],
   "source": [
    "plt.figure(figsize=(20,6))\n",
    "plt.errorbar(x, y_norm, yerr=y_err_norm, fmt='*--', ms=10, ecolor='blue')\n",
    "plt.plot(x[mask], result_fit.best_fit, 'r--', label='best fit',)\n",
    "plt.plot(x[mask], result_fit.init_fit, 'k--', label='init fit',)\n",
    "plt.yscale('log')\n",
    "plt.ylim(3e-3, 5)\n",
    "plt.xlim(0, 400)\n",
    "plt.legend(loc=0)\n",
    "plt.xlabel('time [ns]')\n",
    "plt.show()\n",
    "\n",
    "plt.figure(figsize=(20,6))\n",
    "result_fit.plot_residuals()\n",
    "plt.xlim(0, 400)"
   ]
  },
  {
   "cell_type": "code",
   "execution_count": null,
   "metadata": {},
   "outputs": [],
   "source": [
    "dely = result_fit.eval_uncertainty(sigma=3)"
   ]
  },
  {
   "cell_type": "code",
   "execution_count": null,
   "metadata": {},
   "outputs": [],
   "source": [
    "x_ = np.linspace(0, 500, 500)\n",
    "popt = [ ]\n",
    "for pname, par in  result_fit.best_values.items():\n",
    "    if pname != 'box_form':\n",
    "        popt.append(par)\n",
    "    #print(pname, par)\n",
    "\n",
    "sigma = result_fit.eval_uncertainty(sigma=3)\n",
    "y_ = template.eval(x=x_, flat_c=popt[0], box_amplitude=popt[1], box_center1=popt[2], box_sigma1=popt[3], box_center2=popt[4], box_sigma2=popt[5],\n",
    "                   gexp_amplitude=popt[6], gexp_center=popt[7], gexp_sigma=popt[8], gexp_gamma=popt[9])\n",
    "\n",
    "dely = result_fit.eval_uncertainty(sigma=3)\n",
    "\n",
    "plt.figure(figsize=(20,6))\n",
    "plt.plot(x_, y_, 'k-')\n",
    "plt.errorbar(x, y_norm, yerr=y_err_norm, fmt='*--', ms=10, ecolor='blue')\n",
    "#plt.fill_between(x_, y_ - dely, y_ + dely, color='grey')\n",
    "plt.fill_between(x[mask], result_fit.best_fit-dely, result_fit.best_fit+dely, color=\"grey\", label='3-$\\sigma$ uncertainty band')\n",
    "plt.yscale('log')\n",
    "plt.ylim(3e-3, 5)\n",
    "plt.xlim(0, 500)\n",
    "plt.xlabel('time [ns]')"
   ]
  },
  {
   "cell_type": "code",
   "execution_count": null,
   "metadata": {},
   "outputs": [],
   "source": [
    "print(result_fit.eval_uncertainty())"
   ]
  },
  {
   "cell_type": "code",
   "execution_count": null,
   "metadata": {},
   "outputs": [],
   "source": [
    "plt.figure(figsize=(20,6))\n",
    "plt.plot(x, y_norm, ls='-', color='blue', ds= 'steps-mid', label='waveform signal averaged')\n",
    "plt.plot(x, y_norm+y_err_norm, ls='--', color='lightblue', ds= 'steps-mid', alpha=0.5)\n",
    "plt.plot(x, y_norm-y_err_norm, ls='--', color='lightblue', ds= 'steps-mid', alpha=0.5)\n",
    "\n",
    "sigma = result_fit.eval_uncertainty(sigma=3)\n",
    "y_ = template.eval(x=x, flat_c=popt[0], box_amplitude=popt[1], box_center1=popt[2], box_sigma1=popt[3], box_center2=popt[4], box_sigma2=popt[5],\n",
    "                   gexp_amplitude=popt[6], gexp_center=popt[7], gexp_sigma=popt[8], gexp_gamma=popt[9])\n",
    "\n",
    "plt.plot(x, y_norm, ls='-', color='blue', ds= 'steps-mid', label='waveform signal averaged')\n",
    "plt.plot(x, y_norm+y_err_norm, ls='--', color='lightblue', ds= 'steps-mid', alpha=0.5)\n",
    "plt.plot(x, y_norm-y_err_norm, ls='--', color='lightblue', ds= 'steps-mid', alpha=0.5)\n",
    "\n",
    "plt.yscale('log')\n",
    "plt.ylim(3e-3, 5)\n",
    "plt.xlim(0, 400)\n",
    "plt.legend(loc=0)\n",
    "plt.xlabel('time [ns]')\n",
    "plt.show()"
   ]
  },
  {
   "cell_type": "code",
   "execution_count": null,
   "metadata": {},
   "outputs": [],
   "source": []
  }
 ],
 "metadata": {
  "kernelspec": {
   "display_name": "Python 3",
   "language": "python",
   "name": "python3"
  },
  "language_info": {
   "codemirror_mode": {
    "name": "ipython",
    "version": 3
   },
   "file_extension": ".py",
   "mimetype": "text/x-python",
   "name": "python",
   "nbconvert_exporter": "python",
   "pygments_lexer": "ipython3",
   "version": "3.6.10"
  }
 },
 "nbformat": 4,
 "nbformat_minor": 4
}
