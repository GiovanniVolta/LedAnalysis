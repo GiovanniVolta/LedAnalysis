{
 "cells": [
  {
   "cell_type": "code",
   "execution_count": 1,
   "metadata": {},
   "outputs": [
    {
     "name": "stdout",
     "output_type": "stream",
     "text": [
      "/home/gvolta/XENONnT/LedAnalysis/Script/Class/configuration.ini\n"
     ]
    }
   ],
   "source": [
    "import sys\n",
    "sys.path.append('/home/gvolta/XENONnT/LedAnalysis/Script/Class')\n",
    "from PMTanalysis import *\n",
    "PMT = PMTanalyzer('/home/gvolta/XENONnT/LedAnalysis/Script/Class')"
   ]
  },
  {
   "cell_type": "code",
   "execution_count": 2,
   "metadata": {},
   "outputs": [],
   "source": [
    "import matplotlib as mpl\n",
    "import matplotlib.pyplot as plt\n",
    "from matplotlib import animation\n",
    "from matplotlib.animation import FuncAnimation\n",
    "from matplotlib.collections import PatchCollection\n",
    "from matplotlib.patches import Circle\n",
    "import matplotlib.colors as mcolors\n",
    "#mpl.use('Agg')"
   ]
  },
  {
   "cell_type": "code",
   "execution_count": 3,
   "metadata": {},
   "outputs": [
    {
     "name": "stdout",
     "output_type": "stream",
     "text": [
      "0.10.0\n"
     ]
    }
   ],
   "source": [
    "import strax\n",
    "print(strax.__version__)\n",
    "import straxen\n",
    "strax.Mailbox.DEFAULT_MAX_MESSAGES = 2\n",
    "st = straxen.contexts.strax_SPE()"
   ]
  },
  {
   "cell_type": "code",
   "execution_count": 4,
   "metadata": {},
   "outputs": [
    {
     "data": {
      "text/plain": [
       "['/home/gvolta/XENONnT/LedAnalysis/Script/Class/configuration.ini']"
      ]
     },
     "execution_count": 4,
     "metadata": {},
     "output_type": "execute_result"
    }
   ],
   "source": [
    "Config = cp.ConfigParser()\n",
    "Config.read(PMT.config_file)"
   ]
  },
  {
   "cell_type": "markdown",
   "metadata": {},
   "source": [
    "## _Test of PMT analyzer class_"
   ]
  },
  {
   "cell_type": "code",
   "execution_count": 5,
   "metadata": {},
   "outputs": [
    {
     "name": "stderr",
     "output_type": "stream",
     "text": [
      "Checking data availability: 100%|██████████| 2/2 [00:16<00:00,  8.49s/it]\n"
     ]
    }
   ],
   "source": [
    "runs = st.select_runs(run_mode='LED*')"
   ]
  },
  {
   "cell_type": "code",
   "execution_count": 6,
   "metadata": {},
   "outputs": [
    {
     "data": {
      "text/html": [
       "<div>\n",
       "<style scoped>\n",
       "    .dataframe tbody tr th:only-of-type {\n",
       "        vertical-align: middle;\n",
       "    }\n",
       "\n",
       "    .dataframe tbody tr th {\n",
       "        vertical-align: top;\n",
       "    }\n",
       "\n",
       "    .dataframe thead th {\n",
       "        text-align: right;\n",
       "    }\n",
       "</style>\n",
       "<table border=\"1\" class=\"dataframe\">\n",
       "  <thead>\n",
       "    <tr style=\"text-align: right;\">\n",
       "      <th></th>\n",
       "      <th>name</th>\n",
       "      <th>number</th>\n",
       "      <th>start</th>\n",
       "      <th>reader.ini.name</th>\n",
       "      <th>trigger.events_built</th>\n",
       "      <th>end</th>\n",
       "      <th>tags</th>\n",
       "      <th>mode</th>\n",
       "      <th>livetime</th>\n",
       "      <th>event_info_available</th>\n",
       "      <th>raw_records_available</th>\n",
       "    </tr>\n",
       "  </thead>\n",
       "  <tbody>\n",
       "    <tr>\n",
       "      <th>104</th>\n",
       "      <td>180219_0952</td>\n",
       "      <td>16979</td>\n",
       "      <td>2018-02-19 09:52:13+00:00</td>\n",
       "      <td>LED_3mus_stable</td>\n",
       "      <td>196157.0</td>\n",
       "      <td>2018-02-19 10:00:16+00:00</td>\n",
       "      <td>gain_step0,_sciencerun2_candidate</td>\n",
       "      <td>LED_3mus_stable</td>\n",
       "      <td>00:08:03</td>\n",
       "      <td>False</td>\n",
       "      <td>True</td>\n",
       "    </tr>\n",
       "    <tr>\n",
       "      <th>105</th>\n",
       "      <td>180219_1001</td>\n",
       "      <td>16980</td>\n",
       "      <td>2018-02-19 10:01:41+00:00</td>\n",
       "      <td>LED_3mus_stable</td>\n",
       "      <td>196207.0</td>\n",
       "      <td>2018-02-19 10:09:44+00:00</td>\n",
       "      <td>gain_step1,_sciencerun2_candidate</td>\n",
       "      <td>LED_3mus_stable</td>\n",
       "      <td>00:08:03</td>\n",
       "      <td>False</td>\n",
       "      <td>True</td>\n",
       "    </tr>\n",
       "    <tr>\n",
       "      <th>106</th>\n",
       "      <td>180219_1011</td>\n",
       "      <td>16981</td>\n",
       "      <td>2018-02-19 10:11:06+00:00</td>\n",
       "      <td>LED_3mus_stable</td>\n",
       "      <td>194686.0</td>\n",
       "      <td>2018-02-19 10:19:09+00:00</td>\n",
       "      <td>gain_step2,_sciencerun2_candidate</td>\n",
       "      <td>LED_3mus_stable</td>\n",
       "      <td>00:08:03</td>\n",
       "      <td>False</td>\n",
       "      <td>True</td>\n",
       "    </tr>\n",
       "    <tr>\n",
       "      <th>107</th>\n",
       "      <td>180219_1021</td>\n",
       "      <td>16982</td>\n",
       "      <td>2018-02-19 10:21:18+00:00</td>\n",
       "      <td>LED_3mus_stable</td>\n",
       "      <td>196373.0</td>\n",
       "      <td>2018-02-19 10:29:22+00:00</td>\n",
       "      <td>gain_step3,_sciencerun2_candidate</td>\n",
       "      <td>LED_3mus_stable</td>\n",
       "      <td>00:08:04</td>\n",
       "      <td>False</td>\n",
       "      <td>True</td>\n",
       "    </tr>\n",
       "    <tr>\n",
       "      <th>108</th>\n",
       "      <td>180219_1030</td>\n",
       "      <td>16983</td>\n",
       "      <td>2018-02-19 10:31:02+00:00</td>\n",
       "      <td>LED_3mus_stable</td>\n",
       "      <td>195938.0</td>\n",
       "      <td>2018-02-19 10:39:05+00:00</td>\n",
       "      <td>gain_step4,_sciencerun2_candidate</td>\n",
       "      <td>LED_3mus_stable</td>\n",
       "      <td>00:08:03</td>\n",
       "      <td>False</td>\n",
       "      <td>True</td>\n",
       "    </tr>\n",
       "    <tr>\n",
       "      <th>109</th>\n",
       "      <td>180219_1049</td>\n",
       "      <td>16985</td>\n",
       "      <td>2018-02-19 10:50:00+00:00</td>\n",
       "      <td>LED_3mus_stable</td>\n",
       "      <td>194366.0</td>\n",
       "      <td>2018-02-19 10:58:02+00:00</td>\n",
       "      <td>spe_topbulk,_sciencerun2_candidate</td>\n",
       "      <td>LED_3mus_stable</td>\n",
       "      <td>00:08:02</td>\n",
       "      <td>False</td>\n",
       "      <td>True</td>\n",
       "    </tr>\n",
       "    <tr>\n",
       "      <th>110</th>\n",
       "      <td>180219_1059</td>\n",
       "      <td>16986</td>\n",
       "      <td>2018-02-19 10:59:21+00:00</td>\n",
       "      <td>LED_3mus_stable</td>\n",
       "      <td>193050.0</td>\n",
       "      <td>2018-02-19 11:07:24+00:00</td>\n",
       "      <td>spe_topring,_sciencerun2_candidate</td>\n",
       "      <td>LED_3mus_stable</td>\n",
       "      <td>00:08:03</td>\n",
       "      <td>False</td>\n",
       "      <td>True</td>\n",
       "    </tr>\n",
       "    <tr>\n",
       "      <th>111</th>\n",
       "      <td>180219_1110</td>\n",
       "      <td>16987</td>\n",
       "      <td>2018-02-19 11:10:28+00:00</td>\n",
       "      <td>LED_7mus_stable</td>\n",
       "      <td>46116.0</td>\n",
       "      <td>2018-02-19 11:15:31+00:00</td>\n",
       "      <td>Afterpulse,_sciencerun2_candidate</td>\n",
       "      <td>LED_7mus_stable</td>\n",
       "      <td>00:05:03</td>\n",
       "      <td>False</td>\n",
       "      <td>True</td>\n",
       "    </tr>\n",
       "    <tr>\n",
       "      <th>112</th>\n",
       "      <td>180219_1116</td>\n",
       "      <td>16988</td>\n",
       "      <td>2018-02-19 11:16:48+00:00</td>\n",
       "      <td>LED_7mus_stable</td>\n",
       "      <td>137431.0</td>\n",
       "      <td>2018-02-19 11:31:50+00:00</td>\n",
       "      <td>Afterpulse,_sciencerun2_candidate</td>\n",
       "      <td>LED_7mus_stable</td>\n",
       "      <td>00:15:02</td>\n",
       "      <td>False</td>\n",
       "      <td>True</td>\n",
       "    </tr>\n",
       "  </tbody>\n",
       "</table>\n",
       "</div>"
      ],
      "text/plain": [
       "            name  number                     start  reader.ini.name  \\\n",
       "104  180219_0952   16979 2018-02-19 09:52:13+00:00  LED_3mus_stable   \n",
       "105  180219_1001   16980 2018-02-19 10:01:41+00:00  LED_3mus_stable   \n",
       "106  180219_1011   16981 2018-02-19 10:11:06+00:00  LED_3mus_stable   \n",
       "107  180219_1021   16982 2018-02-19 10:21:18+00:00  LED_3mus_stable   \n",
       "108  180219_1030   16983 2018-02-19 10:31:02+00:00  LED_3mus_stable   \n",
       "109  180219_1049   16985 2018-02-19 10:50:00+00:00  LED_3mus_stable   \n",
       "110  180219_1059   16986 2018-02-19 10:59:21+00:00  LED_3mus_stable   \n",
       "111  180219_1110   16987 2018-02-19 11:10:28+00:00  LED_7mus_stable   \n",
       "112  180219_1116   16988 2018-02-19 11:16:48+00:00  LED_7mus_stable   \n",
       "\n",
       "     trigger.events_built                       end  \\\n",
       "104              196157.0 2018-02-19 10:00:16+00:00   \n",
       "105              196207.0 2018-02-19 10:09:44+00:00   \n",
       "106              194686.0 2018-02-19 10:19:09+00:00   \n",
       "107              196373.0 2018-02-19 10:29:22+00:00   \n",
       "108              195938.0 2018-02-19 10:39:05+00:00   \n",
       "109              194366.0 2018-02-19 10:58:02+00:00   \n",
       "110              193050.0 2018-02-19 11:07:24+00:00   \n",
       "111               46116.0 2018-02-19 11:15:31+00:00   \n",
       "112              137431.0 2018-02-19 11:31:50+00:00   \n",
       "\n",
       "                                   tags             mode livetime  \\\n",
       "104   gain_step0,_sciencerun2_candidate  LED_3mus_stable 00:08:03   \n",
       "105   gain_step1,_sciencerun2_candidate  LED_3mus_stable 00:08:03   \n",
       "106   gain_step2,_sciencerun2_candidate  LED_3mus_stable 00:08:03   \n",
       "107   gain_step3,_sciencerun2_candidate  LED_3mus_stable 00:08:04   \n",
       "108   gain_step4,_sciencerun2_candidate  LED_3mus_stable 00:08:03   \n",
       "109  spe_topbulk,_sciencerun2_candidate  LED_3mus_stable 00:08:02   \n",
       "110  spe_topring,_sciencerun2_candidate  LED_3mus_stable 00:08:03   \n",
       "111   Afterpulse,_sciencerun2_candidate  LED_7mus_stable 00:05:03   \n",
       "112   Afterpulse,_sciencerun2_candidate  LED_7mus_stable 00:15:02   \n",
       "\n",
       "     event_info_available  raw_records_available  \n",
       "104                 False                   True  \n",
       "105                 False                   True  \n",
       "106                 False                   True  \n",
       "107                 False                   True  \n",
       "108                 False                   True  \n",
       "109                 False                   True  \n",
       "110                 False                   True  \n",
       "111                 False                   True  \n",
       "112                 False                   True  "
      ]
     },
     "execution_count": 6,
     "metadata": {},
     "output_type": "execute_result"
    }
   ],
   "source": [
    "runs"
   ]
  },
  {
   "cell_type": "code",
   "execution_count": null,
   "metadata": {},
   "outputs": [],
   "source": [
    "st.data_info('raw_records')"
   ]
  },
  {
   "cell_type": "code",
   "execution_count": null,
   "metadata": {},
   "outputs": [],
   "source": [
    "run_led = str(PMT.run_spe_topbulk)\n",
    "run_noise = str(PMT.run_gain_step0)"
   ]
  },
  {
   "cell_type": "code",
   "execution_count": null,
   "metadata": {},
   "outputs": [],
   "source": [
    "data_led_ = st.get_array(run_led, 'raw_records', seconds_range=(0,20))\n",
    "data_led  = PMT.get_signal(data_led_)"
   ]
  },
  {
   "cell_type": "code",
   "execution_count": null,
   "metadata": {},
   "outputs": [],
   "source": [
    "amplitude = PMT.get_amplitude(data_led)"
   ]
  },
  {
   "cell_type": "code",
   "execution_count": null,
   "metadata": {},
   "outputs": [],
   "source": [
    "pmt = amplitude[amplitude['channel']==0]\n",
    "plt.hist(pmt['amplitude'], bins=250, range=(0,500))\n",
    "plt.yscale('log')\n",
    "plt.show()\n",
    "PMT_n = data_led[data_led['channel']==25]\n",
    "event = 14\n",
    "plt.plot(PMT_n['data'][event])"
   ]
  },
  {
   "cell_type": "code",
   "execution_count": null,
   "metadata": {},
   "outputs": [],
   "source": [
    "def gaussian(x,*p) :\n",
    "    # A gaussian peak with:\n",
    "    #   Peak height above background : p[0]\n",
    "    #   Central value                : p[1]\n",
    "    #   Standard deviation           : p[2]\n",
    "    return p[0]*np.exp(-1*(x-p[1])**2/(2*p[2]**2))\n",
    "\n",
    "ch = 100\n",
    "amp = amplitude[amplitude['channel']==ch]['amplitude']\n",
    "\n",
    "fit_input, binning, check = PMT.get_speinput(amplitude=amplitude, channel=[ch])\n",
    "gauss, result_fit, fit_interval = PMT.get_sperough(amplitude=amplitude, channel=[ch])\n",
    "\n",
    "plt.figure(figsize=(20,10))\n",
    "H, B, _  = plt.hist(amp, bins=binning)\n",
    "plt.plot(B[fit_input], H[fit_input], '*')\n",
    "result_fit.plot_fit()\n",
    "\n",
    "popt  = result_fit.best_values\n",
    "N     = popt['g_amplitude']/(np.sqrt(2*np.pi)*popt['g_sigma'])\n",
    "mu    = popt['g_center']\n",
    "sigma = popt['g_sigma']\n",
    "\n",
    "x = np.linspace(0,100, 100)\n",
    "y = gaussian(x, N, mu, sigma)\n",
    "plt.plot(x, y, 'k--')\n",
    "\n",
    "plt.yscale('log')\n",
    "plt.ylim(1e0)\n",
    "plt.show()"
   ]
  },
  {
   "cell_type": "code",
   "execution_count": null,
   "metadata": {},
   "outputs": [],
   "source": [
    "df_fit, df_led, window = PMT.get_ledwindow(amplitude=amplitude, channels=[i for i in range(249)])"
   ]
  },
  {
   "cell_type": "code",
   "execution_count": null,
   "metadata": {},
   "outputs": [],
   "source": [
    "led_window   = [Config.getint('window_pars','led_windows_left'), Config.getint('window_pars','led_windows_right')]\n",
    "noise_window = [Config.getint('window_pars','noise_windows_left'), Config.getint('window_pars','noise_windows_right')]"
   ]
  },
  {
   "cell_type": "code",
   "execution_count": null,
   "metadata": {},
   "outputs": [],
   "source": [
    "window, led_window, noise_window"
   ]
  },
  {
   "cell_type": "code",
   "execution_count": null,
   "metadata": {},
   "outputs": [],
   "source": [
    "plt.figure(figsize=(20,10))\n",
    "###################################################################\n",
    "PMT_n = data_led[data_led['channel']==25]\n",
    "plt.subplot(211)\n",
    "event = 14\n",
    "plt.plot(PMT_n['data'][event])\n",
    "plt.axvspan(led_window[0], led_window[1], alpha=0.5, color='gold')\n",
    "plt.axvspan(noise_window[0], noise_window[1], alpha=0.5, color='lightblue')\n",
    "plt.legend(loc='best', fontsize=15)\n",
    "plt.ylim(bottom = -40)\n",
    "plt.xlim(0, 600)\n",
    "###################################################################\n",
    "PMT_n = data_led[data_led['channel']==151]\n",
    "plt.subplot(212)\n",
    "event = 10\n",
    "plt.plot(PMT_n['data'][event])\n",
    "plt.axvspan(led_window[0], led_window[1], alpha=0.5, color='gold')\n",
    "plt.axvspan(noise_window[0], noise_window[1], alpha=0.5, color='lightblue')\n",
    "plt.legend(loc='best', fontsize=15)\n",
    "plt.ylim(bottom = -40)\n",
    "plt.xlim(0, 600)\n",
    "###################################################################\n",
    "plt.show()"
   ]
  },
  {
   "cell_type": "code",
   "execution_count": null,
   "metadata": {},
   "outputs": [],
   "source": [
    "st = st.new_context(config=dict(led_window=(led_window[0],led_window[1]), \n",
    "                                noise_window=(noise_window[0], noise_window[1]),\n",
    "                                channel_list=(0,36)))\n",
    "st.show_config('led_calibration')"
   ]
  },
  {
   "cell_type": "code",
   "execution_count": null,
   "metadata": {},
   "outputs": [],
   "source": [
    "st.data_info('led_calibration')"
   ]
  },
  {
   "cell_type": "code",
   "execution_count": null,
   "metadata": {},
   "outputs": [],
   "source": [
    "data_spe = st.get_array(run_led, 'led_calibration', max_workers=10)"
   ]
  },
  {
   "cell_type": "code",
   "execution_count": null,
   "metadata": {},
   "outputs": [],
   "source": [
    "pmt = data_spe[data_spe['channel']==0]\n",
    "plt.hist(pmt['amplitude_led'], bins=250, range=(0,500))\n",
    "plt.yscale('log')\n",
    "plt.show()"
   ]
  },
  {
   "cell_type": "code",
   "execution_count": null,
   "metadata": {},
   "outputs": [],
   "source": [
    "SPE = PMT.get_scalingspectrum(data_spe, data_spe, n_channel_s = np.arange(0, 5, 1))"
   ]
  },
  {
   "cell_type": "code",
   "execution_count": null,
   "metadata": {},
   "outputs": [],
   "source": [
    "x = SPE[SPE['channel']==3]['bins led'][0]\n",
    "x_led = 0.5 * (x[1:] + x[:-1])\n",
    "plt.plot(x_led, \n",
    "         SPE[SPE['channel']==3]['spectrum led'][0],\n",
    "         label='Amp LED')\n",
    "x = SPE[SPE['channel']==3]['bins noise'][0]\n",
    "x_noise = 0.5 * (x[1:] + x[:-1])\n",
    "plt.plot(x_noise, \n",
    "         SPE[SPE['channel']==3]['spectrum noise'][0], \n",
    "         label='Amp noise')\n",
    "plt.yscale('log')\n",
    "plt.show()"
   ]
  },
  {
   "cell_type": "code",
   "execution_count": null,
   "metadata": {},
   "outputs": [],
   "source": [
    "SPE_acceptance = PMT.get_speacceptance(data_spe, data_spe, n_channel_s = np.arange(0, 5, 1))"
   ]
  },
  {
   "cell_type": "code",
   "execution_count": null,
   "metadata": {},
   "outputs": [],
   "source": [
    "bin_correction = 7\n",
    "print('#################################################')\n",
    "print('############### Bin Correction: '+str(bin_correction)+' ###############')\n",
    "print('#################################################')\n",
    "\n",
    "fig = plt.figure(figsize=(25,10))\n",
    "n_channel = 4\n",
    "mask = np.where(SPE_acceptance[SPE_acceptance['channel']==n_channel]['SPE acceptance '+str(bin_correction)+' bin'][0]<0.01)\n",
    "x_max = SPE_acceptance[SPE_acceptance['channel']==n_channel]['bins SPE acceptance '+str(bin_correction)+' bin'][0][mask][0]\n",
    "\n",
    "plt.subplot(121)\n",
    "\n",
    "x = SPE[SPE['channel']==n_channel]['bins led'][0]\n",
    "x_led = 0.5 * (x[1:] + x[:-1])\n",
    "plt.plot(x_led, \n",
    "         SPE[SPE['channel']==n_channel]['spectrum led'][0],\n",
    "         label='Amp LED')\n",
    "x = SPE[SPE['channel']==n_channel]['bins noise'][0]\n",
    "x_noise = 0.5 * (x[1:] + x[:-1])\n",
    "plt.plot(x_noise, \n",
    "         SPE[SPE['channel']==n_channel]['spectrum noise'][0], \n",
    "         label='Amp noise')\n",
    "\n",
    "plt.xlabel('amp (ADC counts)', fontsize=26)\n",
    "plt.title('Channel %d' %n_channel, fontsize=26)\n",
    "plt.yscale('log')\n",
    "plt.legend(loc='best', fontsize=20)\n",
    "\n",
    "plt.subplot(122)\n",
    "\n",
    "x = SPE[SPE['channel']==n_channel]['bins led'][0]\n",
    "x_led = 0.5 * (x[1:] + x[:-1])\n",
    "plt.plot(x_led, \n",
    "         SPE[SPE['channel']==n_channel]['spectrum led'][0],\n",
    "         label='Amp LED')\n",
    "x = SPE[SPE['channel']==n_channel]['bins noise'][0]\n",
    "x_noise = 0.5 * (x[1:] + x[:-1])\n",
    "plt.plot(x_noise, \n",
    "         SPE[SPE['channel']==n_channel]['spectrum noise scaled '+str(bin_correction)+' bin'][0], \n",
    "         label='Amp noise')\n",
    "\n",
    "plt.xlim(right=30)\n",
    "plt.yscale('log')\n",
    "plt.xlabel('amp (ADC counts)', fontsize=26)\n",
    "plt.title('Channel %d' %n_channel, fontsize=26)\n",
    "plt.legend(loc='best', fontsize=20)\n",
    "\n",
    "\n",
    "fig = plt.figure(figsize=(25,10))\n",
    "\n",
    "plt.subplot(121)\n",
    "\n",
    "plt.errorbar(x = SPE_acceptance[SPE_acceptance['channel']==n_channel]['bins SPE acceptance '+str(bin_correction)+' bin'][0], \n",
    "             y = SPE_acceptance[SPE_acceptance['channel']==n_channel]['noise-subtracted spectrum '+str(bin_correction)+' bin'][0], \n",
    "             yerr = SPE_acceptance[SPE_acceptance['channel']==n_channel]['error of noise-subtracted spectrum '+str(bin_correction)+' bin'][0], \n",
    "             fmt='b+', label='noise-subtracted SPE spectrum')\n",
    "\n",
    "#plt.xlim(left = 0)\n",
    "plt.xlabel('amp (ADC counts)', fontsize=26)\n",
    "plt.title('Channel %d' %n_channel, fontsize=26)\n",
    "plt.legend(loc='best', fontsize=17)\n",
    "\n",
    "plt.subplot(122)\n",
    "\n",
    "plt.plot(SPE_acceptance[SPE_acceptance['channel']==n_channel]['bins SPE acceptance '+str(bin_correction)+' bin'][0], \n",
    "         SPE_acceptance[SPE_acceptance['channel']==n_channel]['SPE acceptance '+str(bin_correction)+' bin'][0]) \n",
    "\n",
    "plt.text(55, 1.07, \n",
    "         'Acceptance @ 15 ADC = %.2f'%(SPE_acceptance[SPE_acceptance['channel']==n_channel]['Acceptance @ 15 ADC '+str(bin_correction)+' bin'][0]),\n",
    "         horizontalalignment='left', verticalalignment='top', bbox=dict(boxstyle='round', facecolor='white', alpha=0.75), \n",
    "         fontsize=17)\n",
    "\n",
    "plt.text(55, 1, \n",
    "         'ADC for 0.9 acceptance = %.2f'%(SPE_acceptance[SPE_acceptance['channel']==n_channel]['Threshold for 0.9 acceptance '+str(bin_correction)+' bin'][0]), \n",
    "         horizontalalignment='left', verticalalignment='top', bbox=dict(boxstyle='round', facecolor='white', alpha=0.75), \n",
    "         fontsize=17)\n",
    "\n",
    "plt.hlines(y=0.9, xmin=0, xmax=x_max, colors='k', linestyles='dashed')\n",
    "plt.vlines(x=15, ymin=0, ymax=1, colors='k', linestyles='dashed')\n",
    "plt.title('Acceptance', fontsize=26)\n",
    "plt.ylim(0,1.1)\n",
    "plt.xlim(0, x_max)\n",
    "plt.xlabel('amp (ADC counts)', fontsize=26)\n",
    "plt.title('Channel %d' %n_channel, fontsize=26)\n",
    "#plt.legend(loc='best', fontsize=15)\n",
    "\n",
    "plt.show()"
   ]
  },
  {
   "cell_type": "markdown",
   "metadata": {},
   "source": [
    "## Gain"
   ]
  },
  {
   "cell_type": "code",
   "execution_count": 7,
   "metadata": {},
   "outputs": [],
   "source": [
    "led_window   = [Config.getint('window_pars','led_windows_left'), \n",
    "                Config.getint('window_pars','led_windows_right')]\n",
    "noise_window = [Config.getint('window_pars','noise_windows_left'), \n",
    "                Config.getint('window_pars','noise_windows_right')]"
   ]
  },
  {
   "cell_type": "code",
   "execution_count": 8,
   "metadata": {},
   "outputs": [
    {
     "data": {
      "text/html": [
       "<div>\n",
       "<style scoped>\n",
       "    .dataframe tbody tr th:only-of-type {\n",
       "        vertical-align: middle;\n",
       "    }\n",
       "\n",
       "    .dataframe tbody tr th {\n",
       "        vertical-align: top;\n",
       "    }\n",
       "\n",
       "    .dataframe thead th {\n",
       "        text-align: right;\n",
       "    }\n",
       "</style>\n",
       "<table border=\"1\" class=\"dataframe\">\n",
       "  <thead>\n",
       "    <tr style=\"text-align: right;\">\n",
       "      <th></th>\n",
       "      <th>option</th>\n",
       "      <th>default</th>\n",
       "      <th>current</th>\n",
       "      <th>applies_to</th>\n",
       "      <th>help</th>\n",
       "    </tr>\n",
       "  </thead>\n",
       "  <tbody>\n",
       "    <tr>\n",
       "      <th>0</th>\n",
       "      <td>baseline_window</td>\n",
       "      <td>(0, 50)</td>\n",
       "      <td>&lt;OMITTED&gt;</td>\n",
       "      <td>(led_calibration,)</td>\n",
       "      <td>Window (samples) for baseline calculation.</td>\n",
       "    </tr>\n",
       "    <tr>\n",
       "      <th>1</th>\n",
       "      <td>led_window</td>\n",
       "      <td>(50, 115)</td>\n",
       "      <td>(143, 180)</td>\n",
       "      <td>(led_calibration,)</td>\n",
       "      <td>Window (samples) where we expect the signal in LED calibration</td>\n",
       "    </tr>\n",
       "    <tr>\n",
       "      <th>2</th>\n",
       "      <td>noise_window</td>\n",
       "      <td>(120, 185)</td>\n",
       "      <td>(50, 87)</td>\n",
       "      <td>(led_calibration,)</td>\n",
       "      <td>Window (samples) to analysis the noise</td>\n",
       "    </tr>\n",
       "    <tr>\n",
       "      <th>3</th>\n",
       "      <td>channel_list</td>\n",
       "      <td>(0, 248)</td>\n",
       "      <td>(127, 248)</td>\n",
       "      <td>(led_calibration,)</td>\n",
       "      <td>Three different light level for XENON1T: (0,36), (37,126), (127,248). Defalt value: all the PMTs</td>\n",
       "    </tr>\n",
       "    <tr>\n",
       "      <th>4</th>\n",
       "      <td>pax_raw_dir</td>\n",
       "      <td>/data/xenon/raw</td>\n",
       "      <td>&lt;OMITTED&gt;</td>\n",
       "      <td>(raw_records,)</td>\n",
       "      <td>Directory with raw pax datasets</td>\n",
       "    </tr>\n",
       "    <tr>\n",
       "      <th>5</th>\n",
       "      <td>stop_after_zips</td>\n",
       "      <td>0</td>\n",
       "      <td>&lt;OMITTED&gt;</td>\n",
       "      <td>(raw_records,)</td>\n",
       "      <td>Convert only this many zip files. 0 = all.</td>\n",
       "    </tr>\n",
       "    <tr>\n",
       "      <th>6</th>\n",
       "      <td>events_per_chunk</td>\n",
       "      <td>50</td>\n",
       "      <td>&lt;OMITTED&gt;</td>\n",
       "      <td>(raw_records,)</td>\n",
       "      <td>Number of events to yield per chunk</td>\n",
       "    </tr>\n",
       "    <tr>\n",
       "      <th>7</th>\n",
       "      <td>samples_per_record</td>\n",
       "      <td>110</td>\n",
       "      <td>&lt;OMITTED&gt;</td>\n",
       "      <td>(raw_records,)</td>\n",
       "      <td>Number of samples per record</td>\n",
       "    </tr>\n",
       "  </tbody>\n",
       "</table>\n",
       "</div>"
      ],
      "text/plain": [
       "               option          default     current          applies_to  \\\n",
       "0     baseline_window          (0, 50)   <OMITTED>  (led_calibration,)   \n",
       "1          led_window        (50, 115)  (143, 180)  (led_calibration,)   \n",
       "2        noise_window       (120, 185)    (50, 87)  (led_calibration,)   \n",
       "3        channel_list         (0, 248)  (127, 248)  (led_calibration,)   \n",
       "4         pax_raw_dir  /data/xenon/raw   <OMITTED>      (raw_records,)   \n",
       "5     stop_after_zips                0   <OMITTED>      (raw_records,)   \n",
       "6    events_per_chunk               50   <OMITTED>      (raw_records,)   \n",
       "7  samples_per_record              110   <OMITTED>      (raw_records,)   \n",
       "\n",
       "                                                                                               help  \n",
       "0                                                        Window (samples) for baseline calculation.  \n",
       "1                                    Window (samples) where we expect the signal in LED calibration  \n",
       "2                                                            Window (samples) to analysis the noise  \n",
       "3  Three different light level for XENON1T: (0,36), (37,126), (127,248). Defalt value: all the PMTs  \n",
       "4                                                                   Directory with raw pax datasets  \n",
       "5                                                        Convert only this many zip files. 0 = all.  \n",
       "6                                                               Number of events to yield per chunk  \n",
       "7                                                                      Number of samples per record  "
      ]
     },
     "execution_count": 8,
     "metadata": {},
     "output_type": "execute_result"
    }
   ],
   "source": [
    "st = st.new_context(config=dict(led_window=(led_window[0],led_window[1]), \n",
    "                                noise_window=(noise_window[0], noise_window[1]),\n",
    "                                channel_list=(127,248)))\n",
    "st.show_config('led_calibration')"
   ]
  },
  {
   "cell_type": "code",
   "execution_count": 9,
   "metadata": {},
   "outputs": [],
   "source": [
    "run_gain_step1 = str(PMT.run_gain_step1)\n",
    "run_gain_step0 = str(PMT.run_gain_step0)"
   ]
  },
  {
   "cell_type": "code",
   "execution_count": 12,
   "metadata": {},
   "outputs": [],
   "source": [
    "data_gs1 = st.get_array(run_gain_step1, 'led_calibration', max_workers=10)\n"
   ]
  },
  {
   "cell_type": "code",
   "execution_count": 16,
   "metadata": {},
   "outputs": [],
   "source": [
    "data_noise = st.get_array(run_gain_step0, 'led_calibration', max_workers=10)"
   ]
  },
  {
   "cell_type": "code",
   "execution_count": 24,
   "metadata": {},
   "outputs": [
    {
     "data": {
      "image/png": "[encoded data removed]",
      "text/plain": [
       "<Figure size 432x288 with 1 Axes>"
      ]
     },
     "metadata": {
      "needs_background": "light"
     },
     "output_type": "display_data"
    }
   ],
   "source": [
    "plt.hist(data_noise[data_noise['channel']==127]['area'], bins=2000, range=[-100, 2000])\n",
    "plt.hist(data_gs1[data_gs1['channel']==127]['area'], bins=2000, range=[-100, 2000])\n",
    "plt.yscale('log')\n",
    "plt.show()"
   ]
  },
  {
   "cell_type": "code",
   "execution_count": 34,
   "metadata": {},
   "outputs": [],
   "source": [
    "def get_moments(data, channels):\n",
    "    \n",
    "    datatype = [('channel', np.int16), \n",
    "                ('mean', np.float32), \n",
    "                ('variance', np.float32)]\n",
    "    moments =  np.zeros(len(channels), dtype = datatype)\n",
    "    \n",
    "    for i, ch in enumerate(channels):\n",
    "        area = data[data['channel']==ch]['area']\n",
    "        hist, bins  = np.histogram(area, range=(-1000, 5000), bins=6000)\n",
    "        mids = 0.5*(bins[1:] + bins[:-1])\n",
    "        \n",
    "        moments[i]['channel']  = ch\n",
    "        moments[i]['mean']     = np.average(mids, weights=hist)\n",
    "        moments[i]['variance'] = np.average((mids - np.average(mids, weights=hist))**2, weights=hist)\n",
    "    \n",
    "    return moments"
   ]
  },
  {
   "cell_type": "code",
   "execution_count": 35,
   "metadata": {},
   "outputs": [
    {
     "name": "stdout",
     "output_type": "stream",
     "text": [
      "121\n",
      "121\n"
     ]
    }
   ],
   "source": [
    "channels = np.linspace(127, 248, 121, dtype=int)\n",
    "moments_s = get_moments(data_gs1, channels)\n",
    "moments_b = get_moments(data_noise, channels)"
   ]
  },
  {
   "cell_type": "code",
   "execution_count": 39,
   "metadata": {},
   "outputs": [
    {
     "data": {
      "text/plain": [
       "array([1.2639874 , 1.4142001 , 1.299595  , 1.4431064 , 1.5205493 ,\n",
       "       1.8077939 , 2.0670342 , 1.2006102 , 1.1346749 , 1.1400008 ,\n",
       "       1.6409895 , 1.0252452 , 1.3959001 , 1.8063438 , 1.6914216 ,\n",
       "       1.5447147 , 2.5970836 , 1.8666509 , 3.3088439 , 2.9217536 ,\n",
       "       2.039168  , 4.23421   , 1.7596632 , 1.8429527 , 1.7305228 ,\n",
       "       1.4875113 , 1.6461824 , 1.2446946 , 1.4866841 , 1.4627441 ,\n",
       "       1.2058759 , 1.4447154 , 1.8419218 , 1.6052269 , 1.4850128 ,\n",
       "       1.2206239 , 1.398872  , 1.414432  , 1.5447506 , 1.2797832 ,\n",
       "       1.029527  , 1.3227623 , 1.2866646 , 1.4555581 , 1.5698677 ,\n",
       "       1.8433102 , 1.6154387 , 1.659761  , 1.7368928 , 1.5135611 ,\n",
       "       1.3459793 , 1.4502078 , 1.4257861 , 1.5769157 , 1.8929131 ,\n",
       "       1.4530845 , 1.4905916 , 1.0230857 , 1.1989627 , 1.7474968 ,\n",
       "       1.0812016 , 1.6259308 , 1.7588373 , 2.2487884 , 1.5714915 ,\n",
       "       1.3462089 , 1.6638478 , 1.9782215 , 1.4864105 , 1.8371122 ,\n",
       "       1.3297884 , 2.007     , 3.4106977 , 3.4319572 , 2.8014834 ,\n",
       "       1.6938227 , 6.8721743 , 1.7177291 , 0.85939395, 1.651154  ,\n",
       "       1.6228682 , 1.3438798 , 1.361372  , 2.7547998 , 2.2569172 ,\n",
       "       2.5308745 , 1.4969561 , 1.4815934 , 1.4261168 , 1.9348649 ,\n",
       "       1.7565247 , 2.3023481 , 2.5689032 , 2.0992434 , 2.680769  ,\n",
       "       2.9002748 , 2.657995  , 1.9797044 , 3.45248   , 2.4829419 ,\n",
       "       2.7789772 , 2.0368853 , 2.9988117 , 2.7371113 , 2.0493398 ,\n",
       "       2.095634  , 4.1768584 , 1.9162393 , 1.8867155 , 2.0155845 ,\n",
       "       1.8317618 , 3.4417992 , 1.5412837 , 1.7036965 , 2.1550775 ,\n",
       "       1.9955788 , 2.3334048 , 1.7424678 , 1.7887374 , 1.955642  ,\n",
       "       1.508084  ], dtype=float32)"
      ]
     },
     "execution_count": 39,
     "metadata": {},
     "output_type": "execute_result"
    }
   ],
   "source": [
    "moments_b['mean']"
   ]
  },
  {
   "cell_type": "code",
   "execution_count": 38,
   "metadata": {},
   "outputs": [
    {
     "name": "stdout",
     "output_type": "stream",
     "text": [
      "412.51288 1.8947008\n"
     ]
    }
   ],
   "source": [
    "print(np.mean(moments_s['mean']), np.mean(moments_b['mean']))"
   ]
  },
  {
   "cell_type": "code",
   "execution_count": 40,
   "metadata": {},
   "outputs": [],
   "source": [
    "import scipy\n",
    "from scipy.signal import savgol_filter"
   ]
  },
  {
   "cell_type": "code",
   "execution_count": 50,
   "metadata": {},
   "outputs": [],
   "source": [
    "def calc_occupancy(data_s, data_b, channels, order=10):\n",
    "    \n",
    "    datatype = [('channel', np.int16), \n",
    "                ('estimated occupancy', np.float32), \n",
    "                ('estimated occupancy error', np.float32),\n",
    "                ('iteration', np.int16),\n",
    "                ('occupancy', object), ('occupancy error', object), ('threshold', object), \n",
    "                ('occupancy smooth', object), ('scaling factor', np.float32), \n",
    "                ('entries ', np.int16)]\n",
    "    \n",
    "    Occupancy =  np.zeros(len(channels), dtype = datatype)\n",
    "    \n",
    "    moments_s = get_moments(data_s, channels)\n",
    "    moments_b = get_moments(data_b, channels)\n",
    "    \n",
    "    for i, ch in enumerate(channels):\n",
    "        area_s = data_s[data_s['channel']==ch]['area']\n",
    "        signal, bins     = np.histogram(area_s, range=(-1000, 5000), bins=6000)\n",
    "        \n",
    "        area_b = data_b[data_b['channel']==ch]['area']\n",
    "        background, bins = np.histogram(area_b, range=(-1000, 5000), bins=6000)\n",
    "        \n",
    "        E_s = moments_s[moments_s['channel']==ch]['mean']\n",
    "        \n",
    "        if E_s > 0:\n",
    "            threshold = -150\n",
    "        else:\n",
    "            threshold = -50\n",
    "\n",
    "        ini_threshold = threshold    \n",
    "        end_threshold = 100\n",
    "        start = np.digitize(-1000, bins)\n",
    "    \n",
    "        occupancy     = []\n",
    "        occupancy_err = []\n",
    "        thr           = []\n",
    "    \n",
    "        tot_entries_b = np.sum(background)\n",
    "    \n",
    "        while threshold < end_threshold: \n",
    "            bin_threshold = np.digitize(threshold, bins)\n",
    "\n",
    "            Ab = np.sum(background[start:bin_threshold])\n",
    "            As = np.sum(signal[start:bin_threshold])\n",
    "\n",
    "            if Ab > 0 and As > 0:\n",
    "                f = Ab/tot_entries_b\n",
    "                l = -np.log(As/Ab)\n",
    "                l_err = np.sqrt((np.exp(l) + 1. - 2.*(Ab/tot_entries_b))/Ab)\n",
    "\n",
    "                if l_err/l <= 0.05:\n",
    "                    occupancy.append(l)\n",
    "                    occupancy_err.append(l_err)\n",
    "                    thr.append(threshold)\n",
    "            threshold += 1\n",
    "\n",
    "        num = len(occupancy) - 1\n",
    "        if num % 2 == 0:\n",
    "            num = num - 1\n",
    "\n",
    "    occupancy_smooth = scipy.signal.savgol_filter(occupancy, num, order)\n",
    "    dummy = occupancy_smooth.argsort()[::-1]\n",
    "    for idx in range(0, len(dummy)):\n",
    "        if occupancy_err[dummy[idx]]/occupancy[dummy[idx]] < 0.01:           \n",
    "            estimated_occupancy = occupancy[dummy[idx]]\n",
    "            estimated_occupancy_err = occupancy_err[dummy[idx]]\n",
    "            itr = dummy[idx]\n",
    "            break\n",
    "        else:\n",
    "            estimated_occupancy = 0\n",
    "            estimated_occupancy_err = 0\n",
    "            itr = 0\n",
    "\n",
    "    Occupancy[i]['channel']                   = ch\n",
    "    Occupancy[i]['estimated occupancy']       = estimated_occupancy\n",
    "    Occupancy[i]['estimated occupancy error'] = estimated_occupancy_err\n",
    "    Occupancy[i]['iteration']                 = itr\n",
    "    Occupancy[i]['occupancy']                 = occupancy\n",
    "    Occupancy[i]['occupancy error']           = occupancy_err\n",
    "    Occupancy[i]['threshold']                 = thr\n",
    "    Occupancy[i]['occupancy smooth']          = occupancy_smooth\n",
    "    Occupancy[i]['scaling factor']            = f\n",
    "    Occupancy[i]['entries']                   = tot_entries_b\n",
    "    \n",
    "    return Occupancy"
   ]
  },
  {
   "cell_type": "code",
   "execution_count": 51,
   "metadata": {},
   "outputs": [
    {
     "name": "stdout",
     "output_type": "stream",
     "text": [
      "121\n",
      "121\n"
     ]
    },
    {
     "name": "stderr",
     "output_type": "stream",
     "text": [
      "/opt/XENONnT/anaconda/envs/XENONnT_development/lib/python3.6/site-packages/ipykernel_launcher.py:51: RuntimeWarning: divide by zero encountered in double_scalars\n",
      "/opt/XENONnT/anaconda/envs/XENONnT_development/lib/python3.6/site-packages/ipykernel_launcher.py:49: RuntimeWarning: invalid value encountered in sqrt\n"
     ]
    },
    {
     "ename": "ValueError",
     "evalue": "no field of name entries",
     "output_type": "error",
     "traceback": [
      "\u001b[0;31m---------------------------------------------------------------------------\u001b[0m",
      "\u001b[0;31mValueError\u001b[0m                                Traceback (most recent call last)",
      "\u001b[0;32m<ipython-input-51-f69f4761d1e5>\u001b[0m in \u001b[0;36m<module>\u001b[0;34m\u001b[0m\n\u001b[0;32m----> 1\u001b[0;31m \u001b[0mcalc_occupancy\u001b[0m\u001b[0;34m(\u001b[0m\u001b[0mdata_gs1\u001b[0m\u001b[0;34m,\u001b[0m \u001b[0mdata_noise\u001b[0m\u001b[0;34m,\u001b[0m \u001b[0mchannels\u001b[0m\u001b[0;34m)\u001b[0m\u001b[0;34m\u001b[0m\u001b[0;34m\u001b[0m\u001b[0m\n\u001b[0m",
      "\u001b[0;32m<ipython-input-50-7635fe632465>\u001b[0m in \u001b[0;36mcalc_occupancy\u001b[0;34m(data_s, data_b, channels, order)\u001b[0m\n\u001b[1;32m     81\u001b[0m     \u001b[0mOccupancy\u001b[0m\u001b[0;34m[\u001b[0m\u001b[0mi\u001b[0m\u001b[0;34m]\u001b[0m\u001b[0;34m[\u001b[0m\u001b[0;34m'occupancy smooth'\u001b[0m\u001b[0;34m]\u001b[0m          \u001b[0;34m=\u001b[0m \u001b[0moccupancy_smooth\u001b[0m\u001b[0;34m\u001b[0m\u001b[0;34m\u001b[0m\u001b[0m\n\u001b[1;32m     82\u001b[0m     \u001b[0mOccupancy\u001b[0m\u001b[0;34m[\u001b[0m\u001b[0mi\u001b[0m\u001b[0;34m]\u001b[0m\u001b[0;34m[\u001b[0m\u001b[0;34m'scaling factor'\u001b[0m\u001b[0;34m]\u001b[0m            \u001b[0;34m=\u001b[0m \u001b[0mf\u001b[0m\u001b[0;34m\u001b[0m\u001b[0;34m\u001b[0m\u001b[0m\n\u001b[0;32m---> 83\u001b[0;31m     \u001b[0mOccupancy\u001b[0m\u001b[0;34m[\u001b[0m\u001b[0mi\u001b[0m\u001b[0;34m]\u001b[0m\u001b[0;34m[\u001b[0m\u001b[0;34m'entries'\u001b[0m\u001b[0;34m]\u001b[0m                   \u001b[0;34m=\u001b[0m \u001b[0mtot_entries_b\u001b[0m\u001b[0;34m\u001b[0m\u001b[0;34m\u001b[0m\u001b[0m\n\u001b[0m\u001b[1;32m     84\u001b[0m \u001b[0;34m\u001b[0m\u001b[0m\n\u001b[1;32m     85\u001b[0m     \u001b[0;32mreturn\u001b[0m \u001b[0mOccupancy\u001b[0m\u001b[0;34m\u001b[0m\u001b[0;34m\u001b[0m\u001b[0m\n",
      "\u001b[0;31mValueError\u001b[0m: no field of name entries"
     ]
    }
   ],
   "source": [
    "calc_occupancy(data_gs1, data_noise, channels)"
   ]
  },
  {
   "cell_type": "code",
   "execution_count": null,
   "metadata": {},
   "outputs": [],
   "source": []
  }
 ],
 "metadata": {
  "kernelspec": {
   "display_name": "Python 3",
   "language": "python",
   "name": "python3"
  },
  "language_info": {
   "codemirror_mode": {
    "name": "ipython",
    "version": 3
   },
   "file_extension": ".py",
   "mimetype": "text/x-python",
   "name": "python",
   "nbconvert_exporter": "python",
   "pygments_lexer": "ipython3",
   "version": "3.6.10"
  }
 },
 "nbformat": 4,
 "nbformat_minor": 4
}
