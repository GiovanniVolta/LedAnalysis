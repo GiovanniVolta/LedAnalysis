{
 "cells": [
  {
   "cell_type": "code",
   "execution_count": 1,
   "metadata": {},
   "outputs": [
    {
     "name": "stdout",
     "output_type": "stream",
     "text": [
      "/home/gvolta/XENONnT/LedAnalysis/Script/configuration.ini\n"
     ]
    }
   ],
   "source": [
    "import sys\n",
    "sys.path.append('/home/gvolta/XENONnT/LedAnalysis/Script')\n",
    "from PMTanalysis import *\n",
    "PMT = PMTanalyzer('/home/gvolta/XENONnT/LedAnalysis/Script')"
   ]
  },
  {
   "cell_type": "code",
   "execution_count": 2,
   "metadata": {},
   "outputs": [],
   "source": [
    "import matplotlib as mpl\n",
    "import matplotlib.pyplot as plt\n",
    "from matplotlib import animation\n",
    "from matplotlib.animation import FuncAnimation\n",
    "from matplotlib.collections import PatchCollection\n",
    "from matplotlib.patches import Circle\n",
    "import matplotlib.colors as mcolors\n",
    "#mpl.use('Agg')"
   ]
  },
  {
   "cell_type": "code",
   "execution_count": 3,
   "metadata": {},
   "outputs": [
    {
     "name": "stderr",
     "output_type": "stream",
     "text": [
      "/dali/lgrandi/strax/miniconda3/envs/strax/lib/python3.6/site-packages/dask/dataframe/utils.py:15: FutureWarning: pandas.util.testing is deprecated. Use the functions in the public API at pandas.testing instead.\n",
      "  import pandas.util.testing as tm\n"
     ]
    }
   ],
   "source": [
    "import strax\n",
    "import straxen\n",
    "strax.Mailbox.DEFAULT_MAX_MESSAGES = 2\n",
    "st = straxen.contexts.strax_SPE()"
   ]
  },
  {
   "cell_type": "code",
   "execution_count": 4,
   "metadata": {},
   "outputs": [
    {
     "data": {
      "text/plain": [
       "['/home/gvolta/XENONnT/LedAnalysis/Script/configuration.ini']"
      ]
     },
     "execution_count": 4,
     "metadata": {},
     "output_type": "execute_result"
    }
   ],
   "source": [
    "Config = cp.ConfigParser()\n",
    "Config.read(PMT.config_file)"
   ]
  },
  {
   "cell_type": "markdown",
   "metadata": {},
   "source": [
    "## _Test of PMT analyzer class_"
   ]
  },
  {
   "cell_type": "code",
   "execution_count": 5,
   "metadata": {},
   "outputs": [
    {
     "name": "stderr",
     "output_type": "stream",
     "text": [
      "Checking data availability: 100%|██████████| 2/2 [00:24<00:00, 10.10s/it]\n"
     ]
    }
   ],
   "source": [
    "runs = st.select_runs(run_mode='LED*')"
   ]
  },
  {
   "cell_type": "code",
   "execution_count": 6,
   "metadata": {},
   "outputs": [],
   "source": [
    "run_led = str(PMT.run_led)\n",
    "run_noise = str(PMT.run_noise)"
   ]
  },
  {
   "cell_type": "code",
   "execution_count": null,
   "metadata": {},
   "outputs": [],
   "source": [
    "data_rr = st.get_array(run_led, 'raw_records', max_messages=3, max_workers=5, seconds_range=(0,20))"
   ]
  },
  {
   "cell_type": "code",
   "execution_count": null,
   "metadata": {},
   "outputs": [],
   "source": [
    "amplitude = PMT.get_amplitude(data=data_rr)"
   ]
  },
  {
   "cell_type": "code",
   "execution_count": null,
   "metadata": {},
   "outputs": [],
   "source": [
    "df_fit, df_led, window = PMT.get_ledwindow(amplitude=amplitude, channels=[i for i in range(0,249)])"
   ]
  },
  {
   "cell_type": "code",
   "execution_count": 9,
   "metadata": {},
   "outputs": [
    {
     "data": {
      "text/html": [
       "<div>\n",
       "<style scoped>\n",
       "    .dataframe tbody tr th:only-of-type {\n",
       "        vertical-align: middle;\n",
       "    }\n",
       "\n",
       "    .dataframe tbody tr th {\n",
       "        vertical-align: top;\n",
       "    }\n",
       "\n",
       "    .dataframe thead th {\n",
       "        text-align: right;\n",
       "    }\n",
       "</style>\n",
       "<table border=\"1\" class=\"dataframe\">\n",
       "  <thead>\n",
       "    <tr style=\"text-align: right;\">\n",
       "      <th></th>\n",
       "      <th>option</th>\n",
       "      <th>default</th>\n",
       "      <th>current</th>\n",
       "      <th>applies_to</th>\n",
       "      <th>help</th>\n",
       "    </tr>\n",
       "  </thead>\n",
       "  <tbody>\n",
       "    <tr>\n",
       "      <th>0</th>\n",
       "      <td>led_window</td>\n",
       "      <td>(150, 275)</td>\n",
       "      <td>(143, 168)</td>\n",
       "      <td>(led_calibration,)</td>\n",
       "      <td>Window (samples) where we expect the signal in LED calibration</td>\n",
       "    </tr>\n",
       "    <tr>\n",
       "      <th>1</th>\n",
       "      <td>noise_window</td>\n",
       "      <td>(0, 125)</td>\n",
       "      <td>(5, 30)</td>\n",
       "      <td>(led_calibration,)</td>\n",
       "      <td>Window (samples) to analysis the noise</td>\n",
       "    </tr>\n",
       "    <tr>\n",
       "      <th>2</th>\n",
       "      <td>channel_list</td>\n",
       "      <td>(0, 248)</td>\n",
       "      <td>&lt;OMITTED&gt;</td>\n",
       "      <td>(led_calibration,)</td>\n",
       "      <td>Three different light level for XENON1T: (0,36), (37,126), (127,248). Defalt value: all the PMTs</td>\n",
       "    </tr>\n",
       "    <tr>\n",
       "      <th>3</th>\n",
       "      <td>pax_raw_dir</td>\n",
       "      <td>/data/xenon/raw</td>\n",
       "      <td>&lt;OMITTED&gt;</td>\n",
       "      <td>(raw_records,)</td>\n",
       "      <td>Directory with raw pax datasets</td>\n",
       "    </tr>\n",
       "    <tr>\n",
       "      <th>4</th>\n",
       "      <td>stop_after_zips</td>\n",
       "      <td>0</td>\n",
       "      <td>&lt;OMITTED&gt;</td>\n",
       "      <td>(raw_records,)</td>\n",
       "      <td>Convert only this many zip files. 0 = all.</td>\n",
       "    </tr>\n",
       "    <tr>\n",
       "      <th>5</th>\n",
       "      <td>events_per_chunk</td>\n",
       "      <td>50</td>\n",
       "      <td>&lt;OMITTED&gt;</td>\n",
       "      <td>(raw_records,)</td>\n",
       "      <td>Number of events to yield per chunk</td>\n",
       "    </tr>\n",
       "    <tr>\n",
       "      <th>6</th>\n",
       "      <td>samples_per_record</td>\n",
       "      <td>110</td>\n",
       "      <td>&lt;OMITTED&gt;</td>\n",
       "      <td>(raw_records,)</td>\n",
       "      <td>Number of samples per record</td>\n",
       "    </tr>\n",
       "  </tbody>\n",
       "</table>\n",
       "</div>"
      ],
      "text/plain": [
       "               option          default     current          applies_to  \\\n",
       "0          led_window       (150, 275)  (143, 168)  (led_calibration,)   \n",
       "1        noise_window         (0, 125)     (5, 30)  (led_calibration,)   \n",
       "2        channel_list         (0, 248)   <OMITTED>  (led_calibration,)   \n",
       "3         pax_raw_dir  /data/xenon/raw   <OMITTED>      (raw_records,)   \n",
       "4     stop_after_zips                0   <OMITTED>      (raw_records,)   \n",
       "5    events_per_chunk               50   <OMITTED>      (raw_records,)   \n",
       "6  samples_per_record              110   <OMITTED>      (raw_records,)   \n",
       "\n",
       "                                                                                               help  \n",
       "0                                    Window (samples) where we expect the signal in LED calibration  \n",
       "1                                                            Window (samples) to analysis the noise  \n",
       "2  Three different light level for XENON1T: (0,36), (37,126), (127,248). Defalt value: all the PMTs  \n",
       "3                                                                   Directory with raw pax datasets  \n",
       "4                                                        Convert only this many zip files. 0 = all.  \n",
       "5                                                               Number of events to yield per chunk  \n",
       "6                                                                      Number of samples per record  "
      ]
     },
     "execution_count": 9,
     "metadata": {},
     "output_type": "execute_result"
    }
   ],
   "source": [
    "led_window   = [Config.getint('window_pars','led_windows_left'), Config.getint('window_pars','led_windows_right')]\n",
    "noise_window = [Config.getint('window_pars','noise_windows_left'), Config.getint('window_pars','noise_windows_right')]\n",
    "\n",
    "st = st.new_context(config=dict(led_window=(led_window[0],led_window[1]), \n",
    "                                noise_window=(noise_window[0], noise_window[1])))\n",
    "st.show_config('led_calibration')"
   ]
  },
  {
   "cell_type": "code",
   "execution_count": 10,
   "metadata": {
    "scrolled": false
   },
   "outputs": [],
   "source": [
    "data_led = st.get_array(run_led, 'led_calibration', max_workers=10)"
   ]
  },
  {
   "cell_type": "code",
   "execution_count": 11,
   "metadata": {},
   "outputs": [
    {
     "data": {
      "text/plain": [
       "array([(  6,   5, 4,   0, 1519037400000123910, 10, 600),\n",
       "       ( 22,   3, 7,   1, 1519037400000123910, 10, 600),\n",
       "       (  9,   3, 4,   2, 1519037400000123910, 10, 600), ...,\n",
       "       (253,  95, 1, 227, 1519037880900775250, 10, 600),\n",
       "       (272, 121, 3, 235, 1519037880900775250, 10, 600),\n",
       "       ( 21,   4, 2, 243, 1519037880900775250, 10, 600)],\n",
       "      dtype=[(('Area averaged in integration windows', 'area'), '<i4'), (('Amplitude in LED window', 'amplitude_led'), '<i4'), (('Amplitude in off LED window', 'amplitude_noise'), '<i4'), (('Channel', 'channel'), '<i2'), (('Start time of the interval (ns since unix epoch)', 'time'), '<i8'), (('Time resolution in ns', 'dt'), '<i2'), (('Length of the interval in samples', 'length'), '<i4')])"
      ]
     },
     "execution_count": 11,
     "metadata": {},
     "output_type": "execute_result"
    }
   ],
   "source": [
    "data_led"
   ]
  },
  {
   "cell_type": "code",
   "execution_count": null,
   "metadata": {},
   "outputs": [],
   "source": [
    "def ScalingSpectrum(data, n_channel_s = np.arange(0, 249, 1)):\n",
    "    \n",
    "    # In order to subtract out the contribution of the noise to the amplitude spectrum, we will assume that \n",
    "    # the fraction of SPE signals with amplitude below a threshold of(3-7) ADC counts is very small. \n",
    "    # We then scale down the off-time amplitude spectrum such that the total counts below the \n",
    "    # (3-7) ADC count threshold is the same as in the LED spectrum.\n",
    "    # The spectrum also contains contributions of 2 or more photoelectrons. From the scaling down factor \n",
    "    # of the noise s, assuming a Poisson distribution of photoelectrons we estimate that the average \n",
    "    # number of photoelectrons (occupancy) in the LED run was lambda = -ln(s) = 0.566.\n",
    "    # The fraction of events with 2 or more photoelectrons is then 1- exp(-lambda)(1+lambda) = 0.111. \n",
    "    # The contribution of 2 or more photoelectrons leads to a slight over-estimate in the acceptances calculated.\n",
    "    \n",
    "    df_spe = pd.DataFrame({'channel': [ ], \n",
    "                           'spectrum led': [ ], 'bins led': [ ],\n",
    "                           'spectrum noise': [ ], 'bins noise': [ ],\n",
    "                           'spectrum noise scaled 3 bin': [ ], 'occupancy 3 bin': [ ],\n",
    "                           'spectrum noise scaled 4 bin': [ ], 'occupancy 4 bin': [ ],\n",
    "                           'spectrum noise scaled 5 bin': [ ], 'occupancy 5 bin': [ ],\n",
    "                           'spectrum noise scaled 6 bin': [ ], 'occupancy 6 bin': [ ],\n",
    "                           'spectrum noise scaled 7 bin': [ ], 'occupancy 7 bin': [ ]})\n",
    "    \n",
    "    #SPE = np.zeros((len(n_channel_s)), dtype = datatype)\n",
    "\n",
    "    for n_channel in tqdm(n_channel_s):\n",
    "        arr = data[data['channel'] == n_channel]\n",
    "\n",
    "        LED, bins_LED = np.histogram(arr['amplitudeLED'], bins=250, range=(0,500))\n",
    "        bins_LED_center = 0.5 * (bins_LED[1:] + bins_LED[:-1])\n",
    "        noise, bins_noise = np.histogram(arr['amplitudeNOISE'], bins=250, range=(0,500))\n",
    "        bins_noise_center = 0.5 * (bins_noise[1:] + bins_noise[:-1])\n",
    "        \n",
    "        SPE[n_channel]['pmt'] = n_channel\n",
    "        SPE[n_channel]['spectrumLED'] = LED\n",
    "        SPE[n_channel]['bins_LED_center'] = bins_LED_center\n",
    "        SPE[n_channel]['spectrumNOISE'] = noise\n",
    "        SPE[n_channel]['bins_NOISE_center'] = bins_noise_center\n",
    "        \n",
    "        for i in range(3,8):\n",
    "            ADC_correction = i\n",
    "            scaling_coeff = LED[:i].sum()/noise[:i].sum() \n",
    "            SPE[n_channel]['spectrumNOISE_scaled_'+str(i)+'bin'] = noise*scaling_coeff\n",
    "            SPE[n_channel]['occupancy_'+str(i)+'bin'] = -np.log(scaling_coeff)\n",
    "    \n",
    "    return SPE"
   ]
  }
 ],
 "metadata": {
  "kernelspec": {
   "display_name": "Python [conda env:strax] *",
   "language": "python",
   "name": "conda-env-strax-py"
  },
  "language_info": {
   "codemirror_mode": {
    "name": "ipython",
    "version": 3
   },
   "file_extension": ".py",
   "mimetype": "text/x-python",
   "name": "python",
   "nbconvert_exporter": "python",
   "pygments_lexer": "ipython3",
   "version": "3.6.8"
  }
 },
 "nbformat": 4,
 "nbformat_minor": 2
}
