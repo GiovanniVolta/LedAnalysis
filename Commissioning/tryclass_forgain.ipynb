{
 "cells": [
  {
   "cell_type": "code",
   "execution_count": 1,
   "metadata": {},
   "outputs": [
    {
     "name": "stdout",
     "output_type": "stream",
     "text": [
      "\n",
      "\n",
      "\n",
      "\n",
      "___   ___  _______ .__   __.   ______   .__   __.        .___________.   __  __             _____    _____    ____  \n",
      "\\  \\ /  / |   ____||  \\ |  |  /  __  \\  |  \\ |  |        |           |  |  \\/  |    /\\     / ____|  |_   _| /  ___| \n",
      " \\  V  /  |  |__   |   \\|  | |  |  |  | |   \\|  |  _   _ `---|  |----`  | \\  / |   /  \\    | |  __    | |   | |      \n",
      "  >   <   |   __|  |  . `  | |  |  |  | |  . `  | | \\ | |    |  |       | |\\/| |  / /\\ \\   | | |_ |   | |   | |      \n",
      " /  .  \\  |  |____ |  |\\   | |  `--`  | |  |\\   | |  \\| |    |  |       | |  | | / ____ \\  | |__| |  _| |_  | |___  \n",
      "/__/ \\__\\ |_______||__| \\__|  \\______/  |__| \\__| |_|\\__|    |__|       |_|  |_|/_/    \\_\\ \\ _____| |_____| \\_____|  \n",
      "powered by Giovanni Volta, Chiara Capelli and Shingo Kazama (c)\n",
      "\n",
      "\n",
      "\n",
      "\n",
      "Configuration file:  /home/gvolta/XENONnT/gain_spe/configuration.ini\n"
     ]
    }
   ],
   "source": [
    "import sys\n",
    "sys.path.append('/home/gvolta/XENONnT/gain_spe/')\n",
    "from PMTanalysis import *\n",
    "PMT = PMTanalyzer('/home/gvolta/XENONnT/gain_spe')"
   ]
  },
  {
   "cell_type": "code",
   "execution_count": 2,
   "metadata": {},
   "outputs": [],
   "source": [
    "import matplotlib as mpl\n",
    "import matplotlib.pyplot as plt\n",
    "from matplotlib import animation\n",
    "from matplotlib.animation import FuncAnimation\n",
    "from matplotlib.collections import PatchCollection\n",
    "from matplotlib.patches import Circle\n",
    "import matplotlib.colors as mcolors\n",
    "#mpl.use('Agg')"
   ]
  },
  {
   "cell_type": "code",
   "execution_count": 3,
   "metadata": {},
   "outputs": [
    {
     "name": "stderr",
     "output_type": "stream",
     "text": [
      "/opt/XENONnT/anaconda/envs/XENONnT_development/lib/python3.6/site-packages/strax/context.py:202: UserWarning: Unknown config option free_options; will do nothing.\n",
      "  warnings.warn(f\"Unknown config option {k}; will do nothing.\")\n",
      "/opt/XENONnT/anaconda/envs/XENONnT_development/lib/python3.6/site-packages/strax/context.py:208: UserWarning: Invalid context option free_options; will do nothing.\n",
      "  warnings.warn(f\"Invalid context option {k}; will do nothing.\")\n"
     ]
    }
   ],
   "source": [
    "import strax\n",
    "import straxen\n",
    "strax.Mailbox.DEFAULT_MAX_MESSAGES = 2\n",
    "st = straxen.contexts.xenon1t_led()"
   ]
  },
  {
   "cell_type": "code",
   "execution_count": 4,
   "metadata": {},
   "outputs": [
    {
     "data": {
      "text/plain": [
       "['/home/gvolta/XENONnT/gain_spe/configuration.ini']"
      ]
     },
     "execution_count": 4,
     "metadata": {},
     "output_type": "execute_result"
    }
   ],
   "source": [
    "Config = cp.ConfigParser()\n",
    "Config.read(PMT.config_file)"
   ]
  },
  {
   "cell_type": "markdown",
   "metadata": {},
   "source": [
    "## _Test of PMT analyzer class_"
   ]
  },
  {
   "cell_type": "code",
   "execution_count": 5,
   "metadata": {},
   "outputs": [],
   "source": [
    "led_window   = [Config.getint('window_pars','led_windows_left'), \n",
    "                Config.getint('window_pars','led_windows_right')]\n",
    "noise_window = [Config.getint('window_pars','noise_windows_left'), \n",
    "                Config.getint('window_pars','noise_windows_right')]"
   ]
  },
  {
   "cell_type": "code",
   "execution_count": 6,
   "metadata": {},
   "outputs": [
    {
     "name": "stderr",
     "output_type": "stream",
     "text": [
      "/opt/XENONnT/anaconda/envs/XENONnT_development/lib/python3.6/site-packages/strax/context.py:370: UserWarning: Option check_raw_record_overlaps not taken by any registered plugin\n",
      "  warnings.warn(f\"Option {k} not taken by any registered plugin\")\n",
      "/opt/XENONnT/anaconda/envs/XENONnT_development/lib/python3.6/site-packages/strax/context.py:370: UserWarning: Option n_tpc_pmts not taken by any registered plugin\n",
      "  warnings.warn(f\"Option {k} not taken by any registered plugin\")\n",
      "/opt/XENONnT/anaconda/envs/XENONnT_development/lib/python3.6/site-packages/strax/context.py:370: UserWarning: Option channel_map not taken by any registered plugin\n",
      "  warnings.warn(f\"Option {k} not taken by any registered plugin\")\n",
      "/opt/XENONnT/anaconda/envs/XENONnT_development/lib/python3.6/site-packages/strax/context.py:370: UserWarning: Option hev_gain_model not taken by any registered plugin\n",
      "  warnings.warn(f\"Option {k} not taken by any registered plugin\")\n",
      "/opt/XENONnT/anaconda/envs/XENONnT_development/lib/python3.6/site-packages/strax/context.py:370: UserWarning: Option gain_model not taken by any registered plugin\n",
      "  warnings.warn(f\"Option {k} not taken by any registered plugin\")\n",
      "/opt/XENONnT/anaconda/envs/XENONnT_development/lib/python3.6/site-packages/strax/context.py:370: UserWarning: Option pmt_pulse_filter not taken by any registered plugin\n",
      "  warnings.warn(f\"Option {k} not taken by any registered plugin\")\n",
      "/opt/XENONnT/anaconda/envs/XENONnT_development/lib/python3.6/site-packages/strax/context.py:370: UserWarning: Option tail_veto_threshold not taken by any registered plugin\n",
      "  warnings.warn(f\"Option {k} not taken by any registered plugin\")\n",
      "/opt/XENONnT/anaconda/envs/XENONnT_development/lib/python3.6/site-packages/strax/context.py:370: UserWarning: Option save_outside_hits not taken by any registered plugin\n",
      "  warnings.warn(f\"Option {k} not taken by any registered plugin\")\n",
      "/opt/XENONnT/anaconda/envs/XENONnT_development/lib/python3.6/site-packages/strax/context.py:370: UserWarning: Option hit_min_amplitude not taken by any registered plugin\n",
      "  warnings.warn(f\"Option {k} not taken by any registered plugin\")\n"
     ]
    },
    {
     "data": {
      "text/html": [
       "<div>\n",
       "<style scoped>\n",
       "    .dataframe tbody tr th:only-of-type {\n",
       "        vertical-align: middle;\n",
       "    }\n",
       "\n",
       "    .dataframe tbody tr th {\n",
       "        vertical-align: top;\n",
       "    }\n",
       "\n",
       "    .dataframe thead th {\n",
       "        text-align: right;\n",
       "    }\n",
       "</style>\n",
       "<table border=\"1\" class=\"dataframe\">\n",
       "  <thead>\n",
       "    <tr style=\"text-align: right;\">\n",
       "      <th></th>\n",
       "      <th>option</th>\n",
       "      <th>default</th>\n",
       "      <th>current</th>\n",
       "      <th>applies_to</th>\n",
       "      <th>help</th>\n",
       "    </tr>\n",
       "  </thead>\n",
       "  <tbody>\n",
       "    <tr>\n",
       "      <th>0</th>\n",
       "      <td>baseline_window</td>\n",
       "      <td>(0, 50)</td>\n",
       "      <td>&lt;OMITTED&gt;</td>\n",
       "      <td>(led_calibration,)</td>\n",
       "      <td>Window (samples) for baseline calculation.</td>\n",
       "    </tr>\n",
       "    <tr>\n",
       "      <th>1</th>\n",
       "      <td>led_window</td>\n",
       "      <td>(50, 115)</td>\n",
       "      <td>(144, 181)</td>\n",
       "      <td>(led_calibration,)</td>\n",
       "      <td>Window (samples) where we expect the signal in LED calibration</td>\n",
       "    </tr>\n",
       "    <tr>\n",
       "      <th>2</th>\n",
       "      <td>noise_window</td>\n",
       "      <td>(120, 185)</td>\n",
       "      <td>(50, 87)</td>\n",
       "      <td>(led_calibration,)</td>\n",
       "      <td>Window (samples) to analysis the noise</td>\n",
       "    </tr>\n",
       "    <tr>\n",
       "      <th>3</th>\n",
       "      <td>channel_list</td>\n",
       "      <td>(0, 248)</td>\n",
       "      <td>(127, 131)</td>\n",
       "      <td>(led_calibration,)</td>\n",
       "      <td>Three different light level for XENON1T: (0,36), (37,126), (127,248). Defalt value: all the PMTs</td>\n",
       "    </tr>\n",
       "    <tr>\n",
       "      <th>4</th>\n",
       "      <td>pax_raw_dir</td>\n",
       "      <td>/data/xenon/raw</td>\n",
       "      <td>&lt;OMITTED&gt;</td>\n",
       "      <td>(raw_records,)</td>\n",
       "      <td>Directory with raw pax datasets</td>\n",
       "    </tr>\n",
       "    <tr>\n",
       "      <th>5</th>\n",
       "      <td>stop_after_zips</td>\n",
       "      <td>0</td>\n",
       "      <td>&lt;OMITTED&gt;</td>\n",
       "      <td>(raw_records,)</td>\n",
       "      <td>Convert only this many zip files. 0 = all.</td>\n",
       "    </tr>\n",
       "    <tr>\n",
       "      <th>6</th>\n",
       "      <td>events_per_chunk</td>\n",
       "      <td>50</td>\n",
       "      <td>&lt;OMITTED&gt;</td>\n",
       "      <td>(raw_records,)</td>\n",
       "      <td>Number of events to yield per chunk</td>\n",
       "    </tr>\n",
       "    <tr>\n",
       "      <th>7</th>\n",
       "      <td>samples_per_record</td>\n",
       "      <td>110</td>\n",
       "      <td>&lt;OMITTED&gt;</td>\n",
       "      <td>(raw_records,)</td>\n",
       "      <td>Number of samples per record</td>\n",
       "    </tr>\n",
       "  </tbody>\n",
       "</table>\n",
       "</div>"
      ],
      "text/plain": [
       "               option          default     current          applies_to  \\\n",
       "0     baseline_window          (0, 50)   <OMITTED>  (led_calibration,)   \n",
       "1          led_window        (50, 115)  (144, 181)  (led_calibration,)   \n",
       "2        noise_window       (120, 185)    (50, 87)  (led_calibration,)   \n",
       "3        channel_list         (0, 248)  (127, 131)  (led_calibration,)   \n",
       "4         pax_raw_dir  /data/xenon/raw   <OMITTED>      (raw_records,)   \n",
       "5     stop_after_zips                0   <OMITTED>      (raw_records,)   \n",
       "6    events_per_chunk               50   <OMITTED>      (raw_records,)   \n",
       "7  samples_per_record              110   <OMITTED>      (raw_records,)   \n",
       "\n",
       "                                                                                               help  \n",
       "0                                                        Window (samples) for baseline calculation.  \n",
       "1                                    Window (samples) where we expect the signal in LED calibration  \n",
       "2                                                            Window (samples) to analysis the noise  \n",
       "3  Three different light level for XENON1T: (0,36), (37,126), (127,248). Defalt value: all the PMTs  \n",
       "4                                                                   Directory with raw pax datasets  \n",
       "5                                                        Convert only this many zip files. 0 = all.  \n",
       "6                                                               Number of events to yield per chunk  \n",
       "7                                                                      Number of samples per record  "
      ]
     },
     "execution_count": 6,
     "metadata": {},
     "output_type": "execute_result"
    }
   ],
   "source": [
    "st = st.new_context(config=dict(led_window=(led_window[0],led_window[1]), \n",
    "                                noise_window=(noise_window[0], noise_window[1]),\n",
    "                                channel_list=(127,131)))\n",
    "st.show_config('led_calibration')"
   ]
  },
  {
   "cell_type": "code",
   "execution_count": 7,
   "metadata": {},
   "outputs": [
    {
     "name": "stderr",
     "output_type": "stream",
     "text": [
      "/opt/XENONnT/anaconda/envs/XENONnT_development/lib/python3.6/site-packages/strax/context.py:370: UserWarning: Option check_raw_record_overlaps not taken by any registered plugin\n",
      "  warnings.warn(f\"Option {k} not taken by any registered plugin\")\n",
      "/opt/XENONnT/anaconda/envs/XENONnT_development/lib/python3.6/site-packages/strax/context.py:370: UserWarning: Option n_tpc_pmts not taken by any registered plugin\n",
      "  warnings.warn(f\"Option {k} not taken by any registered plugin\")\n",
      "/opt/XENONnT/anaconda/envs/XENONnT_development/lib/python3.6/site-packages/strax/context.py:370: UserWarning: Option channel_map not taken by any registered plugin\n",
      "  warnings.warn(f\"Option {k} not taken by any registered plugin\")\n",
      "/opt/XENONnT/anaconda/envs/XENONnT_development/lib/python3.6/site-packages/strax/context.py:370: UserWarning: Option hev_gain_model not taken by any registered plugin\n",
      "  warnings.warn(f\"Option {k} not taken by any registered plugin\")\n",
      "/opt/XENONnT/anaconda/envs/XENONnT_development/lib/python3.6/site-packages/strax/context.py:370: UserWarning: Option gain_model not taken by any registered plugin\n",
      "  warnings.warn(f\"Option {k} not taken by any registered plugin\")\n",
      "/opt/XENONnT/anaconda/envs/XENONnT_development/lib/python3.6/site-packages/strax/context.py:370: UserWarning: Option pmt_pulse_filter not taken by any registered plugin\n",
      "  warnings.warn(f\"Option {k} not taken by any registered plugin\")\n",
      "/opt/XENONnT/anaconda/envs/XENONnT_development/lib/python3.6/site-packages/strax/context.py:370: UserWarning: Option tail_veto_threshold not taken by any registered plugin\n",
      "  warnings.warn(f\"Option {k} not taken by any registered plugin\")\n",
      "/opt/XENONnT/anaconda/envs/XENONnT_development/lib/python3.6/site-packages/strax/context.py:370: UserWarning: Option save_outside_hits not taken by any registered plugin\n",
      "  warnings.warn(f\"Option {k} not taken by any registered plugin\")\n",
      "/opt/XENONnT/anaconda/envs/XENONnT_development/lib/python3.6/site-packages/strax/context.py:370: UserWarning: Option hit_min_amplitude not taken by any registered plugin\n",
      "  warnings.warn(f\"Option {k} not taken by any registered plugin\")\n"
     ]
    },
    {
     "data": {
      "text/html": [
       "<div>\n",
       "<style scoped>\n",
       "    .dataframe tbody tr th:only-of-type {\n",
       "        vertical-align: middle;\n",
       "    }\n",
       "\n",
       "    .dataframe tbody tr th {\n",
       "        vertical-align: top;\n",
       "    }\n",
       "\n",
       "    .dataframe thead th {\n",
       "        text-align: right;\n",
       "    }\n",
       "</style>\n",
       "<table border=\"1\" class=\"dataframe\">\n",
       "  <thead>\n",
       "    <tr style=\"text-align: right;\">\n",
       "      <th></th>\n",
       "      <th>Field name</th>\n",
       "      <th>Data type</th>\n",
       "      <th>Comment</th>\n",
       "    </tr>\n",
       "  </thead>\n",
       "  <tbody>\n",
       "    <tr>\n",
       "      <th>0</th>\n",
       "      <td>area_led</td>\n",
       "      <td>float64</td>\n",
       "      <td>Area averaged in integration LED windows</td>\n",
       "    </tr>\n",
       "    <tr>\n",
       "      <th>1</th>\n",
       "      <td>area_noise</td>\n",
       "      <td>float64</td>\n",
       "      <td>Area averaged in integration noise windows</td>\n",
       "    </tr>\n",
       "    <tr>\n",
       "      <th>2</th>\n",
       "      <td>amplitude_led</td>\n",
       "      <td>int32</td>\n",
       "      <td>Amplitude in LED window</td>\n",
       "    </tr>\n",
       "    <tr>\n",
       "      <th>3</th>\n",
       "      <td>amplitude_noise</td>\n",
       "      <td>int32</td>\n",
       "      <td>Amplitude in off LED window</td>\n",
       "    </tr>\n",
       "    <tr>\n",
       "      <th>4</th>\n",
       "      <td>channel</td>\n",
       "      <td>int16</td>\n",
       "      <td>Channel</td>\n",
       "    </tr>\n",
       "    <tr>\n",
       "      <th>5</th>\n",
       "      <td>time</td>\n",
       "      <td>int64</td>\n",
       "      <td>Start time of the interval (ns since unix epoch)</td>\n",
       "    </tr>\n",
       "    <tr>\n",
       "      <th>6</th>\n",
       "      <td>dt</td>\n",
       "      <td>int16</td>\n",
       "      <td>Time resolution in ns</td>\n",
       "    </tr>\n",
       "    <tr>\n",
       "      <th>7</th>\n",
       "      <td>length</td>\n",
       "      <td>int32</td>\n",
       "      <td>Length of the interval in samples</td>\n",
       "    </tr>\n",
       "  </tbody>\n",
       "</table>\n",
       "</div>"
      ],
      "text/plain": [
       "        Field name Data type                                           Comment\n",
       "0         area_led   float64          Area averaged in integration LED windows\n",
       "1       area_noise   float64        Area averaged in integration noise windows\n",
       "2    amplitude_led     int32                           Amplitude in LED window\n",
       "3  amplitude_noise     int32                       Amplitude in off LED window\n",
       "4          channel     int16                                           Channel\n",
       "5             time     int64  Start time of the interval (ns since unix epoch)\n",
       "6               dt     int16                             Time resolution in ns\n",
       "7           length     int32                 Length of the interval in samples"
      ]
     },
     "execution_count": 7,
     "metadata": {},
     "output_type": "execute_result"
    }
   ],
   "source": [
    "st.data_info('led_calibration')"
   ]
  },
  {
   "cell_type": "code",
   "execution_count": 8,
   "metadata": {},
   "outputs": [],
   "source": [
    "run_gain_step1 = str(PMT.run_gain_step1)\n",
    "run_gain_step0 = str(PMT.run_gain_step0)"
   ]
  },
  {
   "cell_type": "code",
   "execution_count": 9,
   "metadata": {},
   "outputs": [
    {
     "name": "stderr",
     "output_type": "stream",
     "text": [
      "/opt/XENONnT/anaconda/envs/XENONnT_development/lib/python3.6/site-packages/strax/context.py:370: UserWarning: Option check_raw_record_overlaps not taken by any registered plugin\n",
      "  warnings.warn(f\"Option {k} not taken by any registered plugin\")\n",
      "/opt/XENONnT/anaconda/envs/XENONnT_development/lib/python3.6/site-packages/strax/context.py:370: UserWarning: Option n_tpc_pmts not taken by any registered plugin\n",
      "  warnings.warn(f\"Option {k} not taken by any registered plugin\")\n",
      "/opt/XENONnT/anaconda/envs/XENONnT_development/lib/python3.6/site-packages/strax/context.py:370: UserWarning: Option channel_map not taken by any registered plugin\n",
      "  warnings.warn(f\"Option {k} not taken by any registered plugin\")\n",
      "/opt/XENONnT/anaconda/envs/XENONnT_development/lib/python3.6/site-packages/strax/context.py:370: UserWarning: Option hev_gain_model not taken by any registered plugin\n",
      "  warnings.warn(f\"Option {k} not taken by any registered plugin\")\n",
      "/opt/XENONnT/anaconda/envs/XENONnT_development/lib/python3.6/site-packages/strax/context.py:370: UserWarning: Option gain_model not taken by any registered plugin\n",
      "  warnings.warn(f\"Option {k} not taken by any registered plugin\")\n",
      "/opt/XENONnT/anaconda/envs/XENONnT_development/lib/python3.6/site-packages/strax/context.py:370: UserWarning: Option pmt_pulse_filter not taken by any registered plugin\n",
      "  warnings.warn(f\"Option {k} not taken by any registered plugin\")\n",
      "/opt/XENONnT/anaconda/envs/XENONnT_development/lib/python3.6/site-packages/strax/context.py:370: UserWarning: Option tail_veto_threshold not taken by any registered plugin\n",
      "  warnings.warn(f\"Option {k} not taken by any registered plugin\")\n",
      "/opt/XENONnT/anaconda/envs/XENONnT_development/lib/python3.6/site-packages/strax/context.py:370: UserWarning: Option save_outside_hits not taken by any registered plugin\n",
      "  warnings.warn(f\"Option {k} not taken by any registered plugin\")\n",
      "/opt/XENONnT/anaconda/envs/XENONnT_development/lib/python3.6/site-packages/strax/context.py:370: UserWarning: Option hit_min_amplitude not taken by any registered plugin\n",
      "  warnings.warn(f\"Option {k} not taken by any registered plugin\")\n"
     ]
    }
   ],
   "source": [
    "data_gs1 = st.get_array(run_gain_step1, 'led_calibration', max_workers=10)\n"
   ]
  },
  {
   "cell_type": "raw",
   "metadata": {},
   "source": [
    "data_noise = st.get_array(run_gain_step0, 'led_calibration', max_workers=10)\n",
    "plt.hist(data_noise[data_noise['channel']==127]['area'], bins=2000, range=[-100, 2000])\n",
    "plt.hist(data_gs1[data_gs1['channel']==127]['area'], bins=2000, range=[-100, 2000])\n",
    "plt.yscale('log')\n",
    "plt.show()"
   ]
  },
  {
   "cell_type": "code",
   "execution_count": 28,
   "metadata": {},
   "outputs": [
    {
     "data": {
      "image/png": "[encoded data removed]",
      "text/plain": [
       "<Figure size 1800x432 with 2 Axes>"
      ]
     },
     "metadata": {
      "needs_background": "light"
     },
     "output_type": "display_data"
    }
   ],
   "source": [
    "plt.figure(figsize=(25,6))\n",
    "plt.subplot(121)\n",
    "plt.hist(data_gs1[data_gs1['channel']==130]['area_noise'], bins=3000, range=[-100, 3000], label='noise')\n",
    "plt.hist(data_gs1[data_gs1['channel']==130]['area_led'], bins=3000, range=[-100, 3000], label='led')\n",
    "plt.yscale('log')\n",
    "plt.subplot(122)\n",
    "plt.hist(data_gs1[data_gs1['channel']==130]['amplitude_noise'], bins=801, range=[-1, 800], label='noise')\n",
    "plt.hist(data_gs1[data_gs1['channel']==130]['amplitude_led'], bins=801, range=[-1, 800], label='led')\n",
    "plt.yscale('log')\n",
    "plt.show()"
   ]
  },
  {
   "cell_type": "code",
   "execution_count": 18,
   "metadata": {},
   "outputs": [],
   "source": [
    "led = np.zeros(len(data_gs1), dtype = np.dtype([('channel', 'int16'), ('area', 'float64')]))\n",
    "noise = np.zeros(len(data_gs1), dtype = np.dtype([('channel', 'int16'), ('area', 'float64')]))\n",
    "led['channel'] = data_gs1['channel']\n",
    "led['area'] = data_gs1['area_led']\n",
    "noise['channel'] = data_gs1['channel']\n",
    "noise['area'] = data_gs1['area_noise']"
   ]
  },
  {
   "cell_type": "code",
   "execution_count": 20,
   "metadata": {},
   "outputs": [
    {
     "name": "stderr",
     "output_type": "stream",
     "text": [
      "/home/gvolta/XENONnT/gain_spe/PMTanalysis.py:551: RuntimeWarning: divide by zero encountered in double_scalars\n",
      "  if l_err/l <= 0.05:\n",
      "/home/gvolta/XENONnT/gain_spe/PMTanalysis.py:564: RuntimeWarning: divide by zero encountered in double_scalars\n",
      "  if occupancy_err[dummy[idx]]/occupancy[dummy[idx]] < 0.01:\n"
     ]
    }
   ],
   "source": [
    "O = PMT.get_occupancy(led, noise, channels)"
   ]
  },
  {
   "cell_type": "code",
   "execution_count": 25,
   "metadata": {},
   "outputs": [
    {
     "data": {
      "text/plain": [
       "dtype([('channel', '<i2'), ('estimated occupancy', '<f4'), ('estimated occupancy error', '<f4'), ('iteration', '<i2'), ('occupancy', 'O'), ('occupancy error', 'O'), ('threshold', 'O'), ('occupancy smooth', 'O'), ('scaling factor', '<f4'), ('entries', '<i2')])"
      ]
     },
     "execution_count": 25,
     "metadata": {},
     "output_type": "execute_result"
    }
   ],
   "source": [
    "O.dtype"
   ]
  },
  {
   "cell_type": "code",
   "execution_count": 21,
   "metadata": {},
   "outputs": [
    {
     "name": "stderr",
     "output_type": "stream",
     "text": [
      "/home/gvolta/XENONnT/gain_spe/PMTanalysis.py:652: RuntimeWarning: invalid value encountered in sqrt\n",
      "  gain_err = self.get_gainconversion(np.sqrt(EPsi_stat_err)) + self.get_gainconversion(EPsi_sys_err)\n",
      "/home/gvolta/XENONnT/gain_spe/PMTanalysis.py:646: RuntimeWarning: divide by zero encountered in true_divide\n",
      "  EPsi = (E_s - E_b)/occupancy\n",
      "/home/gvolta/XENONnT/gain_spe/PMTanalysis.py:647: RuntimeWarning: divide by zero encountered in true_divide\n",
      "  VPsi = (V_s - V_b)/occupancy - EPsi**2\n",
      "/home/gvolta/XENONnT/gain_spe/PMTanalysis.py:648: RuntimeWarning: invalid value encountered in add\n",
      "  EPsi_stat_err = (occupancy*(EPsi**2 + VPsi) + 2.*V_b)/(tot_N*occupancy**2) + (EPsi*EPsi*(np.exp(occupancy) + 1. - 2.*f_b))/(f_b*tot_N*occupancy**2)\n",
      "/home/gvolta/XENONnT/gain_spe/PMTanalysis.py:649: RuntimeWarning: divide by zero encountered in true_divide\n",
      "  EPsi_sys_err = (E_s - E_b)*occupancy_err/(occupancy**2)\n"
     ]
    }
   ],
   "source": [
    "Gain = PMT.get_gain(led, noise, channels)"
   ]
  },
  {
   "cell_type": "code",
   "execution_count": 27,
   "metadata": {},
   "outputs": [
    {
     "data": {
      "text/plain": [
       "array([(127, 4.7322264, nan), (128, 2.1941166, nan),\n",
       "       (129, 2.5594783, nan), (130,      -inf, nan)],\n",
       "      dtype=[('channel', '<i2'), ('gain', '<f4'), ('gain error', '<f4')])"
      ]
     },
     "execution_count": 27,
     "metadata": {},
     "output_type": "execute_result"
    }
   ],
   "source": [
    "Gain"
   ]
  },
  {
   "cell_type": "code",
   "execution_count": 30,
   "metadata": {},
   "outputs": [],
   "source": [
    "channels = np.arange(127, 131, 1, dtype=int)"
   ]
  },
  {
   "cell_type": "code",
   "execution_count": 35,
   "metadata": {},
   "outputs": [
    {
     "data": {
      "text/plain": [
       "[<matplotlib.lines.Line2D at 0x7f62c4a9d550>]"
      ]
     },
     "execution_count": 35,
     "metadata": {},
     "output_type": "execute_result"
    },
    {
     "data": {
      "image/png": "[encoded data removed]",
      "text/plain": [
       "<Figure size 1080x360 with 2 Axes>"
      ]
     },
     "metadata": {
      "needs_background": "light"
     },
     "output_type": "display_data"
    }
   ],
   "source": [
    "def get_moments(data, channels):\n",
    "    ''' \n",
    "    Function that compute first and second moments (mean and variance) of data distribution.\n",
    "\n",
    "    Args:\n",
    "        1. data: PMT(s) array. The array should have channel variable.\n",
    "        2. channels: list of PMTs n° to analize.\n",
    "\n",
    "    Note:\n",
    "        1. this function is used for gain calculation.\n",
    "\n",
    "    Output:\n",
    "        1. moments: array with mean and variance.\n",
    "\n",
    "    '''  \n",
    "    datatype = [('channel', np.int16), \n",
    "                ('mean', np.float32), \n",
    "                ('variance', np.float32)]\n",
    "    moments =  np.zeros(len(channels), dtype = datatype)\n",
    "\n",
    "    for i, ch in enumerate(channels):\n",
    "        area = data[data['channel']==ch]['area']\n",
    "        hist, bins  = np.histogram(area, range=(-1000, 5000), bins=6000)\n",
    "        mids = 0.5*(bins[1:] + bins[:-1])\n",
    "\n",
    "        moments[i]['channel']  = ch\n",
    "        moments[i]['mean']     = np.average(mids, weights=hist)\n",
    "        moments[i]['variance'] = np.average((mids - np.average(mids, weights=hist))**2, weights=hist)\n",
    "\n",
    "    return moments\n",
    "\n",
    "moments_s = get_moments(led, channels)\n",
    "moments_b = get_moments(noise, channels)\n",
    "\n",
    "plt.figure(figsize=(15,5))\n",
    "plt.subplot(121)\n",
    "plt.plot(moments_s['channel'], moments_s['mean'])\n",
    "plt.subplot(122)\n",
    "plt.plot(moments_b['channel'], moments_b['mean'])"
   ]
  },
  {
   "cell_type": "code",
   "execution_count": 94,
   "metadata": {},
   "outputs": [
    {
     "name": "stderr",
     "output_type": "stream",
     "text": [
      "/opt/XENONnT/anaconda/envs/XENONnT_development/lib/python3.6/site-packages/ipykernel_launcher.py:75: RuntimeWarning: divide by zero encountered in double_scalars\n",
      "/opt/XENONnT/anaconda/envs/XENONnT_development/lib/python3.6/site-packages/ipykernel_launcher.py:88: RuntimeWarning: divide by zero encountered in double_scalars\n"
     ]
    },
    {
     "data": {
      "image/png": "[encoded data removed]",
      "text/plain": [
       "<Figure size 1080x432 with 1 Axes>"
      ]
     },
     "metadata": {
      "needs_background": "light"
     },
     "output_type": "display_data"
    }
   ],
   "source": [
    "def get_occupancy(data_s, data_b, channels, order=10):\n",
    "    ''' \n",
    "    Function that occupancy (poisson parameter) of data distribution.\n",
    "\n",
    "    #TODO: comments the important steps \n",
    "\n",
    "    Args:\n",
    "        1. data_s: signal PMT(s) array.\n",
    "        2. data_b: noise PMT(s) array.\n",
    "        3. channels: list of PMTs n° to analize.\n",
    "\n",
    "    Note:\n",
    "\n",
    "    Output:\n",
    "        1. Occupancy:\n",
    "            - estimated occupancy: \n",
    "            - estimated occupancy error:\n",
    "            - iteration: \n",
    "            - occupancy: \n",
    "            - occupancy error:\n",
    "            - threshold: \n",
    "            - occupancy smooth: \n",
    "            - scaling factor:\n",
    "            - entries: \n",
    "    '''  \n",
    "\n",
    "    datatype = [('channel', np.int16), \n",
    "                ('estimated occupancy', np.float32), \n",
    "                ('estimated occupancy error', np.float32),\n",
    "                ('iteration', np.int16),\n",
    "                ('occupancy', object), ('occupancy error', object), ('threshold', object), \n",
    "                ('occupancy smooth', object), ('scaling factor', np.float32), \n",
    "                ('entries', np.float32)]\n",
    "\n",
    "    Occupancy =  np.zeros(len(channels), dtype = datatype)\n",
    "\n",
    "    moments_s = get_moments(data_s, channels)\n",
    "    moments_b = get_moments(data_b, channels)\n",
    "\n",
    "    for i, ch in enumerate(channels):\n",
    "        area_s = data_s[data_s['channel']==ch]['area']\n",
    "        signal, bins     = np.histogram(area_s, range=(-1000, 5000), bins=6000)\n",
    "\n",
    "        area_b = data_b[data_b['channel']==ch]['area']\n",
    "        background, bins = np.histogram(area_b, range=(-1000, 5000), bins=6000)\n",
    "\n",
    "        E_s = moments_s[moments_s['channel']==ch]['mean']\n",
    "\n",
    "        if E_s > 0:\n",
    "            threshold = -150\n",
    "        else:\n",
    "            threshold = -50\n",
    "\n",
    "        ini_threshold = threshold    \n",
    "        end_threshold = 100\n",
    "        start = np.digitize(-1000, bins)\n",
    "\n",
    "        occupancy     = []\n",
    "        occupancy_err = []\n",
    "        thr           = []\n",
    "\n",
    "        tot_entries_b = np.sum(background)\n",
    "\n",
    "        while threshold < end_threshold: \n",
    "            bin_threshold = np.digitize(threshold, bins)\n",
    "\n",
    "            Ab = np.sum(background[start:bin_threshold])\n",
    "            As = np.sum(signal[start:bin_threshold])\n",
    "\n",
    "            if Ab > 0 and As > 0:\n",
    "                f = Ab/tot_entries_b\n",
    "                l = -np.log(As/Ab)\n",
    "                l_err = np.sqrt((np.exp(l) + 1. - 2.*(Ab/tot_entries_b))/Ab)\n",
    "\n",
    "                if l_err/l <= 0.05:\n",
    "                    occupancy.append(l)\n",
    "                    occupancy_err.append(l_err)\n",
    "                    thr.append(threshold)\n",
    "            threshold += 1\n",
    "\n",
    "        num = len(occupancy) - 1\n",
    "        if num % 2 == 0:\n",
    "            num = num - 1\n",
    "\n",
    "        occupancy_smooth = savgol_filter(occupancy, num, order)\n",
    "        dummy = occupancy_smooth.argsort()[::-1]\n",
    "        for idx in range(0, len(dummy)):\n",
    "            if occupancy_err[dummy[idx]]/occupancy[dummy[idx]] < 0.01:           \n",
    "                estimated_occupancy = occupancy[dummy[idx]]\n",
    "                estimated_occupancy_err = occupancy_err[dummy[idx]]\n",
    "                itr = dummy[idx]\n",
    "                break\n",
    "            else:\n",
    "                estimated_occupancy = 0\n",
    "                estimated_occupancy_err = 0\n",
    "                itr = 0\n",
    "\n",
    "        Occupancy[i]['channel']                   = ch\n",
    "        Occupancy[i]['estimated occupancy']       = estimated_occupancy\n",
    "        Occupancy[i]['estimated occupancy error'] = estimated_occupancy_err\n",
    "        Occupancy[i]['iteration']                 = itr\n",
    "        Occupancy[i]['occupancy']                 = occupancy\n",
    "        Occupancy[i]['occupancy error']           = occupancy_err\n",
    "        Occupancy[i]['threshold']                 = thr\n",
    "        Occupancy[i]['occupancy smooth']          = occupancy_smooth\n",
    "        Occupancy[i]['scaling factor']            = f\n",
    "        Occupancy[i]['entries']                   = tot_entries_b\n",
    "        \n",
    "    return Occupancy\n",
    "\n",
    "Occ = get_occupancy(led, noise, channels)\n",
    "\n",
    "plt.figure(figsize=(15,6))\n",
    "plt.plot(Occ[Occ['channel']==127]['threshold'][0], Occ[Occ['channel']==127]['occupancy'][0], 'g-', label='127')\n",
    "plt.hlines(Occ[Occ['channel']==127]['estimated occupancy'], xmin=-40, xmax=100, color='green', linestyles='dashed')\n",
    "\n",
    "plt.plot(Occ[Occ['channel']==128]['threshold'][0], Occ[Occ['channel']==128]['occupancy'][0], 'b-', label='128')\n",
    "plt.hlines(Occ[Occ['channel']==128]['estimated occupancy'], xmin=-40, xmax=100, color='blue', linestyles='dashed')\n",
    "\n",
    "plt.plot(Occ[Occ['channel']==129]['threshold'][0], Occ[Occ['channel']==129]['occupancy'][0], 'r-', label='129')\n",
    "plt.hlines(Occ[Occ['channel']==129]['estimated occupancy'], xmin=-40, xmax=100, color='red', linestyles='dashed')\n",
    "plt.legend(loc=0)\n",
    "plt.xlim(-40)\n",
    "plt.show()\n"
   ]
  },
  {
   "cell_type": "code",
   "execution_count": 102,
   "metadata": {},
   "outputs": [
    {
     "name": "stderr",
     "output_type": "stream",
     "text": [
      "/opt/XENONnT/anaconda/envs/XENONnT_development/lib/python3.6/site-packages/ipykernel_launcher.py:75: RuntimeWarning: divide by zero encountered in double_scalars\n",
      "/opt/XENONnT/anaconda/envs/XENONnT_development/lib/python3.6/site-packages/ipykernel_launcher.py:88: RuntimeWarning: divide by zero encountered in double_scalars\n",
      "/opt/XENONnT/anaconda/envs/XENONnT_development/lib/python3.6/site-packages/ipykernel_launcher.py:60: RuntimeWarning: divide by zero encountered in float_scalars\n",
      "/opt/XENONnT/anaconda/envs/XENONnT_development/lib/python3.6/site-packages/ipykernel_launcher.py:61: RuntimeWarning: divide by zero encountered in float_scalars\n",
      "/opt/XENONnT/anaconda/envs/XENONnT_development/lib/python3.6/site-packages/ipykernel_launcher.py:62: RuntimeWarning: invalid value encountered in float_scalars\n",
      "/opt/XENONnT/anaconda/envs/XENONnT_development/lib/python3.6/site-packages/ipykernel_launcher.py:63: RuntimeWarning: divide by zero encountered in true_divide\n"
     ]
    }
   ],
   "source": [
    "def get_gainconversion(mu):\n",
    "    ''' \n",
    "    Function that computed the gain from SPE ADC count.\n",
    "\n",
    "    Args:\n",
    "        1. mu: SPE ADC signal.\n",
    "\n",
    "    Note:\n",
    "\n",
    "    Output:\n",
    "        1. gain: multiplication PMT factor.\n",
    "    '''  \n",
    "    Z = 50.\n",
    "    A = 10.\n",
    "    e = 1.6021766208e-19\n",
    "    f = 1e8\n",
    "    r = 2.25/16384.\n",
    "\n",
    "    gain = mu*r/(Z*A*f*e*1e6)\n",
    "\n",
    "    return gain\n",
    "\n",
    "def get_gain(data_s, data_b, channels):\n",
    "    ''' \n",
    "    Function that computed the gain from the occupancy.\n",
    "\n",
    "    #TODO: comments the important steps \n",
    "\n",
    "    Args:\n",
    "        1. data_s: signal PMT(s) array.\n",
    "        2. data_b: noise PMT(s) array.\n",
    "        3. channels: list of PMTs n° to analize.\n",
    "\n",
    "    Note:\n",
    "\n",
    "    Output:\n",
    "        1. Gain: multiplication PMT factor.\n",
    "    '''  \n",
    "    datatype = [('channel', np.int16), \n",
    "                ('gain', np.float32), \n",
    "                ('gain error', np.float32)]\n",
    "\n",
    "    moments_s = get_moments(data_s, channels)\n",
    "    moments_b = get_moments(data_b, channels)\n",
    "\n",
    "    Occupancy = get_occupancy(data_s, data_b, channels)\n",
    "\n",
    "    Gain = np.zeros(len(channels), dtype = datatype)\n",
    "\n",
    "    for i, ch in enumerate(channels):\n",
    "        E_s = moments_s[moments_s['channel']==ch]['mean'][0]\n",
    "        V_s = moments_s[moments_s['channel']==ch]['variance'][0]\n",
    "        E_b = moments_b[moments_b['channel']==ch]['mean'][0]\n",
    "        V_b = moments_b[moments_b['channel']==ch]['variance'][0]\n",
    "        occupancy = Occupancy[Occupancy['channel']==ch]['estimated occupancy'][0]\n",
    "        occupancy_err = Occupancy[Occupancy['channel']==ch]['estimated occupancy error'][0]\n",
    "        tot_N = Occupancy[Occupancy['channel']==ch]['entries'][0]\n",
    "        f_b = Occupancy[Occupancy['channel']==ch]['scaling factor'][0]\n",
    "        \n",
    "        EPsi = (E_s - E_b)/occupancy\n",
    "        VPsi = (V_s - V_b)/occupancy - EPsi*EPsi\n",
    "        EPsi_stat_err = (occupancy*(EPsi*EPsi + VPsi) + 2.*V_b)/(tot_N*occupancy*occupancy)  + (EPsi*EPsi*(np.exp(occupancy) + 1. - 2.*f_b))/(f_b*tot_N*occupancy*occupancy)\n",
    "        EPsi_sys_err = (E_s - E_b)*occupancy_err/(occupancy**2)\n",
    "\n",
    "        gain = get_gainconversion(EPsi)\n",
    "        gain_err = get_gainconversion(np.sqrt(EPsi_stat_err)) + get_gainconversion(EPsi_sys_err)\n",
    "\n",
    "        Gain[i]['channel']    = ch\n",
    "        Gain[i]['gain']       = gain\n",
    "        Gain[i]['gain error'] = gain_err\n",
    "\n",
    "    return Gain\n",
    "\n",
    "Gain = get_gain(led, noise, channels)"
   ]
  },
  {
   "cell_type": "code",
   "execution_count": 107,
   "metadata": {},
   "outputs": [],
   "source": [
    "file_1t = '/dali/lgrandi/pmt_calibration/PMTGainCalibration/gain_calculation/txt/old/gain_1519033943.txt'\n",
    "\n",
    "pmt = []\n",
    "gain_1t = []\n",
    "gain_1t_err = []\n",
    "occupancy_1t = []\n",
    "occupancy_1t_err = []\n",
    "\n",
    "file = open(file_1t, 'r')\n",
    "for line in file.readlines():\n",
    "    splitline = line.split(' ')\n",
    "    pmt.append(int(splitline[0]))\n",
    "    gain_1t.append(float(splitline[1]))\n",
    "    gain_1t_err.append(float(splitline[2]))\n",
    "    occupancy_1t.append(float(splitline[3]))\n",
    "    occupancy_1t_err.append(float(splitline[4]))"
   ]
  },
  {
   "cell_type": "code",
   "execution_count": null,
   "metadata": {},
   "outputs": [],
   "source": []
  },
  {
   "cell_type": "code",
   "execution_count": 108,
   "metadata": {},
   "outputs": [
    {
     "data": {
      "image/png": "[encoded data removed]",
      "text/plain": [
       "<Figure size 1080x360 with 1 Axes>"
      ]
     },
     "metadata": {
      "needs_background": "light"
     },
     "output_type": "display_data"
    }
   ],
   "source": [
    "plt.figure(figsize=(15,5))\n",
    "plt.errorbar(Gain['channel'], Gain['gain'], yerr=Gain['gain error'], linestyle = '', fmt='o', markersize=2, color='royalblue', label='New Gain')\n",
    "plt.errorbar(pmt[127:131], gain_1t[127:131], yerr=gain_1t_err[127:131], linestyle = '', fmt='^', markersize=5, color='red',label='1T Gain')\n",
    "plt.xlabel('PMT Number')\n",
    "plt.ylabel('Gain [x10$^6$]')\n",
    "plt.ylim(-0.1,5.5)\n",
    "plt.xlim(126,132)\n",
    "plt.legend()\n",
    "plt.grid()\n",
    "plt.tight_layout()"
   ]
  },
  {
   "cell_type": "code",
   "execution_count": null,
   "metadata": {},
   "outputs": [],
   "source": []
  }
 ],
 "metadata": {
  "kernelspec": {
   "display_name": "Python 3",
   "language": "python",
   "name": "python3"
  },
  "language_info": {
   "codemirror_mode": {
    "name": "ipython",
    "version": 3
   },
   "file_extension": ".py",
   "mimetype": "text/x-python",
   "name": "python",
   "nbconvert_exporter": "python",
   "pygments_lexer": "ipython3",
   "version": "3.7.7"
  }
 },
 "nbformat": 4,
 "nbformat_minor": 4
}
