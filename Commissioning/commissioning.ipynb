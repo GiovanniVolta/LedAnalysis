{
 "cells": [
  {
   "cell_type": "code",
   "execution_count": 1,
   "metadata": {},
   "outputs": [
    {
     "name": "stdout",
     "output_type": "stream",
     "text": [
      "/dali/lgrandi/strax/miniconda3/envs/strax/bin/python\n",
      "Straxen:  0.7.3 /home/gvolta/XENONnT/straxen/straxen/__init__.py\n",
      "Strax:  0.10.3 /dali/lgrandi/strax/strax/strax/__init__.py\n",
      "\n",
      "\n",
      "\n",
      "\n",
      "___   ___  _______ .__   __.   ______   .__   __.        .___________.   __  __             _____    _____    ____  \n",
      "\\  \\ /  / |   ____||  \\ |  |  /  __  \\  |  \\ |  |        |           |  |  \\/  |    /\\     / ____|  |_   _| /  ___| \n",
      " \\  V  /  |  |__   |   \\|  | |  |  |  | |   \\|  |  _   _ `---|  |----`  | \\  / |   /  \\    | |  __    | |   | |      \n",
      "  >   <   |   __|  |  . `  | |  |  |  | |  . `  | | \\ | |    |  |       | |\\/| |  / /\\ \\   | | |_ |   | |   | |      \n",
      " /  .  \\  |  |____ |  |\\   | |  `--`  | |  |\\   | |  \\| |    |  |       | |  | | / ____ \\  | |__| |  _| |_  | |___  \n",
      "/__/ \\__\\ |_______||__| \\__|  \\______/  |__| \\__| |_|\\__|    |__|       |_|  |_|/_/    \\_\\ \\ _____| |_____| \\_____|  \n",
      "powered by Giovanni Volta and Chiara Capelli (c)\n",
      "\n",
      "\n",
      "\n",
      "\n",
      "Configuration file:  /home/gvolta/XENONnT/gain_spe/configuration.ini\n"
     ]
    }
   ],
   "source": [
    "import sys\n",
    "print(sys.executable)\n",
    "import strax\n",
    "import straxen\n",
    "print('Straxen: ', straxen.__version__, straxen.__file__)\n",
    "print('Strax: ', strax.__version__, strax.__file__)\n",
    "import configparser as cp\n",
    "\n",
    "sys.path.append('/home/gvolta/XENONnT/gain_spe')\n",
    "from PMTanalysis import *\n",
    "PMT = PMTanalyzer('/home/gvolta/XENONnT/gain_spe')"
   ]
  },
  {
   "cell_type": "code",
   "execution_count": 2,
   "metadata": {},
   "outputs": [],
   "source": [
    "strax.Mailbox.DEFAULT_MAX_MESSAGES = 2\n",
    "st = straxen.contexts.xenonnt_online()"
   ]
  },
  {
   "cell_type": "code",
   "execution_count": 16,
   "metadata": {},
   "outputs": [
    {
     "data": {
      "text/html": [
       "<div>\n",
       "<style scoped>\n",
       "    .dataframe tbody tr th:only-of-type {\n",
       "        vertical-align: middle;\n",
       "    }\n",
       "\n",
       "    .dataframe tbody tr th {\n",
       "        vertical-align: top;\n",
       "    }\n",
       "\n",
       "    .dataframe thead th {\n",
       "        text-align: right;\n",
       "    }\n",
       "</style>\n",
       "<table border=\"1\" class=\"dataframe\">\n",
       "  <thead>\n",
       "    <tr style=\"text-align: right;\">\n",
       "      <th></th>\n",
       "      <th>number</th>\n",
       "      <th>mode</th>\n",
       "      <th>start</th>\n",
       "      <th>end</th>\n",
       "      <th>name</th>\n",
       "      <th>tags</th>\n",
       "      <th>livetime</th>\n",
       "      <th>reader.ini.name</th>\n",
       "      <th>trigger.events_built</th>\n",
       "      <th>strax_defaults</th>\n",
       "      <th>tags.name</th>\n",
       "      <th>raw_records_available</th>\n",
       "    </tr>\n",
       "  </thead>\n",
       "  <tbody>\n",
       "    <tr>\n",
       "      <th>7212</th>\n",
       "      <td>7212</td>\n",
       "      <td></td>\n",
       "      <td>2020-04-15 15:38:19.055</td>\n",
       "      <td>2020-04-15 15:38:49.345</td>\n",
       "      <td>7212</td>\n",
       "      <td></td>\n",
       "      <td>00:00:30.290000</td>\n",
       "      <td>NaN</td>\n",
       "      <td>NaN</td>\n",
       "      <td>NaN</td>\n",
       "      <td>NaN</td>\n",
       "      <td>False</td>\n",
       "    </tr>\n",
       "  </tbody>\n",
       "</table>\n",
       "</div>"
      ],
      "text/plain": [
       "     number mode                   start                     end  name tags  \\\n",
       "7212   7212      2020-04-15 15:38:19.055 2020-04-15 15:38:49.345  7212        \n",
       "\n",
       "            livetime reader.ini.name trigger.events_built strax_defaults  \\\n",
       "7212 00:00:30.290000             NaN                  NaN            NaN   \n",
       "\n",
       "     tags.name  raw_records_available  \n",
       "7212       NaN                  False  "
      ]
     },
     "execution_count": 16,
     "metadata": {},
     "output_type": "execute_result"
    }
   ],
   "source": [
    "run = st.select_runs(run_id='7212')\n",
    "run."
   ]
  },
  {
   "cell_type": "code",
   "execution_count": 9,
   "metadata": {},
   "outputs": [
    {
     "name": "stdout",
     "output_type": "stream",
     "text": [
      "007154-raw_records_aqmon-rfzvpzj4mf  007193-raw_records_mv-rfzvpzj4mf\r\n",
      "007154-raw_records-rfzvpzj4mf\t     007193-raw_records-rfzvpzj4mf\r\n",
      "007157-raw_records-rfzvpzj4mf\t     007194-raw_records_aqmon-rfzvpzj4mf\r\n",
      "007158-raw_records_aqmon-rfzvpzj4mf  007194-raw_records_he-rfzvpzj4mf\r\n",
      "007158-raw_records_he-rfzvpzj4mf     007194-raw_records_mv-rfzvpzj4mf\r\n",
      "007158-raw_records-rfzvpzj4mf\t     007194-raw_records-rfzvpzj4mf\r\n",
      "007159-raw_records_aqmon-rfzvpzj4mf  007196-raw_records_aqmon-rfzvpzj4mf\r\n",
      "007159-raw_records_he-rfzvpzj4mf     007196-raw_records_he-rfzvpzj4mf\r\n",
      "007159-raw_records-rfzvpzj4mf\t     007196-raw_records_mv-rfzvpzj4mf\r\n",
      "007177-raw_records_aqmon-rfzvpzj4mf  007196-raw_records-rfzvpzj4mf\r\n",
      "007177-raw_records_he-rfzvpzj4mf     007197-raw_records_aqmon-rfzvpzj4mf\r\n",
      "007177-raw_records_mv-rfzvpzj4mf     007197-raw_records_he-rfzvpzj4mf\r\n",
      "007177-raw_records-rfzvpzj4mf\t     007197-raw_records_mv-rfzvpzj4mf\r\n",
      "007178-raw_records_aqmon-rfzvpzj4mf  007197-raw_records-rfzvpzj4mf\r\n",
      "007178-raw_records_he-rfzvpzj4mf     007198-raw_records_aqmon-rfzvpzj4mf\r\n",
      "007178-raw_records_mv-rfzvpzj4mf     007198-raw_records_he-rfzvpzj4mf\r\n",
      "007178-raw_records-rfzvpzj4mf\t     007198-raw_records_mv-rfzvpzj4mf\r\n",
      "007179-raw_records_aqmon-rfzvpzj4mf  007198-raw_records-rfzvpzj4mf\r\n",
      "007179-raw_records_he-rfzvpzj4mf     007202-raw_records_aqmon-rfzvpzj4mf\r\n",
      "007179-raw_records_mv-rfzvpzj4mf     007202-raw_records_he-rfzvpzj4mf\r\n",
      "007179-raw_records-rfzvpzj4mf\t     007202-raw_records_mv-rfzvpzj4mf\r\n",
      "007182-raw_records_aqmon-rfzvpzj4mf  007202-raw_records-rfzvpzj4mf\r\n",
      "007182-raw_records_he-rfzvpzj4mf     007203-raw_records_aqmon-rfzvpzj4mf\r\n",
      "007182-raw_records_mv-rfzvpzj4mf     007203-raw_records_he-rfzvpzj4mf\r\n",
      "007182-raw_records-rfzvpzj4mf\t     007203-raw_records_mv-rfzvpzj4mf\r\n",
      "007183-raw_records_aqmon-rfzvpzj4mf  007203-raw_records-rfzvpzj4mf\r\n",
      "007183-raw_records_he-rfzvpzj4mf     007204-raw_records_aqmon-rfzvpzj4mf\r\n",
      "007183-raw_records_mv-rfzvpzj4mf     007204-raw_records_he-rfzvpzj4mf\r\n",
      "007183-raw_records-rfzvpzj4mf\t     007204-raw_records_mv-rfzvpzj4mf\r\n",
      "007185-raw_records_aqmon-rfzvpzj4mf  007204-raw_records-rfzvpzj4mf\r\n",
      "007185-raw_records_he-rfzvpzj4mf     007205-raw_records_aqmon-rfzvpzj4mf\r\n",
      "007185-raw_records_mv-rfzvpzj4mf     007205-raw_records_he-rfzvpzj4mf\r\n",
      "007185-raw_records-rfzvpzj4mf\t     007205-raw_records_mv-rfzvpzj4mf\r\n",
      "007186-raw_records_aqmon-rfzvpzj4mf  007205-raw_records-rfzvpzj4mf\r\n",
      "007186-raw_records_he-rfzvpzj4mf     007208-raw_records_aqmon-rfzvpzj4mf\r\n",
      "007186-raw_records_mv-rfzvpzj4mf     007208-raw_records_he-rfzvpzj4mf\r\n",
      "007186-raw_records-rfzvpzj4mf\t     007208-raw_records_mv-rfzvpzj4mf\r\n",
      "007187-raw_records_aqmon-rfzvpzj4mf  007208-raw_records-rfzvpzj4mf\r\n",
      "007187-raw_records_he-rfzvpzj4mf     007209-raw_records_aqmon-rfzvpzj4mf\r\n",
      "007187-raw_records_mv-rfzvpzj4mf     007209-raw_records_he-rfzvpzj4mf\r\n",
      "007187-raw_records-rfzvpzj4mf\t     007209-raw_records_mv-rfzvpzj4mf\r\n",
      "007188-raw_records_aqmon-rfzvpzj4mf  007209-raw_records-rfzvpzj4mf\r\n",
      "007188-raw_records_he-rfzvpzj4mf     007210-raw_records_aqmon-rfzvpzj4mf\r\n",
      "007188-raw_records_mv-rfzvpzj4mf     007210-raw_records_he-rfzvpzj4mf\r\n",
      "007188-raw_records-rfzvpzj4mf\t     007210-raw_records_mv-rfzvpzj4mf\r\n",
      "007189-raw_records_aqmon-rfzvpzj4mf  007210-raw_records-rfzvpzj4mf\r\n",
      "007189-raw_records_he-rfzvpzj4mf     007211-raw_records_aqmon-rfzvpzj4mf\r\n",
      "007189-raw_records_mv-rfzvpzj4mf     007211-raw_records_he-rfzvpzj4mf\r\n",
      "007189-raw_records-rfzvpzj4mf\t     007211-raw_records_mv-rfzvpzj4mf\r\n",
      "007192-raw_records_aqmon-rfzvpzj4mf  007211-raw_records-rfzvpzj4mf\r\n",
      "007192-raw_records_he-rfzvpzj4mf     007212-raw_records_aqmon-rfzvpzj4mf\r\n",
      "007192-raw_records_mv-rfzvpzj4mf     007212-raw_records_he-rfzvpzj4mf\r\n",
      "007192-raw_records-rfzvpzj4mf\t     007212-raw_records_mv-rfzvpzj4mf\r\n",
      "007193-raw_records_aqmon-rfzvpzj4mf  007212-raw_records-rfzvpzj4mf\r\n",
      "007193-raw_records_he-rfzvpzj4mf\r\n"
     ]
    }
   ],
   "source": [
    "!ls /dali/lgrandi/xenonnt/raw/"
   ]
  },
  {
   "cell_type": "code",
   "execution_count": 19,
   "metadata": {},
   "outputs": [
    {
     "ename": "DataNotAvailable",
     "evalue": "raw_records for 7212 not found in any storage, and your context specifies it cannot be created.",
     "output_type": "error",
     "traceback": [
      "\u001b[0;31m---------------------------------------------------------------------------\u001b[0m",
      "\u001b[0;31mDataNotAvailable\u001b[0m                          Traceback (most recent call last)",
      "\u001b[0;32m<ipython-input-19-cd276ad11dd6>\u001b[0m in \u001b[0;36m<module>\u001b[0;34m\u001b[0m\n\u001b[0;32m----> 1\u001b[0;31m \u001b[0mdata_rr\u001b[0m \u001b[0;34m=\u001b[0m \u001b[0mst\u001b[0m\u001b[0;34m.\u001b[0m\u001b[0mget_array\u001b[0m\u001b[0;34m(\u001b[0m\u001b[0;34m'7212'\u001b[0m\u001b[0;34m,\u001b[0m \u001b[0;34m'raw_records'\u001b[0m\u001b[0;34m)\u001b[0m\u001b[0;34m\u001b[0m\u001b[0;34m\u001b[0m\u001b[0m\n\u001b[0m",
      "\u001b[0;32m/dali/lgrandi/strax/strax/strax/context.py\u001b[0m in \u001b[0;36mget_array\u001b[0;34m(self, run_id, targets, save, max_workers, **kwargs)\u001b[0m\n\u001b[1;32m    905\u001b[0m                 \u001b[0mmax_workers\u001b[0m\u001b[0;34m=\u001b[0m\u001b[0mmax_workers\u001b[0m\u001b[0;34m,\u001b[0m\u001b[0;34m\u001b[0m\u001b[0;34m\u001b[0m\u001b[0m\n\u001b[1;32m    906\u001b[0m                 **kwargs)\n\u001b[0;32m--> 907\u001b[0;31m             \u001b[0mresults\u001b[0m \u001b[0;34m=\u001b[0m \u001b[0;34m[\u001b[0m\u001b[0mx\u001b[0m\u001b[0;34m.\u001b[0m\u001b[0mdata\u001b[0m \u001b[0;32mfor\u001b[0m \u001b[0mx\u001b[0m \u001b[0;32min\u001b[0m \u001b[0msource\u001b[0m\u001b[0;34m]\u001b[0m\u001b[0;34m\u001b[0m\u001b[0;34m\u001b[0m\u001b[0m\n\u001b[0m\u001b[1;32m    908\u001b[0m         \u001b[0;32mreturn\u001b[0m \u001b[0mnp\u001b[0m\u001b[0;34m.\u001b[0m\u001b[0mconcatenate\u001b[0m\u001b[0;34m(\u001b[0m\u001b[0mresults\u001b[0m\u001b[0;34m)\u001b[0m\u001b[0;34m\u001b[0m\u001b[0;34m\u001b[0m\u001b[0m\n\u001b[1;32m    909\u001b[0m \u001b[0;34m\u001b[0m\u001b[0m\n",
      "\u001b[0;32m/dali/lgrandi/strax/strax/strax/context.py\u001b[0m in \u001b[0;36m<listcomp>\u001b[0;34m(.0)\u001b[0m\n\u001b[1;32m    905\u001b[0m                 \u001b[0mmax_workers\u001b[0m\u001b[0;34m=\u001b[0m\u001b[0mmax_workers\u001b[0m\u001b[0;34m,\u001b[0m\u001b[0;34m\u001b[0m\u001b[0;34m\u001b[0m\u001b[0m\n\u001b[1;32m    906\u001b[0m                 **kwargs)\n\u001b[0;32m--> 907\u001b[0;31m             \u001b[0mresults\u001b[0m \u001b[0;34m=\u001b[0m \u001b[0;34m[\u001b[0m\u001b[0mx\u001b[0m\u001b[0;34m.\u001b[0m\u001b[0mdata\u001b[0m \u001b[0;32mfor\u001b[0m \u001b[0mx\u001b[0m \u001b[0;32min\u001b[0m \u001b[0msource\u001b[0m\u001b[0;34m]\u001b[0m\u001b[0;34m\u001b[0m\u001b[0;34m\u001b[0m\u001b[0m\n\u001b[0m\u001b[1;32m    908\u001b[0m         \u001b[0;32mreturn\u001b[0m \u001b[0mnp\u001b[0m\u001b[0;34m.\u001b[0m\u001b[0mconcatenate\u001b[0m\u001b[0;34m(\u001b[0m\u001b[0mresults\u001b[0m\u001b[0;34m)\u001b[0m\u001b[0;34m\u001b[0m\u001b[0;34m\u001b[0m\u001b[0m\n\u001b[1;32m    909\u001b[0m \u001b[0;34m\u001b[0m\u001b[0m\n",
      "\u001b[0;32m/dali/lgrandi/strax/strax/strax/context.py\u001b[0m in \u001b[0;36mget_iter\u001b[0;34m(self, run_id, targets, save, max_workers, time_range, seconds_range, time_within, time_selection, selection_str, keep_columns, _chunk_number, **kwargs)\u001b[0m\n\u001b[1;32m    755\u001b[0m                                          \u001b[0msave\u001b[0m\u001b[0;34m=\u001b[0m\u001b[0msave\u001b[0m\u001b[0;34m,\u001b[0m\u001b[0;34m\u001b[0m\u001b[0;34m\u001b[0m\u001b[0m\n\u001b[1;32m    756\u001b[0m                                          \u001b[0mtime_range\u001b[0m\u001b[0;34m=\u001b[0m\u001b[0mtime_range\u001b[0m\u001b[0;34m,\u001b[0m\u001b[0;34m\u001b[0m\u001b[0;34m\u001b[0m\u001b[0m\n\u001b[0;32m--> 757\u001b[0;31m                                          chunk_number=_chunk_number)\n\u001b[0m\u001b[1;32m    758\u001b[0m \u001b[0;34m\u001b[0m\u001b[0m\n\u001b[1;32m    759\u001b[0m         \u001b[0;31m# Cleanup the temp plugins\u001b[0m\u001b[0;34m\u001b[0m\u001b[0;34m\u001b[0m\u001b[0;34m\u001b[0m\u001b[0m\n",
      "\u001b[0;32m/dali/lgrandi/strax/strax/strax/context.py\u001b[0m in \u001b[0;36mget_components\u001b[0;34m(self, run_id, targets, save, time_range, chunk_number)\u001b[0m\n\u001b[1;32m    631\u001b[0m \u001b[0;34m\u001b[0m\u001b[0m\n\u001b[1;32m    632\u001b[0m         \u001b[0;32mfor\u001b[0m \u001b[0md\u001b[0m \u001b[0;32min\u001b[0m \u001b[0mtargets\u001b[0m\u001b[0;34m:\u001b[0m\u001b[0;34m\u001b[0m\u001b[0;34m\u001b[0m\u001b[0m\n\u001b[0;32m--> 633\u001b[0;31m             \u001b[0mcheck_cache\u001b[0m\u001b[0;34m(\u001b[0m\u001b[0md\u001b[0m\u001b[0;34m)\u001b[0m\u001b[0;34m\u001b[0m\u001b[0;34m\u001b[0m\u001b[0m\n\u001b[0m\u001b[1;32m    634\u001b[0m         \u001b[0mplugins\u001b[0m \u001b[0;34m=\u001b[0m \u001b[0mto_compute\u001b[0m\u001b[0;34m\u001b[0m\u001b[0;34m\u001b[0m\u001b[0m\n\u001b[1;32m    635\u001b[0m \u001b[0;34m\u001b[0m\u001b[0m\n",
      "\u001b[0;32m/dali/lgrandi/strax/strax/strax/context.py\u001b[0m in \u001b[0;36mcheck_cache\u001b[0;34m(d)\u001b[0m\n\u001b[1;32m    547\u001b[0m                 \u001b[0;32mif\u001b[0m \u001b[0md\u001b[0m \u001b[0;32min\u001b[0m \u001b[0mself\u001b[0m\u001b[0;34m.\u001b[0m\u001b[0mcontext_config\u001b[0m\u001b[0;34m[\u001b[0m\u001b[0;34m'forbid_creation_of'\u001b[0m\u001b[0;34m]\u001b[0m\u001b[0;34m:\u001b[0m\u001b[0;34m\u001b[0m\u001b[0;34m\u001b[0m\u001b[0m\n\u001b[1;32m    548\u001b[0m                     raise strax.DataNotAvailable(\n\u001b[0;32m--> 549\u001b[0;31m                         \u001b[0;34mf\"{d} for {run_id} not found in any storage, and \"\u001b[0m\u001b[0;34m\u001b[0m\u001b[0;34m\u001b[0m\u001b[0m\n\u001b[0m\u001b[1;32m    550\u001b[0m                         \"your context specifies it cannot be created.\")\n\u001b[1;32m    551\u001b[0m                 \u001b[0mto_compute\u001b[0m\u001b[0;34m[\u001b[0m\u001b[0md\u001b[0m\u001b[0;34m]\u001b[0m \u001b[0;34m=\u001b[0m \u001b[0mp\u001b[0m\u001b[0;34m\u001b[0m\u001b[0;34m\u001b[0m\u001b[0m\n",
      "\u001b[0;31mDataNotAvailable\u001b[0m: raw_records for 7212 not found in any storage, and your context specifies it cannot be created."
     ]
    }
   ],
   "source": [
    "data_rr = st.get_array('7212', 'raw_records')"
   ]
  },
  {
   "cell_type": "code",
   "execution_count": null,
   "metadata": {},
   "outputs": [],
   "source": []
  }
 ],
 "metadata": {
  "kernelspec": {
   "display_name": "Python 3",
   "language": "python",
   "name": "python3"
  },
  "language_info": {
   "codemirror_mode": {
    "name": "ipython",
    "version": 3
   },
   "file_extension": ".py",
   "mimetype": "text/x-python",
   "name": "python",
   "nbconvert_exporter": "python",
   "pygments_lexer": "ipython3",
   "version": "3.7.7"
  }
 },
 "nbformat": 4,
 "nbformat_minor": 4
}
