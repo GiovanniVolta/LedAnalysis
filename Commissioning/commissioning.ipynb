{
 "cells": [
  {
   "cell_type": "code",
   "execution_count": 1,
   "metadata": {},
   "outputs": [
    {
     "name": "stdout",
     "output_type": "stream",
     "text": [
      "/dali/lgrandi/strax/miniconda3/envs/strax/bin/python\n",
      "Straxen:  0.7.3 /home/gvolta/XENONnT/straxen/straxen/__init__.py\n",
      "Strax:  0.10.3 /dali/lgrandi/strax/strax/strax/__init__.py\n",
      "\n",
      "\n",
      "\n",
      "\n",
      "___   ___  _______ .__   __.   ______   .__   __.        .___________.   __  __             _____    _____    ____  \n",
      "\\  \\ /  / |   ____||  \\ |  |  /  __  \\  |  \\ |  |        |           |  |  \\/  |    /\\     / ____|  |_   _| /  ___| \n",
      " \\  V  /  |  |__   |   \\|  | |  |  |  | |   \\|  |  _   _ `---|  |----`  | \\  / |   /  \\    | |  __    | |   | |      \n",
      "  >   <   |   __|  |  . `  | |  |  |  | |  . `  | | \\ | |    |  |       | |\\/| |  / /\\ \\   | | |_ |   | |   | |      \n",
      " /  .  \\  |  |____ |  |\\   | |  `--`  | |  |\\   | |  \\| |    |  |       | |  | | / ____ \\  | |__| |  _| |_  | |___  \n",
      "/__/ \\__\\ |_______||__| \\__|  \\______/  |__| \\__| |_|\\__|    |__|       |_|  |_|/_/    \\_\\ \\ _____| |_____| \\_____|  \n",
      "powered by Giovanni Volta and Chiara Capelli (c)\n",
      "\n",
      "\n",
      "\n",
      "\n",
      "Configuration file:  /home/gvolta/XENONnT/gain_spe/configuration.ini\n"
     ]
    }
   ],
   "source": [
    "import sys\n",
    "print(sys.executable)\n",
    "import strax\n",
    "import straxen\n",
    "print('Straxen: ', straxen.__version__, straxen.__file__)\n",
    "print('Strax: ', strax.__version__, strax.__file__)\n",
    "import configparser as cp\n",
    "\n",
    "sys.path.append('/home/gvolta/XENONnT/gain_spe')\n",
    "from PMTanalysis import *\n",
    "PMT = PMTanalyzer('/home/gvolta/XENONnT/gain_spe')"
   ]
  },
  {
   "cell_type": "code",
   "execution_count": 2,
   "metadata": {},
   "outputs": [],
   "source": [
    "strax.Mailbox.DEFAULT_MAX_MESSAGES = 2\n",
    "st = straxen.contexts.xenonnt_online()"
   ]
  },
  {
   "cell_type": "code",
   "execution_count": 3,
   "metadata": {},
   "outputs": [
    {
     "name": "stderr",
     "output_type": "stream",
     "text": [
      "Fetching run info from MongoDB: 100%|██████████| 7213/7213 [00:00<00:00, 31083.31it/s]\n",
      "Checking data availability: 100%|██████████| 1/1 [00:13<00:00, 13.04s/it]\n"
     ]
    },
    {
     "data": {
      "text/html": [
       "<div>\n",
       "<style scoped>\n",
       "    .dataframe tbody tr th:only-of-type {\n",
       "        vertical-align: middle;\n",
       "    }\n",
       "\n",
       "    .dataframe tbody tr th {\n",
       "        vertical-align: top;\n",
       "    }\n",
       "\n",
       "    .dataframe thead th {\n",
       "        text-align: right;\n",
       "    }\n",
       "</style>\n",
       "<table border=\"1\" class=\"dataframe\">\n",
       "  <thead>\n",
       "    <tr style=\"text-align: right;\">\n",
       "      <th></th>\n",
       "      <th>number</th>\n",
       "      <th>mode</th>\n",
       "      <th>start</th>\n",
       "      <th>end</th>\n",
       "      <th>name</th>\n",
       "      <th>tags</th>\n",
       "      <th>livetime</th>\n",
       "      <th>trigger.events_built</th>\n",
       "      <th>strax_defaults</th>\n",
       "      <th>reader.ini.name</th>\n",
       "      <th>tags.name</th>\n",
       "      <th>raw_records_available</th>\n",
       "    </tr>\n",
       "  </thead>\n",
       "  <tbody>\n",
       "    <tr>\n",
       "      <th>7212</th>\n",
       "      <td>7212</td>\n",
       "      <td></td>\n",
       "      <td>2020-04-15 15:38:19.055</td>\n",
       "      <td>2020-04-15 15:38:49.345</td>\n",
       "      <td>7212</td>\n",
       "      <td></td>\n",
       "      <td>00:00:30.290000</td>\n",
       "      <td>NaN</td>\n",
       "      <td>NaN</td>\n",
       "      <td>NaN</td>\n",
       "      <td>NaN</td>\n",
       "      <td>False</td>\n",
       "    </tr>\n",
       "  </tbody>\n",
       "</table>\n",
       "</div>"
      ],
      "text/plain": [
       "     number mode                   start                     end  name tags  \\\n",
       "7212   7212      2020-04-15 15:38:19.055 2020-04-15 15:38:49.345  7212        \n",
       "\n",
       "            livetime trigger.events_built strax_defaults reader.ini.name  \\\n",
       "7212 00:00:30.290000                  NaN            NaN             NaN   \n",
       "\n",
       "     tags.name  raw_records_available  \n",
       "7212       NaN                  False  "
      ]
     },
     "execution_count": 3,
     "metadata": {},
     "output_type": "execute_result"
    }
   ],
   "source": [
    "run = st.select_runs(run_id='7212')\n",
    "run"
   ]
  },
  {
   "cell_type": "code",
   "execution_count": 4,
   "metadata": {},
   "outputs": [
    {
     "name": "stdout",
     "output_type": "stream",
     "text": [
      "007154-raw_records_aqmon-rfzvpzj4mf  007193-raw_records_mv-rfzvpzj4mf\r\n",
      "007154-raw_records-rfzvpzj4mf\t     007193-raw_records-rfzvpzj4mf\r\n",
      "007157-raw_records-rfzvpzj4mf\t     007194-raw_records_aqmon-rfzvpzj4mf\r\n",
      "007158-raw_records_aqmon-rfzvpzj4mf  007194-raw_records_he-rfzvpzj4mf\r\n",
      "007158-raw_records_he-rfzvpzj4mf     007194-raw_records_mv-rfzvpzj4mf\r\n",
      "007158-raw_records-rfzvpzj4mf\t     007194-raw_records-rfzvpzj4mf\r\n",
      "007159-raw_records_aqmon-rfzvpzj4mf  007196-raw_records_aqmon-rfzvpzj4mf\r\n",
      "007159-raw_records_he-rfzvpzj4mf     007196-raw_records_he-rfzvpzj4mf\r\n",
      "007159-raw_records-rfzvpzj4mf\t     007196-raw_records_mv-rfzvpzj4mf\r\n",
      "007177-raw_records_aqmon-rfzvpzj4mf  007196-raw_records-rfzvpzj4mf\r\n",
      "007177-raw_records_he-rfzvpzj4mf     007197-raw_records_aqmon-rfzvpzj4mf\r\n",
      "007177-raw_records_mv-rfzvpzj4mf     007197-raw_records_he-rfzvpzj4mf\r\n",
      "007177-raw_records-rfzvpzj4mf\t     007197-raw_records_mv-rfzvpzj4mf\r\n",
      "007178-raw_records_aqmon-rfzvpzj4mf  007197-raw_records-rfzvpzj4mf\r\n",
      "007178-raw_records_he-rfzvpzj4mf     007198-raw_records_aqmon-rfzvpzj4mf\r\n",
      "007178-raw_records_mv-rfzvpzj4mf     007198-raw_records_he-rfzvpzj4mf\r\n",
      "007178-raw_records-rfzvpzj4mf\t     007198-raw_records_mv-rfzvpzj4mf\r\n",
      "007179-raw_records_aqmon-rfzvpzj4mf  007198-raw_records-rfzvpzj4mf\r\n",
      "007179-raw_records_he-rfzvpzj4mf     007202-raw_records_aqmon-rfzvpzj4mf\r\n",
      "007179-raw_records_mv-rfzvpzj4mf     007202-raw_records_he-rfzvpzj4mf\r\n",
      "007179-raw_records-rfzvpzj4mf\t     007202-raw_records_mv-rfzvpzj4mf\r\n",
      "007182-raw_records_aqmon-rfzvpzj4mf  007202-raw_records-rfzvpzj4mf\r\n",
      "007182-raw_records_he-rfzvpzj4mf     007203-raw_records_aqmon-rfzvpzj4mf\r\n",
      "007182-raw_records_mv-rfzvpzj4mf     007203-raw_records_he-rfzvpzj4mf\r\n",
      "007182-raw_records-rfzvpzj4mf\t     007203-raw_records_mv-rfzvpzj4mf\r\n",
      "007183-raw_records_aqmon-rfzvpzj4mf  007203-raw_records-rfzvpzj4mf\r\n",
      "007183-raw_records_he-rfzvpzj4mf     007204-raw_records_aqmon-rfzvpzj4mf\r\n",
      "007183-raw_records_mv-rfzvpzj4mf     007204-raw_records_he-rfzvpzj4mf\r\n",
      "007183-raw_records-rfzvpzj4mf\t     007204-raw_records_mv-rfzvpzj4mf\r\n",
      "007185-raw_records_aqmon-rfzvpzj4mf  007204-raw_records-rfzvpzj4mf\r\n",
      "007185-raw_records_he-rfzvpzj4mf     007205-raw_records_aqmon-rfzvpzj4mf\r\n",
      "007185-raw_records_mv-rfzvpzj4mf     007205-raw_records_he-rfzvpzj4mf\r\n",
      "007185-raw_records-rfzvpzj4mf\t     007205-raw_records_mv-rfzvpzj4mf\r\n",
      "007186-raw_records_aqmon-rfzvpzj4mf  007205-raw_records-rfzvpzj4mf\r\n",
      "007186-raw_records_he-rfzvpzj4mf     007208-raw_records_aqmon-rfzvpzj4mf\r\n",
      "007186-raw_records_mv-rfzvpzj4mf     007208-raw_records_he-rfzvpzj4mf\r\n",
      "007186-raw_records-rfzvpzj4mf\t     007208-raw_records_mv-rfzvpzj4mf\r\n",
      "007187-raw_records_aqmon-rfzvpzj4mf  007208-raw_records-rfzvpzj4mf\r\n",
      "007187-raw_records_he-rfzvpzj4mf     007209-raw_records_aqmon-rfzvpzj4mf\r\n",
      "007187-raw_records_mv-rfzvpzj4mf     007209-raw_records_he-rfzvpzj4mf\r\n",
      "007187-raw_records-rfzvpzj4mf\t     007209-raw_records_mv-rfzvpzj4mf\r\n",
      "007188-raw_records_aqmon-rfzvpzj4mf  007209-raw_records-rfzvpzj4mf\r\n",
      "007188-raw_records_he-rfzvpzj4mf     007210-raw_records_aqmon-rfzvpzj4mf\r\n",
      "007188-raw_records_mv-rfzvpzj4mf     007210-raw_records_he-rfzvpzj4mf\r\n",
      "007188-raw_records-rfzvpzj4mf\t     007210-raw_records_mv-rfzvpzj4mf\r\n",
      "007189-raw_records_aqmon-rfzvpzj4mf  007210-raw_records-rfzvpzj4mf\r\n",
      "007189-raw_records_he-rfzvpzj4mf     007211-raw_records_aqmon-rfzvpzj4mf\r\n",
      "007189-raw_records_mv-rfzvpzj4mf     007211-raw_records_he-rfzvpzj4mf\r\n",
      "007189-raw_records-rfzvpzj4mf\t     007211-raw_records_mv-rfzvpzj4mf\r\n",
      "007192-raw_records_aqmon-rfzvpzj4mf  007211-raw_records-rfzvpzj4mf\r\n",
      "007192-raw_records_he-rfzvpzj4mf     007212-raw_records_aqmon-rfzvpzj4mf\r\n",
      "007192-raw_records_mv-rfzvpzj4mf     007212-raw_records_he-rfzvpzj4mf\r\n",
      "007192-raw_records-rfzvpzj4mf\t     007212-raw_records_mv-rfzvpzj4mf\r\n",
      "007193-raw_records_aqmon-rfzvpzj4mf  007212-raw_records-rfzvpzj4mf\r\n",
      "007193-raw_records_he-rfzvpzj4mf\r\n"
     ]
    }
   ],
   "source": [
    "!ls /dali/lgrandi/xenonnt/raw/"
   ]
  },
  {
   "cell_type": "code",
   "execution_count": null,
   "metadata": {},
   "outputs": [
    {
     "name": "stderr",
     "output_type": "stream",
     "text": [
      "/dali/lgrandi/strax/strax/strax/context.py:205: UserWarning: Unknown config option second_range; will do nothing.\n",
      "  warnings.warn(f\"Unknown config option {k}; will do nothing.\")\n",
      "/dali/lgrandi/strax/strax/strax/context.py:211: UserWarning: Invalid context option second_range; will do nothing.\n",
      "  warnings.warn(f\"Invalid context option {k}; will do nothing.\")\n"
     ]
    }
   ],
   "source": [
    "data_rr = st.get_array('007212', 'raw_records', second_range=(0,2))"
   ]
  },
  {
   "cell_type": "code",
   "execution_count": null,
   "metadata": {},
   "outputs": [],
   "source": []
  }
 ],
 "metadata": {
  "kernelspec": {
   "display_name": "Python 3",
   "language": "python",
   "name": "python3"
  },
  "language_info": {
   "codemirror_mode": {
    "name": "ipython",
    "version": 3
   },
   "file_extension": ".py",
   "mimetype": "text/x-python",
   "name": "python",
   "nbconvert_exporter": "python",
   "pygments_lexer": "ipython3",
   "version": "3.7.7"
  }
 },
 "nbformat": 4,
 "nbformat_minor": 4
}
