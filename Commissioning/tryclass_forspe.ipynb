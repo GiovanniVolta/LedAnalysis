{
 "cells": [
  {
   "cell_type": "code",
   "execution_count": 2,
   "metadata": {},
   "outputs": [
    {
     "name": "stdout",
     "output_type": "stream",
     "text": [
      "Configuration file:  /home/gvolta/XENONnT/gain_spe/configuration.ini\n"
     ]
    }
   ],
   "source": [
    "import sys\n",
    "sys.path.append('/home/gvolta/XENONnT/gain_spe/')\n",
    "from PMTanalysis import *\n",
    "PMT = PMTanalyzer('/home/gvolta/XENONnT/gain_spe/configuration.ini')"
   ]
  },
  {
   "cell_type": "code",
   "execution_count": 3,
   "metadata": {},
   "outputs": [],
   "source": [
    "import matplotlib as mpl\n",
    "import matplotlib.pyplot as plt\n",
    "from matplotlib import animation\n",
    "from matplotlib.animation import FuncAnimation\n",
    "from matplotlib.collections import PatchCollection\n",
    "from matplotlib.patches import Circle\n",
    "import matplotlib.colors as mcolors\n",
    "#mpl.use('Agg')"
   ]
  },
  {
   "cell_type": "code",
   "execution_count": 4,
   "metadata": {},
   "outputs": [],
   "source": [
    "import strax\n",
    "import straxen\n",
    "strax.Mailbox.DEFAULT_MAX_MESSAGES = 2\n",
    "st = straxen.contexts.xenon1t_led()"
   ]
  },
  {
   "cell_type": "code",
   "execution_count": 5,
   "metadata": {},
   "outputs": [
    {
     "data": {
      "text/plain": [
       "['/home/gvolta/XENONnT/gain_spe/configuration.ini']"
      ]
     },
     "execution_count": 5,
     "metadata": {},
     "output_type": "execute_result"
    }
   ],
   "source": [
    "Config = cp.ConfigParser()\n",
    "Config.read(PMT.config_file)"
   ]
  },
  {
   "cell_type": "markdown",
   "metadata": {},
   "source": [
    "## _Test of PMT analyzer class_"
   ]
  },
  {
   "cell_type": "code",
   "execution_count": null,
   "metadata": {},
   "outputs": [],
   "source": [
    "run_led = str(PMT.run_spe_topbulk)"
   ]
  },
  {
   "cell_type": "raw",
   "metadata": {},
   "source": [
    "data_led_1 = st.get_array(run_led, 'raw_records',  seconds_range=(0,20))"
   ]
  },
  {
   "cell_type": "raw",
   "metadata": {},
   "source": [
    "data_  = PMT.get_signal(data)"
   ]
  },
  {
   "cell_type": "raw",
   "metadata": {},
   "source": [
    "amplitude = PMT.get_amplitude(data_)"
   ]
  },
  {
   "cell_type": "raw",
   "metadata": {},
   "source": [
    "pmt = amplitude[amplitude['channel']==0]\n",
    "plt.hist(pmt['amplitude'], bins=500, range=(0,500))\n",
    "plt.yscale('log')\n",
    "plt.grid(color='grey', linestyle='-', linewidth=2, alpha=0.25)\n",
    "plt.show()\n",
    "PMT_n = data_[data_['channel']==25]\n",
    "event = 140\n",
    "plt.plot(PMT_n['data'][event][:160])\n",
    "plt.ylim(-20, 200)\n",
    "plt.show()"
   ]
  },
  {
   "cell_type": "raw",
   "metadata": {},
   "source": [
    "def gaussian(x,*p) :\n",
    "    # A gaussian peak with:\n",
    "    #   Peak height above background : p[0]\n",
    "    #   Central value                : p[1]\n",
    "    #   Standard deviation           : p[2]\n",
    "    return p[0]*np.exp(-1*(x-p[1])**2/(2*p[2]**2))\n",
    "\n",
    "ch = 2\n",
    "amp = amplitude[amplitude['channel']==ch]['amplitude']\n",
    "\n",
    "fit_input, binning, check = PMT.get_speinput(amplitude=amplitude, channel=[ch])\n",
    "gauss, result_fit, fit_interval = PMT.get_sperough(amplitude=amplitude, channel=[ch])\n",
    "\n",
    "plt.figure(figsize=(20,10))\n",
    "H, B, _  = plt.hist(amp, bins=binning)\n",
    "plt.plot(B[fit_input], H[fit_input], '*')\n",
    "result_fit.plot_fit()\n",
    "\n",
    "popt  = result_fit.best_values\n",
    "N     = popt['g_amplitude']/(np.sqrt(2*np.pi)*popt['g_sigma'])\n",
    "mu    = popt['g_center']\n",
    "sigma = popt['g_sigma']\n",
    "\n",
    "x = np.linspace(0,100, 100)\n",
    "y = gaussian(x, N, mu, sigma)\n",
    "plt.plot(x, y, 'k--')\n",
    "\n",
    "plt.yscale('log')\n",
    "plt.ylim(1e0)\n",
    "plt.show()"
   ]
  },
  {
   "cell_type": "code",
   "execution_count": null,
   "metadata": {},
   "outputs": [],
   "source": [
    "led_window   = [Config.getint('window_pars','led_windows_left'), Config.getint('window_pars','led_windows_right')]\n",
    "noise_window = [Config.getint('window_pars','noise_windows_left'), Config.getint('window_pars','noise_windows_right')]"
   ]
  },
  {
   "cell_type": "raw",
   "metadata": {},
   "source": [
    "window, led_window, noise_window"
   ]
  },
  {
   "cell_type": "raw",
   "metadata": {},
   "source": [
    "plt.figure(figsize=(20,10))\n",
    "###################################################################\n",
    "PMT_n = data_led[data_led['channel']==25]\n",
    "plt.subplot(211)\n",
    "event = 14\n",
    "plt.plot(PMT_n['data'][event])\n",
    "plt.axvspan(led_window[0], led_window[1], alpha=0.5, color='gold')\n",
    "plt.axvspan(noise_window[0], noise_window[1], alpha=0.5, color='lightblue')\n",
    "plt.legend(loc='best', fontsize=15)\n",
    "plt.ylim(bottom = -40)\n",
    "plt.xlim(0, 600)\n",
    "###################################################################\n",
    "PMT_n = data_led[data_led['channel']==151]\n",
    "plt.subplot(212)\n",
    "event = 10\n",
    "plt.plot(PMT_n['data'][event])\n",
    "plt.axvspan(led_window[0], led_window[1], alpha=0.5, color='gold')\n",
    "plt.axvspan(noise_window[0], noise_window[1], alpha=0.5, color='lightblue')\n",
    "plt.legend(loc='best', fontsize=15)\n",
    "plt.ylim(bottom = -40)\n",
    "plt.xlim(0, 600)\n",
    "###################################################################\n",
    "plt.show()"
   ]
  },
  {
   "cell_type": "code",
   "execution_count": null,
   "metadata": {},
   "outputs": [],
   "source": [
    "st = st.new_context(config=dict(led_window=(led_window[0],led_window[1]), \n",
    "                                noise_window=(noise_window[0], noise_window[1]),\n",
    "                                channel_list=(0,5)))\n",
    "st.show_config('led_calibration')"
   ]
  },
  {
   "cell_type": "code",
   "execution_count": null,
   "metadata": {},
   "outputs": [],
   "source": [
    "st.data_info('led_calibration')"
   ]
  },
  {
   "cell_type": "code",
   "execution_count": null,
   "metadata": {},
   "outputs": [],
   "source": [
    "data_spe = st.get_array(run_led, 'led_calibration', max_workers=10)"
   ]
  },
  {
   "cell_type": "code",
   "execution_count": null,
   "metadata": {
    "scrolled": true
   },
   "outputs": [],
   "source": [
    "channels = np.arange(0, 5, 1)\n",
    "SPE      = PMT.get_scalingspectrum(data_spe, data_spe, n_channel_s = channels)\n",
    "SPE_acc  = PMT.get_speacceptance(data_spe, data_spe, n_channel_s = channels)"
   ]
  },
  {
   "cell_type": "raw",
   "metadata": {},
   "source": [
    "# Per vedere i plot\n",
    "PMT.plot_SPEchannel(SPE, SPE_acc, n_channels=np.arange(0,2,1), bin_correction=np.arange(6,8,1), savefig=True)"
   ]
  },
  {
   "cell_type": "code",
   "execution_count": null,
   "metadata": {},
   "outputs": [],
   "source": [
    "PMT0 = SPE[SPE['channel']==4]\n",
    "plt.figure(figsize=(20,10))\n",
    "plt.subplot(211)\n",
    "plt.plot(PMT0['spectrum led'][0], '+--')\n",
    "plt.plot(PMT0['spectrum noise scaled 8 bin'][0], '+--')\n",
    "plt.xlim(-1,10)\n",
    "#plt.yscale('log')\n",
    "plt.subplot(212)\n",
    "plt.plot(np.abs(PMT0['spectrum led'][0]-PMT0['spectrum noise scaled 8 bin'][0]), 'o', ms=3)\n",
    "plt.xlim(-1,10)"
   ]
  },
  {
   "cell_type": "raw",
   "metadata": {},
   "source": [
    "x = np.arange(10)\n",
    "y = np.sin(x)\n",
    "path = '/dali/lgrandi/giovo/XENONnT/spe_acceptance/Data/'\n",
    "np.savez(path+'SPE', x,y)\n"
   ]
  },
  {
   "cell_type": "raw",
   "metadata": {},
   "source": [
    "x = SPE[SPE['channel']==0]['bins led'][0]\n",
    "x_led = 0.5 * (x[1:] + x[:-1])\n",
    "plt.plot(x_led, \n",
    "         SPE[SPE['channel']==0]['spectrum led'][0],\n",
    "         label='Amp LED')\n",
    "x = SPE[SPE['channel']==0]['bins noise'][0]\n",
    "x_noise = 0.5 * (x[1:] + x[:-1])\n",
    "plt.plot(x_noise, \n",
    "         SPE[SPE['channel']==0]['spectrum noise'][0], \n",
    "         label='Amp noise')\n",
    "plt.yscale('log')\n",
    "plt.show()"
   ]
  },
  {
   "cell_type": "raw",
   "metadata": {},
   "source": [
    "channels = np.arange(0, 5, 1)\n",
    "SPE = PMT.get_scalingspectrum(data_spe, data_spe, n_channel_s = channels)"
   ]
  },
  {
   "cell_type": "raw",
   "metadata": {},
   "source": [
    "channels = np.arange(0, 3, 1)\n",
    "SPE_acceptance = PMT.get_speacceptance(data_spe, data_spe, n_channel_s = channels)"
   ]
  },
  {
   "cell_type": "raw",
   "metadata": {},
   "source": [
    "bin_correction = 3\n",
    "print('#################################################')\n",
    "print('############### Bin Correction: '+str(bin_correction)+' ###############')\n",
    "print('#################################################')\n",
    "\n",
    "fig = plt.figure(figsize=(25,10))\n",
    "n_channel = 0\n",
    "mask = np.where(SPE_acceptance[SPE_acceptance['channel']==n_channel]['SPE acceptance '+str(bin_correction)+' bin'][0]<0.1)\n",
    "x_max = SPE_acceptance[SPE_acceptance['channel']==n_channel]['bins SPE acceptance '+str(bin_correction)+' bin'][0][mask][0]\n",
    "\n",
    "plt.subplot(121)\n",
    "\n",
    "x = SPE[SPE['channel']==n_channel]['bins led'][0]\n",
    "x_led = 0.5 * (x[1:] + x[:-1])\n",
    "plt.plot(x_led, \n",
    "         SPE[SPE['channel']==n_channel]['spectrum led'][0],\n",
    "         label='Amp LED')\n",
    "x = SPE[SPE['channel']==n_channel]['bins noise'][0]\n",
    "x_noise = 0.5 * (x[1:] + x[:-1])\n",
    "plt.plot(x_noise, \n",
    "         SPE[SPE['channel']==n_channel]['spectrum noise'][0], \n",
    "         label='Amp noise')\n",
    "\n",
    "plt.xlabel('amp (ADC counts)', fontsize=26)\n",
    "plt.title('Channel %d' %n_channel, fontsize=26)\n",
    "plt.yscale('log')\n",
    "plt.legend(loc='best', fontsize=20)\n",
    "\n",
    "plt.subplot(122)\n",
    "\n",
    "x = SPE[SPE['channel']==n_channel]['bins led'][0]\n",
    "x_led = 0.5 * (x[1:] + x[:-1])\n",
    "plt.plot(x_led, \n",
    "         SPE[SPE['channel']==n_channel]['spectrum led'][0],\n",
    "         label='Amp LED')\n",
    "x = SPE[SPE['channel']==n_channel]['bins noise'][0]\n",
    "x_noise = 0.5 * (x[1:] + x[:-1])\n",
    "plt.plot(x_noise, \n",
    "         SPE[SPE['channel']==n_channel]['spectrum noise scaled '+str(bin_correction)+' bin'][0], \n",
    "         label='Amp noise')\n",
    "\n",
    "plt.xlim(right=30)\n",
    "plt.yscale('log')\n",
    "plt.xlabel('amp (ADC counts)', fontsize=26)\n",
    "plt.title('Channel %d' %n_channel, fontsize=26)\n",
    "plt.legend(loc='best', fontsize=20)\n",
    "\n",
    "\n",
    "fig = plt.figure(figsize=(25,10))\n",
    "\n",
    "plt.subplot(121)\n",
    "\n",
    "plt.errorbar(x = SPE_acceptance[SPE_acceptance['channel']==n_channel]['bins SPE acceptance '+str(bin_correction)+' bin'][0], \n",
    "             y = SPE_acceptance[SPE_acceptance['channel']==n_channel]['noise-subtracted spectrum '+str(bin_correction)+' bin'][0], \n",
    "             yerr = SPE_acceptance[SPE_acceptance['channel']==n_channel]['error of noise-subtracted spectrum '+str(bin_correction)+' bin'][0], \n",
    "             fmt='b+', label='noise-subtracted SPE spectrum')\n",
    "\n",
    "#plt.xlim(left = 0)\n",
    "plt.xlabel('amp (ADC counts)', fontsize=26)\n",
    "plt.title('Channel %d' %n_channel, fontsize=26)\n",
    "plt.legend(loc='best', fontsize=17)\n",
    "\n",
    "plt.subplot(122)\n",
    "\n",
    "plt.plot(SPE_acceptance[SPE_acceptance['channel']==n_channel]['bins SPE acceptance '+str(bin_correction)+' bin'][0], \n",
    "         SPE_acceptance[SPE_acceptance['channel']==n_channel]['SPE acceptance '+str(bin_correction)+' bin'][0]) \n",
    "\n",
    "plt.text(55, 1.07, \n",
    "         'Acceptance @ 15 ADC = %.2f'%(SPE_acceptance[SPE_acceptance['channel']==n_channel]['Acceptance @ 15 ADC '+str(bin_correction)+' bin'][0]),\n",
    "         horizontalalignment='left', verticalalignment='top', bbox=dict(boxstyle='round', facecolor='white', alpha=0.75), \n",
    "         fontsize=17)\n",
    "\n",
    "plt.text(55, 1, \n",
    "         'ADC for 0.9 acceptance = %.2f'%(SPE_acceptance[SPE_acceptance['channel']==n_channel]['Threshold for 0.9 acceptance '+str(bin_correction)+' bin'][0]), \n",
    "         horizontalalignment='left', verticalalignment='top', bbox=dict(boxstyle='round', facecolor='white', alpha=0.75), \n",
    "         fontsize=17)\n",
    "\n",
    "plt.hlines(y=0.9, xmin=0, xmax=x_max, colors='k', linestyles='dashed')\n",
    "plt.vlines(x=15, ymin=0, ymax=1, colors='k', linestyles='dashed')\n",
    "plt.title('Acceptance', fontsize=26)\n",
    "plt.ylim(0,1.1)\n",
    "plt.xlim(0, x_max)\n",
    "plt.xlabel('amp (ADC counts)', fontsize=26)\n",
    "plt.title('Channel %d' %n_channel, fontsize=26)\n",
    "#plt.legend(loc='best', fontsize=15)\n",
    "\n",
    "plt.show()"
   ]
  }
 ],
 "metadata": {
  "kernelspec": {
   "display_name": "Python 3",
   "language": "python",
   "name": "python3"
  },
  "language_info": {
   "codemirror_mode": {
    "name": "ipython",
    "version": 3
   },
   "file_extension": ".py",
   "mimetype": "text/x-python",
   "name": "python",
   "nbconvert_exporter": "python",
   "pygments_lexer": "ipython3",
   "version": "3.7.7"
  }
 },
 "nbformat": 4,
 "nbformat_minor": 4
}
