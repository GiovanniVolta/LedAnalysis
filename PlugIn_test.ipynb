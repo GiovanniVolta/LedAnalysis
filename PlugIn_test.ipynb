{
 "cells": [
  {
   "cell_type": "code",
   "execution_count": 1,
   "metadata": {},
   "outputs": [
    {
     "name": "stdout",
     "output_type": "stream",
     "text": [
      "/home/gvolta/XENONnT/straxen/straxen/__init__.py\n",
      "0.5.0\n",
      "0.8.6\n"
     ]
    }
   ],
   "source": [
    "import strax\n",
    "import straxen\n",
    "print(straxen.__file__)\n",
    "print(straxen.__version__)\n",
    "print(strax.__version__)\n",
    "import pandas as pd\n",
    "pd.options.display.max_colwidth = 100\n",
    "from tqdm import tqdm\n",
    "import numpy as np\n",
    "\n",
    "import numba\n",
    "\n",
    "from scipy.optimize import curve_fit\n",
    "from scipy import stats\n",
    "\n",
    "import matplotlib.pyplot as plt"
   ]
  },
  {
   "cell_type": "code",
   "execution_count": 6,
   "metadata": {},
   "outputs": [],
   "source": [
    "strax.Mailbox.DEFAULT_MAX_MESSAGES = 2"
   ]
  },
  {
   "cell_type": "code",
   "execution_count": 7,
   "metadata": {},
   "outputs": [],
   "source": [
    "st = straxen.contexts.strax_SPE()"
   ]
  },
  {
   "cell_type": "code",
   "execution_count": 8,
   "metadata": {},
   "outputs": [
    {
     "data": {
      "text/html": [
       "<div>\n",
       "<style scoped>\n",
       "    .dataframe tbody tr th:only-of-type {\n",
       "        vertical-align: middle;\n",
       "    }\n",
       "\n",
       "    .dataframe tbody tr th {\n",
       "        vertical-align: top;\n",
       "    }\n",
       "\n",
       "    .dataframe thead th {\n",
       "        text-align: right;\n",
       "    }\n",
       "</style>\n",
       "<table border=\"1\" class=\"dataframe\">\n",
       "  <thead>\n",
       "    <tr style=\"text-align: right;\">\n",
       "      <th></th>\n",
       "      <th>option</th>\n",
       "      <th>default</th>\n",
       "      <th>current</th>\n",
       "      <th>applies_to</th>\n",
       "      <th>help</th>\n",
       "    </tr>\n",
       "  </thead>\n",
       "  <tbody>\n",
       "    <tr>\n",
       "      <th>0</th>\n",
       "      <td>storage_converter</td>\n",
       "      <td>False</td>\n",
       "      <td>False</td>\n",
       "      <td>Context</td>\n",
       "      <td>If True, save data that is loaded from one frontend through all willing other storage frontends.</td>\n",
       "    </tr>\n",
       "    <tr>\n",
       "      <th>1</th>\n",
       "      <td>fuzzy_for</td>\n",
       "      <td>()</td>\n",
       "      <td>()</td>\n",
       "      <td>Context</td>\n",
       "      <td>Tuple of plugin names for which no checks for version, providing plugin, and config will be perf...</td>\n",
       "    </tr>\n",
       "    <tr>\n",
       "      <th>2</th>\n",
       "      <td>fuzzy_for_options</td>\n",
       "      <td>()</td>\n",
       "      <td>()</td>\n",
       "      <td>Context</td>\n",
       "      <td>Tuple of config options for which no checks will be performed when looking for data.</td>\n",
       "    </tr>\n",
       "    <tr>\n",
       "      <th>3</th>\n",
       "      <td>allow_incomplete</td>\n",
       "      <td>False</td>\n",
       "      <td>False</td>\n",
       "      <td>Context</td>\n",
       "      <td>Allow loading of incompletely written data, if the storage systems support it</td>\n",
       "    </tr>\n",
       "    <tr>\n",
       "      <th>4</th>\n",
       "      <td>allow_rechunk</td>\n",
       "      <td>True</td>\n",
       "      <td>True</td>\n",
       "      <td>Context</td>\n",
       "      <td>Allow rechunking of data during writing.</td>\n",
       "    </tr>\n",
       "    <tr>\n",
       "      <th>5</th>\n",
       "      <td>allow_multiprocess</td>\n",
       "      <td>False</td>\n",
       "      <td>True</td>\n",
       "      <td>Context</td>\n",
       "      <td>Allow multiprocessing.If False, will use multithreading only.</td>\n",
       "    </tr>\n",
       "    <tr>\n",
       "      <th>6</th>\n",
       "      <td>allow_shm</td>\n",
       "      <td>False</td>\n",
       "      <td>False</td>\n",
       "      <td>Context</td>\n",
       "      <td>Allow use of /dev/shm for interprocess communication.</td>\n",
       "    </tr>\n",
       "    <tr>\n",
       "      <th>7</th>\n",
       "      <td>forbid_creation_of</td>\n",
       "      <td>()</td>\n",
       "      <td>(raw_records,)</td>\n",
       "      <td>Context</td>\n",
       "      <td>If any of the following datatypes is requested to be created, throw an error instead. Useful to ...</td>\n",
       "    </tr>\n",
       "    <tr>\n",
       "      <th>8</th>\n",
       "      <td>store_run_fields</td>\n",
       "      <td>()</td>\n",
       "      <td>(name, number, reader.ini.name, tags.name, start, end, livetime, trigger.events_built)</td>\n",
       "      <td>Context</td>\n",
       "      <td>Tuple of run document fields to store during scan_run.</td>\n",
       "    </tr>\n",
       "    <tr>\n",
       "      <th>9</th>\n",
       "      <td>check_available</td>\n",
       "      <td>()</td>\n",
       "      <td>(raw_records, event_info)</td>\n",
       "      <td>Context</td>\n",
       "      <td>Tuple of data types to scan availability for during scan_run.</td>\n",
       "    </tr>\n",
       "  </tbody>\n",
       "</table>\n",
       "</div>"
      ],
      "text/plain": [
       "               option default  \\\n",
       "0   storage_converter   False   \n",
       "1           fuzzy_for      ()   \n",
       "2   fuzzy_for_options      ()   \n",
       "3    allow_incomplete   False   \n",
       "4       allow_rechunk    True   \n",
       "5  allow_multiprocess   False   \n",
       "6           allow_shm   False   \n",
       "7  forbid_creation_of      ()   \n",
       "8    store_run_fields      ()   \n",
       "9     check_available      ()   \n",
       "\n",
       "                                                                                  current  \\\n",
       "0                                                                                   False   \n",
       "1                                                                                      ()   \n",
       "2                                                                                      ()   \n",
       "3                                                                                   False   \n",
       "4                                                                                    True   \n",
       "5                                                                                    True   \n",
       "6                                                                                   False   \n",
       "7                                                                          (raw_records,)   \n",
       "8  (name, number, reader.ini.name, tags.name, start, end, livetime, trigger.events_built)   \n",
       "9                                                               (raw_records, event_info)   \n",
       "\n",
       "  applies_to  \\\n",
       "0    Context   \n",
       "1    Context   \n",
       "2    Context   \n",
       "3    Context   \n",
       "4    Context   \n",
       "5    Context   \n",
       "6    Context   \n",
       "7    Context   \n",
       "8    Context   \n",
       "9    Context   \n",
       "\n",
       "                                                                                                  help  \n",
       "0     If True, save data that is loaded from one frontend through all willing other storage frontends.  \n",
       "1  Tuple of plugin names for which no checks for version, providing plugin, and config will be perf...  \n",
       "2                 Tuple of config options for which no checks will be performed when looking for data.  \n",
       "3                        Allow loading of incompletely written data, if the storage systems support it  \n",
       "4                                                             Allow rechunking of data during writing.  \n",
       "5                                        Allow multiprocessing.If False, will use multithreading only.  \n",
       "6                                                Allow use of /dev/shm for interprocess communication.  \n",
       "7  If any of the following datatypes is requested to be created, throw an error instead. Useful to ...  \n",
       "8                                               Tuple of run document fields to store during scan_run.  \n",
       "9                                        Tuple of data types to scan availability for during scan_run.  "
      ]
     },
     "execution_count": 8,
     "metadata": {},
     "output_type": "execute_result"
    }
   ],
   "source": [
    "st.show_config()"
   ]
  },
  {
   "cell_type": "code",
   "execution_count": 9,
   "metadata": {},
   "outputs": [
    {
     "data": {
      "text/html": [
       "<div>\n",
       "<style scoped>\n",
       "    .dataframe tbody tr th:only-of-type {\n",
       "        vertical-align: middle;\n",
       "    }\n",
       "\n",
       "    .dataframe tbody tr th {\n",
       "        vertical-align: top;\n",
       "    }\n",
       "\n",
       "    .dataframe thead th {\n",
       "        text-align: right;\n",
       "    }\n",
       "</style>\n",
       "<table border=\"1\" class=\"dataframe\">\n",
       "  <thead>\n",
       "    <tr style=\"text-align: right;\">\n",
       "      <th></th>\n",
       "      <th>option</th>\n",
       "      <th>default</th>\n",
       "      <th>current</th>\n",
       "      <th>applies_to</th>\n",
       "      <th>help</th>\n",
       "    </tr>\n",
       "  </thead>\n",
       "  <tbody>\n",
       "    <tr>\n",
       "      <th>0</th>\n",
       "      <td>led_window</td>\n",
       "      <td>(150, 275)</td>\n",
       "      <td>&lt;OMITTED&gt;</td>\n",
       "      <td>(led_calibration,)</td>\n",
       "      <td>Window (samples) where we expect the signal in LED calibration</td>\n",
       "    </tr>\n",
       "    <tr>\n",
       "      <th>1</th>\n",
       "      <td>noise_window</td>\n",
       "      <td>(0, 125)</td>\n",
       "      <td>&lt;OMITTED&gt;</td>\n",
       "      <td>(led_calibration,)</td>\n",
       "      <td>Window (samples) to analysis the noise</td>\n",
       "    </tr>\n",
       "    <tr>\n",
       "      <th>2</th>\n",
       "      <td>channel_list</td>\n",
       "      <td>(0, 248)</td>\n",
       "      <td>&lt;OMITTED&gt;</td>\n",
       "      <td>(led_calibration,)</td>\n",
       "      <td>Three different light level for XENON1T: (0,36), (37,126), (127,248). Defalt value: all the PMTs</td>\n",
       "    </tr>\n",
       "    <tr>\n",
       "      <th>3</th>\n",
       "      <td>pax_raw_dir</td>\n",
       "      <td>/data/xenon/raw</td>\n",
       "      <td>&lt;OMITTED&gt;</td>\n",
       "      <td>(raw_records,)</td>\n",
       "      <td>Directory with raw pax datasets</td>\n",
       "    </tr>\n",
       "    <tr>\n",
       "      <th>4</th>\n",
       "      <td>stop_after_zips</td>\n",
       "      <td>0</td>\n",
       "      <td>&lt;OMITTED&gt;</td>\n",
       "      <td>(raw_records,)</td>\n",
       "      <td>Convert only this many zip files. 0 = all.</td>\n",
       "    </tr>\n",
       "    <tr>\n",
       "      <th>5</th>\n",
       "      <td>events_per_chunk</td>\n",
       "      <td>50</td>\n",
       "      <td>&lt;OMITTED&gt;</td>\n",
       "      <td>(raw_records,)</td>\n",
       "      <td>Number of events to yield per chunk</td>\n",
       "    </tr>\n",
       "    <tr>\n",
       "      <th>6</th>\n",
       "      <td>samples_per_record</td>\n",
       "      <td>110</td>\n",
       "      <td>&lt;OMITTED&gt;</td>\n",
       "      <td>(raw_records,)</td>\n",
       "      <td>Number of samples per record</td>\n",
       "    </tr>\n",
       "  </tbody>\n",
       "</table>\n",
       "</div>"
      ],
      "text/plain": [
       "               option          default    current          applies_to  \\\n",
       "0          led_window       (150, 275)  <OMITTED>  (led_calibration,)   \n",
       "1        noise_window         (0, 125)  <OMITTED>  (led_calibration,)   \n",
       "2        channel_list         (0, 248)  <OMITTED>  (led_calibration,)   \n",
       "3         pax_raw_dir  /data/xenon/raw  <OMITTED>      (raw_records,)   \n",
       "4     stop_after_zips                0  <OMITTED>      (raw_records,)   \n",
       "5    events_per_chunk               50  <OMITTED>      (raw_records,)   \n",
       "6  samples_per_record              110  <OMITTED>      (raw_records,)   \n",
       "\n",
       "                                                                                               help  \n",
       "0                                    Window (samples) where we expect the signal in LED calibration  \n",
       "1                                                            Window (samples) to analysis the noise  \n",
       "2  Three different light level for XENON1T: (0,36), (37,126), (127,248). Defalt value: all the PMTs  \n",
       "3                                                                   Directory with raw pax datasets  \n",
       "4                                                        Convert only this many zip files. 0 = all.  \n",
       "5                                                               Number of events to yield per chunk  \n",
       "6                                                                      Number of samples per record  "
      ]
     },
     "execution_count": 9,
     "metadata": {},
     "output_type": "execute_result"
    }
   ],
   "source": [
    "st.show_config('led_calibration')"
   ]
  },
  {
   "cell_type": "code",
   "execution_count": null,
   "metadata": {},
   "outputs": [],
   "source": [
    "st = st.new_context(config=dict(channel_list=(0,1)))\n",
    "st.show_config('led_calibration')"
   ]
  },
  {
   "cell_type": "code",
   "execution_count": null,
   "metadata": {},
   "outputs": [],
   "source": [
    "st.show_config('led_calibration')"
   ]
  },
  {
   "cell_type": "code",
   "execution_count": null,
   "metadata": {},
   "outputs": [],
   "source": [
    "runs = st.select_runs(run_mode='LED*')"
   ]
  },
  {
   "cell_type": "code",
   "execution_count": null,
   "metadata": {
    "scrolled": true
   },
   "outputs": [],
   "source": [
    "runs"
   ]
  },
  {
   "cell_type": "markdown",
   "metadata": {},
   "source": [
    "#### Hist of windows integration by raw_records plugin"
   ]
  },
  {
   "cell_type": "code",
   "execution_count": null,
   "metadata": {},
   "outputs": [],
   "source": [
    "run_id = '180219_1049'\n",
    "data_rr = st.get_array(run_id, 'raw_records', max_workers = 10, seconds_range=(0,5))"
   ]
  },
  {
   "cell_type": "markdown",
   "metadata": {},
   "source": [
    "#### Hist of windows integration by led_calibration plugin"
   ]
  },
  {
   "cell_type": "code",
   "execution_count": null,
   "metadata": {
    "scrolled": false
   },
   "outputs": [],
   "source": [
    "data_lc = st.get_array('180219_1049', 'led_calibration', max_workers = 10)"
   ]
  },
  {
   "cell_type": "code",
   "execution_count": null,
   "metadata": {},
   "outputs": [],
   "source": [
    "def get_amplitude(raw_records, led_window=[125, 250], noise_window=[350, 475]):\n",
    "    '''\n",
    "    Needed for the SPE computation.\n",
    "    Take the maximum in two different regions, where there is the signal and where there is not.\n",
    "    '''\n",
    "    on = np.zeros((len(raw_records)), dtype=[('channel','int16'),('amplitude_led', '<i4')])\n",
    "    off = np.zeros((len(raw_records)), dtype=[('channel','int16'),('amplitude_noise', '<i4')])\n",
    "    i = 0\n",
    "    for r in raw_records:\n",
    "        on['amplitude_led'][i] = np.max(r['data'][led_window[0]:led_window[1]])\n",
    "        on['channel'][i] = r['channel']\n",
    "        off['amplitude_noise'][i] = np.max(r['data'][noise_window[0]:noise_window[1]])\n",
    "        off['channel'][i] = r['channel']\n",
    "        i=i+1\n",
    "    return on, off\n",
    "\n",
    "def get_area(raw_records, LED_window=[125, 250]):\n",
    "    '''\n",
    "    Needed for the gain computation.\n",
    "    Sum the data in the defined window to get the area.\n",
    "    This is done in 6 integration window and it returns the average area.\n",
    "    '''\n",
    "    left = LED_window[0]\n",
    "    end_pos = [LED_window[1]+2*i for i in range(6)]\n",
    "\n",
    "    Area = np.zeros((len(raw_records)), dtype=[('channel','int16'),('area','float32')])\n",
    "    for right in end_pos:\n",
    "        Area['area'] += raw_records['data'][:, left:right].sum(axis=1)\n",
    "    Area['channel'] = raw_records['channel']\n",
    "    Area['area'] = Area['area']/float(len(end_pos))\n",
    "        \n",
    "    return Area"
   ]
  },
  {
   "cell_type": "code",
   "execution_count": null,
   "metadata": {},
   "outputs": [],
   "source": [
    "on, off = get_amplitude(data_rr)\n",
    "Area = get_area(data_rr)"
   ]
  },
  {
   "cell_type": "code",
   "execution_count": null,
   "metadata": {},
   "outputs": [],
   "source": [
    "data_lc"
   ]
  },
  {
   "cell_type": "markdown",
   "metadata": {},
   "source": [
    "### Comparison"
   ]
  },
  {
   "cell_type": "code",
   "execution_count": null,
   "metadata": {},
   "outputs": [],
   "source": [
    "plt.figure(figsize=(20,22))\n",
    "\n",
    "plt.subplot(321)\n",
    "plt.hist(data_lc[data_lc['channel']==0]['area'], bins=200, range=(-500, 2000), \n",
    "         color='red', histtype='step', density=True, label='lc')\n",
    "plt.yscale('log')\n",
    "plt.xlabel('Area')\n",
    "#plt.title('led_calibration')\n",
    "\n",
    "plt.subplot(322)\n",
    "plt.hist(Area[Area['channel']==0]['area'], bins=200, range=(-500, 2000), \n",
    "         color='gold', histtype='step', density=True, label='rr')\n",
    "plt.yscale('log')\n",
    "plt.xlabel('Area')\n",
    "#plt.title('raw_records')\n",
    "\n",
    "plt.subplot(323)\n",
    "plt.hist(data_lc[data_lc['channel']==0]['amplitude_led'], bins=100, range=(-5, 200), \n",
    "         color='red', histtype='step', density=True, label='lc')\n",
    "plt.hist(data_lc[data_lc['channel']==0]['amplitude_noise'], bins=100, range=(-5, 200), \n",
    "         color='black', histtype='step', density=True, label='lc')\n",
    "plt.yscale('log')\n",
    "plt.xlabel('Amplitude')\n",
    "\n",
    "plt.subplot(324)\n",
    "plt.hist(on[on['channel']==0]['amplitude_led'], bins=100, range=(-5, 200), \n",
    "         color='gold', histtype='step', density=True, label='rr')\n",
    "plt.hist(off[off['channel']==0]['amplitude_noise'], bins=100, range=(-5, 200), \n",
    "         color='black', histtype='step', density=True, label='rr')\n",
    "plt.yscale('log')\n",
    "#plt.xlabel('Amplitude')\n",
    "\n",
    "plt.subplot(325)\n",
    "plt.hist(data_lc[data_lc['channel']==0]['area'], bins=200, range=(-500, 2000), \n",
    "         color='red', histtype='step', density=True, label='lc')\n",
    "plt.hist(Area[Area['channel']==0]['area'], bins=200, range=(-500, 2000), \n",
    "         color='gold', histtype='step', density=True, label='rr')\n",
    "plt.yscale('log')\n",
    "plt.xlabel('Area')\n",
    "plt.legend(loc='best')\n",
    "#plt.title('raw_records')\n",
    "\n",
    "plt.subplot(326)\n",
    "plt.hist(on[on['channel']==0]['amplitude_led'], bins=100, range=(-5, 200), \n",
    "         color='gold', histtype='step', density=True, label='lc')\n",
    "plt.hist(data_lc[data_lc['channel']==0]['amplitude_led'], bins=100, range=(-5, 200), \n",
    "         color='red', histtype='step', density=True, label='rr')\n",
    "plt.yscale('log')\n",
    "plt.xlabel('Amplitude')\n",
    "plt.legend(loc='best')\n",
    "\n",
    "plt.show()\n",
    "plt.tight_layout()"
   ]
  },
  {
   "cell_type": "code",
   "execution_count": null,
   "metadata": {},
   "outputs": [],
   "source": []
  }
 ],
 "metadata": {
  "kernelspec": {
   "display_name": "Python [conda env:strax] *",
   "language": "python",
   "name": "conda-env-strax-py"
  },
  "language_info": {
   "codemirror_mode": {
    "name": "ipython",
    "version": 3
   },
   "file_extension": ".py",
   "mimetype": "text/x-python",
   "name": "python",
   "nbconvert_exporter": "python",
   "pygments_lexer": "ipython3",
   "version": "3.6.8"
  }
 },
 "nbformat": 4,
 "nbformat_minor": 2
}
