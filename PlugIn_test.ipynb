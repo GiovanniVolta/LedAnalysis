{
 "cells": [
  {
   "cell_type": "code",
   "execution_count": 1,
   "metadata": {},
   "outputs": [
    {
     "name": "stdout",
     "output_type": "stream",
     "text": [
      "/home/gvolta/XENONnT/straxen/straxen/__init__.py\n",
      "0.5.0\n",
      "0.8.8\n"
     ]
    }
   ],
   "source": [
    "import strax\n",
    "import straxen\n",
    "print(straxen.__file__)\n",
    "print(straxen.__version__)\n",
    "print(strax.__version__)\n",
    "import pandas as pd\n",
    "pd.options.display.max_colwidth = 100\n",
    "from tqdm import tqdm\n",
    "import numpy as np\n",
    "\n",
    "import numba\n",
    "\n",
    "from scipy.optimize import curve_fit\n",
    "from scipy import stats\n",
    "\n",
    "import matplotlib.pyplot as plt"
   ]
  },
  {
   "cell_type": "code",
   "execution_count": 2,
   "metadata": {},
   "outputs": [],
   "source": [
    "strax.Mailbox.DEFAULT_MAX_MESSAGES = 2"
   ]
  },
  {
   "cell_type": "code",
   "execution_count": 3,
   "metadata": {},
   "outputs": [],
   "source": [
    "st = straxen.contexts.strax_SPE()"
   ]
  },
  {
   "cell_type": "code",
   "execution_count": 4,
   "metadata": {},
   "outputs": [
    {
     "data": {
      "text/html": [
       "<div>\n",
       "<style scoped>\n",
       "    .dataframe tbody tr th:only-of-type {\n",
       "        vertical-align: middle;\n",
       "    }\n",
       "\n",
       "    .dataframe tbody tr th {\n",
       "        vertical-align: top;\n",
       "    }\n",
       "\n",
       "    .dataframe thead th {\n",
       "        text-align: right;\n",
       "    }\n",
       "</style>\n",
       "<table border=\"1\" class=\"dataframe\">\n",
       "  <thead>\n",
       "    <tr style=\"text-align: right;\">\n",
       "      <th></th>\n",
       "      <th>option</th>\n",
       "      <th>default</th>\n",
       "      <th>current</th>\n",
       "      <th>applies_to</th>\n",
       "      <th>help</th>\n",
       "    </tr>\n",
       "  </thead>\n",
       "  <tbody>\n",
       "    <tr>\n",
       "      <th>0</th>\n",
       "      <td>storage_converter</td>\n",
       "      <td>False</td>\n",
       "      <td>False</td>\n",
       "      <td>Context</td>\n",
       "      <td>If True, save data that is loaded from one frontend through all willing other storage frontends.</td>\n",
       "    </tr>\n",
       "    <tr>\n",
       "      <th>1</th>\n",
       "      <td>fuzzy_for</td>\n",
       "      <td>()</td>\n",
       "      <td>()</td>\n",
       "      <td>Context</td>\n",
       "      <td>Tuple of plugin names for which no checks for version, providing plugin, and config will be perf...</td>\n",
       "    </tr>\n",
       "    <tr>\n",
       "      <th>2</th>\n",
       "      <td>fuzzy_for_options</td>\n",
       "      <td>()</td>\n",
       "      <td>()</td>\n",
       "      <td>Context</td>\n",
       "      <td>Tuple of config options for which no checks will be performed when looking for data.</td>\n",
       "    </tr>\n",
       "    <tr>\n",
       "      <th>3</th>\n",
       "      <td>allow_incomplete</td>\n",
       "      <td>False</td>\n",
       "      <td>False</td>\n",
       "      <td>Context</td>\n",
       "      <td>Allow loading of incompletely written data, if the storage systems support it</td>\n",
       "    </tr>\n",
       "    <tr>\n",
       "      <th>4</th>\n",
       "      <td>allow_rechunk</td>\n",
       "      <td>True</td>\n",
       "      <td>True</td>\n",
       "      <td>Context</td>\n",
       "      <td>Allow rechunking of data during writing.</td>\n",
       "    </tr>\n",
       "    <tr>\n",
       "      <th>5</th>\n",
       "      <td>allow_multiprocess</td>\n",
       "      <td>False</td>\n",
       "      <td>True</td>\n",
       "      <td>Context</td>\n",
       "      <td>Allow multiprocessing.If False, will use multithreading only.</td>\n",
       "    </tr>\n",
       "    <tr>\n",
       "      <th>6</th>\n",
       "      <td>allow_shm</td>\n",
       "      <td>False</td>\n",
       "      <td>False</td>\n",
       "      <td>Context</td>\n",
       "      <td>Allow use of /dev/shm for interprocess communication.</td>\n",
       "    </tr>\n",
       "    <tr>\n",
       "      <th>7</th>\n",
       "      <td>forbid_creation_of</td>\n",
       "      <td>()</td>\n",
       "      <td>(raw_records,)</td>\n",
       "      <td>Context</td>\n",
       "      <td>If any of the following datatypes is requested to be created, throw an error instead. Useful to ...</td>\n",
       "    </tr>\n",
       "    <tr>\n",
       "      <th>8</th>\n",
       "      <td>store_run_fields</td>\n",
       "      <td>()</td>\n",
       "      <td>(name, number, reader.ini.name, tags.name, start, end, livetime, trigger.events_built)</td>\n",
       "      <td>Context</td>\n",
       "      <td>Tuple of run document fields to store during scan_run.</td>\n",
       "    </tr>\n",
       "    <tr>\n",
       "      <th>9</th>\n",
       "      <td>check_available</td>\n",
       "      <td>()</td>\n",
       "      <td>(raw_records, event_info)</td>\n",
       "      <td>Context</td>\n",
       "      <td>Tuple of data types to scan availability for during scan_run.</td>\n",
       "    </tr>\n",
       "    <tr>\n",
       "      <th>10</th>\n",
       "      <td>max_messages</td>\n",
       "      <td>4</td>\n",
       "      <td>4</td>\n",
       "      <td>Context</td>\n",
       "      <td>Maximum number of mailbox messages, i.e. size of buffer between plugins. Too high = RAM blows up...</td>\n",
       "    </tr>\n",
       "    <tr>\n",
       "      <th>11</th>\n",
       "      <td>timeout</td>\n",
       "      <td>300</td>\n",
       "      <td>300</td>\n",
       "      <td>Context</td>\n",
       "      <td>Terminate processing if any one mailbox receives no result for more than this many seconds</td>\n",
       "    </tr>\n",
       "  </tbody>\n",
       "</table>\n",
       "</div>"
      ],
      "text/plain": [
       "                option default  \\\n",
       "0    storage_converter   False   \n",
       "1            fuzzy_for      ()   \n",
       "2    fuzzy_for_options      ()   \n",
       "3     allow_incomplete   False   \n",
       "4        allow_rechunk    True   \n",
       "5   allow_multiprocess   False   \n",
       "6            allow_shm   False   \n",
       "7   forbid_creation_of      ()   \n",
       "8     store_run_fields      ()   \n",
       "9      check_available      ()   \n",
       "10        max_messages       4   \n",
       "11             timeout     300   \n",
       "\n",
       "                                                                                   current  \\\n",
       "0                                                                                    False   \n",
       "1                                                                                       ()   \n",
       "2                                                                                       ()   \n",
       "3                                                                                    False   \n",
       "4                                                                                     True   \n",
       "5                                                                                     True   \n",
       "6                                                                                    False   \n",
       "7                                                                           (raw_records,)   \n",
       "8   (name, number, reader.ini.name, tags.name, start, end, livetime, trigger.events_built)   \n",
       "9                                                                (raw_records, event_info)   \n",
       "10                                                                                       4   \n",
       "11                                                                                     300   \n",
       "\n",
       "   applies_to  \\\n",
       "0     Context   \n",
       "1     Context   \n",
       "2     Context   \n",
       "3     Context   \n",
       "4     Context   \n",
       "5     Context   \n",
       "6     Context   \n",
       "7     Context   \n",
       "8     Context   \n",
       "9     Context   \n",
       "10    Context   \n",
       "11    Context   \n",
       "\n",
       "                                                                                                   help  \n",
       "0      If True, save data that is loaded from one frontend through all willing other storage frontends.  \n",
       "1   Tuple of plugin names for which no checks for version, providing plugin, and config will be perf...  \n",
       "2                  Tuple of config options for which no checks will be performed when looking for data.  \n",
       "3                         Allow loading of incompletely written data, if the storage systems support it  \n",
       "4                                                              Allow rechunking of data during writing.  \n",
       "5                                         Allow multiprocessing.If False, will use multithreading only.  \n",
       "6                                                 Allow use of /dev/shm for interprocess communication.  \n",
       "7   If any of the following datatypes is requested to be created, throw an error instead. Useful to ...  \n",
       "8                                                Tuple of run document fields to store during scan_run.  \n",
       "9                                         Tuple of data types to scan availability for during scan_run.  \n",
       "10  Maximum number of mailbox messages, i.e. size of buffer between plugins. Too high = RAM blows up...  \n",
       "11           Terminate processing if any one mailbox receives no result for more than this many seconds  "
      ]
     },
     "execution_count": 4,
     "metadata": {},
     "output_type": "execute_result"
    }
   ],
   "source": [
    "st.show_config()"
   ]
  },
  {
   "cell_type": "code",
   "execution_count": 5,
   "metadata": {},
   "outputs": [
    {
     "data": {
      "text/html": [
       "<div>\n",
       "<style scoped>\n",
       "    .dataframe tbody tr th:only-of-type {\n",
       "        vertical-align: middle;\n",
       "    }\n",
       "\n",
       "    .dataframe tbody tr th {\n",
       "        vertical-align: top;\n",
       "    }\n",
       "\n",
       "    .dataframe thead th {\n",
       "        text-align: right;\n",
       "    }\n",
       "</style>\n",
       "<table border=\"1\" class=\"dataframe\">\n",
       "  <thead>\n",
       "    <tr style=\"text-align: right;\">\n",
       "      <th></th>\n",
       "      <th>option</th>\n",
       "      <th>default</th>\n",
       "      <th>current</th>\n",
       "      <th>applies_to</th>\n",
       "      <th>help</th>\n",
       "    </tr>\n",
       "  </thead>\n",
       "  <tbody>\n",
       "    <tr>\n",
       "      <th>0</th>\n",
       "      <td>led_window</td>\n",
       "      <td>(150, 275)</td>\n",
       "      <td>&lt;OMITTED&gt;</td>\n",
       "      <td>(led_calibration,)</td>\n",
       "      <td>Window (samples) where we expect the signal in LED calibration</td>\n",
       "    </tr>\n",
       "    <tr>\n",
       "      <th>1</th>\n",
       "      <td>noise_window</td>\n",
       "      <td>(0, 125)</td>\n",
       "      <td>&lt;OMITTED&gt;</td>\n",
       "      <td>(led_calibration,)</td>\n",
       "      <td>Window (samples) to analysis the noise</td>\n",
       "    </tr>\n",
       "    <tr>\n",
       "      <th>2</th>\n",
       "      <td>channel_list</td>\n",
       "      <td>(0, 248)</td>\n",
       "      <td>&lt;OMITTED&gt;</td>\n",
       "      <td>(led_calibration,)</td>\n",
       "      <td>Three different light level for XENON1T: (0,36), (37,126), (127,248). Defalt value: all the PMTs</td>\n",
       "    </tr>\n",
       "    <tr>\n",
       "      <th>3</th>\n",
       "      <td>pax_raw_dir</td>\n",
       "      <td>/data/xenon/raw</td>\n",
       "      <td>&lt;OMITTED&gt;</td>\n",
       "      <td>(raw_records,)</td>\n",
       "      <td>Directory with raw pax datasets</td>\n",
       "    </tr>\n",
       "    <tr>\n",
       "      <th>4</th>\n",
       "      <td>stop_after_zips</td>\n",
       "      <td>0</td>\n",
       "      <td>&lt;OMITTED&gt;</td>\n",
       "      <td>(raw_records,)</td>\n",
       "      <td>Convert only this many zip files. 0 = all.</td>\n",
       "    </tr>\n",
       "    <tr>\n",
       "      <th>5</th>\n",
       "      <td>events_per_chunk</td>\n",
       "      <td>50</td>\n",
       "      <td>&lt;OMITTED&gt;</td>\n",
       "      <td>(raw_records,)</td>\n",
       "      <td>Number of events to yield per chunk</td>\n",
       "    </tr>\n",
       "    <tr>\n",
       "      <th>6</th>\n",
       "      <td>samples_per_record</td>\n",
       "      <td>110</td>\n",
       "      <td>&lt;OMITTED&gt;</td>\n",
       "      <td>(raw_records,)</td>\n",
       "      <td>Number of samples per record</td>\n",
       "    </tr>\n",
       "  </tbody>\n",
       "</table>\n",
       "</div>"
      ],
      "text/plain": [
       "               option          default    current          applies_to  \\\n",
       "0          led_window       (150, 275)  <OMITTED>  (led_calibration,)   \n",
       "1        noise_window         (0, 125)  <OMITTED>  (led_calibration,)   \n",
       "2        channel_list         (0, 248)  <OMITTED>  (led_calibration,)   \n",
       "3         pax_raw_dir  /data/xenon/raw  <OMITTED>      (raw_records,)   \n",
       "4     stop_after_zips                0  <OMITTED>      (raw_records,)   \n",
       "5    events_per_chunk               50  <OMITTED>      (raw_records,)   \n",
       "6  samples_per_record              110  <OMITTED>      (raw_records,)   \n",
       "\n",
       "                                                                                               help  \n",
       "0                                    Window (samples) where we expect the signal in LED calibration  \n",
       "1                                                            Window (samples) to analysis the noise  \n",
       "2  Three different light level for XENON1T: (0,36), (37,126), (127,248). Defalt value: all the PMTs  \n",
       "3                                                                   Directory with raw pax datasets  \n",
       "4                                                        Convert only this many zip files. 0 = all.  \n",
       "5                                                               Number of events to yield per chunk  \n",
       "6                                                                      Number of samples per record  "
      ]
     },
     "execution_count": 5,
     "metadata": {},
     "output_type": "execute_result"
    }
   ],
   "source": [
    "st.show_config('led_calibration')"
   ]
  },
  {
   "cell_type": "code",
   "execution_count": 6,
   "metadata": {},
   "outputs": [
    {
     "data": {
      "text/html": [
       "<div>\n",
       "<style scoped>\n",
       "    .dataframe tbody tr th:only-of-type {\n",
       "        vertical-align: middle;\n",
       "    }\n",
       "\n",
       "    .dataframe tbody tr th {\n",
       "        vertical-align: top;\n",
       "    }\n",
       "\n",
       "    .dataframe thead th {\n",
       "        text-align: right;\n",
       "    }\n",
       "</style>\n",
       "<table border=\"1\" class=\"dataframe\">\n",
       "  <thead>\n",
       "    <tr style=\"text-align: right;\">\n",
       "      <th></th>\n",
       "      <th>option</th>\n",
       "      <th>default</th>\n",
       "      <th>current</th>\n",
       "      <th>applies_to</th>\n",
       "      <th>help</th>\n",
       "    </tr>\n",
       "  </thead>\n",
       "  <tbody>\n",
       "    <tr>\n",
       "      <th>0</th>\n",
       "      <td>led_window</td>\n",
       "      <td>(150, 275)</td>\n",
       "      <td>&lt;OMITTED&gt;</td>\n",
       "      <td>(led_calibration,)</td>\n",
       "      <td>Window (samples) where we expect the signal in LED calibration</td>\n",
       "    </tr>\n",
       "    <tr>\n",
       "      <th>1</th>\n",
       "      <td>noise_window</td>\n",
       "      <td>(0, 125)</td>\n",
       "      <td>&lt;OMITTED&gt;</td>\n",
       "      <td>(led_calibration,)</td>\n",
       "      <td>Window (samples) to analysis the noise</td>\n",
       "    </tr>\n",
       "    <tr>\n",
       "      <th>2</th>\n",
       "      <td>channel_list</td>\n",
       "      <td>(0, 248)</td>\n",
       "      <td>(1, 2)</td>\n",
       "      <td>(led_calibration,)</td>\n",
       "      <td>Three different light level for XENON1T: (0,36), (37,126), (127,248). Defalt value: all the PMTs</td>\n",
       "    </tr>\n",
       "    <tr>\n",
       "      <th>3</th>\n",
       "      <td>pax_raw_dir</td>\n",
       "      <td>/data/xenon/raw</td>\n",
       "      <td>&lt;OMITTED&gt;</td>\n",
       "      <td>(raw_records,)</td>\n",
       "      <td>Directory with raw pax datasets</td>\n",
       "    </tr>\n",
       "    <tr>\n",
       "      <th>4</th>\n",
       "      <td>stop_after_zips</td>\n",
       "      <td>0</td>\n",
       "      <td>&lt;OMITTED&gt;</td>\n",
       "      <td>(raw_records,)</td>\n",
       "      <td>Convert only this many zip files. 0 = all.</td>\n",
       "    </tr>\n",
       "    <tr>\n",
       "      <th>5</th>\n",
       "      <td>events_per_chunk</td>\n",
       "      <td>50</td>\n",
       "      <td>&lt;OMITTED&gt;</td>\n",
       "      <td>(raw_records,)</td>\n",
       "      <td>Number of events to yield per chunk</td>\n",
       "    </tr>\n",
       "    <tr>\n",
       "      <th>6</th>\n",
       "      <td>samples_per_record</td>\n",
       "      <td>110</td>\n",
       "      <td>&lt;OMITTED&gt;</td>\n",
       "      <td>(raw_records,)</td>\n",
       "      <td>Number of samples per record</td>\n",
       "    </tr>\n",
       "  </tbody>\n",
       "</table>\n",
       "</div>"
      ],
      "text/plain": [
       "               option          default    current          applies_to  \\\n",
       "0          led_window       (150, 275)  <OMITTED>  (led_calibration,)   \n",
       "1        noise_window         (0, 125)  <OMITTED>  (led_calibration,)   \n",
       "2        channel_list         (0, 248)     (1, 2)  (led_calibration,)   \n",
       "3         pax_raw_dir  /data/xenon/raw  <OMITTED>      (raw_records,)   \n",
       "4     stop_after_zips                0  <OMITTED>      (raw_records,)   \n",
       "5    events_per_chunk               50  <OMITTED>      (raw_records,)   \n",
       "6  samples_per_record              110  <OMITTED>      (raw_records,)   \n",
       "\n",
       "                                                                                               help  \n",
       "0                                    Window (samples) where we expect the signal in LED calibration  \n",
       "1                                                            Window (samples) to analysis the noise  \n",
       "2  Three different light level for XENON1T: (0,36), (37,126), (127,248). Defalt value: all the PMTs  \n",
       "3                                                                   Directory with raw pax datasets  \n",
       "4                                                        Convert only this many zip files. 0 = all.  \n",
       "5                                                               Number of events to yield per chunk  \n",
       "6                                                                      Number of samples per record  "
      ]
     },
     "execution_count": 6,
     "metadata": {},
     "output_type": "execute_result"
    }
   ],
   "source": [
    "st = st.new_context(config=dict(channel_list=(1,2)))\n",
    "st.show_config('led_calibration')"
   ]
  },
  {
   "cell_type": "code",
   "execution_count": 8,
   "metadata": {},
   "outputs": [
    {
     "name": "stderr",
     "output_type": "stream",
     "text": [
      "Checking data availability: 100%|██████████| 2/2 [00:25<00:00, 12.90s/it]\n"
     ]
    }
   ],
   "source": [
    "runs = st.select_runs(run_mode='LED*')"
   ]
  },
  {
   "cell_type": "code",
   "execution_count": 9,
   "metadata": {
    "scrolled": true
   },
   "outputs": [
    {
     "data": {
      "text/html": [
       "<div>\n",
       "<style scoped>\n",
       "    .dataframe tbody tr th:only-of-type {\n",
       "        vertical-align: middle;\n",
       "    }\n",
       "\n",
       "    .dataframe tbody tr th {\n",
       "        vertical-align: top;\n",
       "    }\n",
       "\n",
       "    .dataframe thead th {\n",
       "        text-align: right;\n",
       "    }\n",
       "</style>\n",
       "<table border=\"1\" class=\"dataframe\">\n",
       "  <thead>\n",
       "    <tr style=\"text-align: right;\">\n",
       "      <th></th>\n",
       "      <th>name</th>\n",
       "      <th>number</th>\n",
       "      <th>start</th>\n",
       "      <th>reader.ini.name</th>\n",
       "      <th>trigger.events_built</th>\n",
       "      <th>end</th>\n",
       "      <th>tags</th>\n",
       "      <th>mode</th>\n",
       "      <th>livetime</th>\n",
       "      <th>raw_records_available</th>\n",
       "      <th>event_info_available</th>\n",
       "    </tr>\n",
       "  </thead>\n",
       "  <tbody>\n",
       "    <tr>\n",
       "      <th>121</th>\n",
       "      <td>180219_0952</td>\n",
       "      <td>16979</td>\n",
       "      <td>2018-02-19 09:52:13+00:00</td>\n",
       "      <td>LED_3mus_stable</td>\n",
       "      <td>196157.0</td>\n",
       "      <td>2018-02-19 10:00:16+00:00</td>\n",
       "      <td>gain_step0,_sciencerun2_candidate</td>\n",
       "      <td>LED_3mus_stable</td>\n",
       "      <td>00:08:03</td>\n",
       "      <td>True</td>\n",
       "      <td>False</td>\n",
       "    </tr>\n",
       "    <tr>\n",
       "      <th>122</th>\n",
       "      <td>180219_1001</td>\n",
       "      <td>16980</td>\n",
       "      <td>2018-02-19 10:01:41+00:00</td>\n",
       "      <td>LED_3mus_stable</td>\n",
       "      <td>196207.0</td>\n",
       "      <td>2018-02-19 10:09:44+00:00</td>\n",
       "      <td>gain_step1,_sciencerun2_candidate</td>\n",
       "      <td>LED_3mus_stable</td>\n",
       "      <td>00:08:03</td>\n",
       "      <td>True</td>\n",
       "      <td>False</td>\n",
       "    </tr>\n",
       "    <tr>\n",
       "      <th>123</th>\n",
       "      <td>180219_1011</td>\n",
       "      <td>16981</td>\n",
       "      <td>2018-02-19 10:11:06+00:00</td>\n",
       "      <td>LED_3mus_stable</td>\n",
       "      <td>194686.0</td>\n",
       "      <td>2018-02-19 10:19:09+00:00</td>\n",
       "      <td>gain_step2,_sciencerun2_candidate</td>\n",
       "      <td>LED_3mus_stable</td>\n",
       "      <td>00:08:03</td>\n",
       "      <td>True</td>\n",
       "      <td>False</td>\n",
       "    </tr>\n",
       "    <tr>\n",
       "      <th>124</th>\n",
       "      <td>180219_1021</td>\n",
       "      <td>16982</td>\n",
       "      <td>2018-02-19 10:21:18+00:00</td>\n",
       "      <td>LED_3mus_stable</td>\n",
       "      <td>196373.0</td>\n",
       "      <td>2018-02-19 10:29:22+00:00</td>\n",
       "      <td>gain_step3,_sciencerun2_candidate</td>\n",
       "      <td>LED_3mus_stable</td>\n",
       "      <td>00:08:04</td>\n",
       "      <td>True</td>\n",
       "      <td>False</td>\n",
       "    </tr>\n",
       "    <tr>\n",
       "      <th>125</th>\n",
       "      <td>180219_1030</td>\n",
       "      <td>16983</td>\n",
       "      <td>2018-02-19 10:31:02+00:00</td>\n",
       "      <td>LED_3mus_stable</td>\n",
       "      <td>195938.0</td>\n",
       "      <td>2018-02-19 10:39:05+00:00</td>\n",
       "      <td>gain_step4,_sciencerun2_candidate</td>\n",
       "      <td>LED_3mus_stable</td>\n",
       "      <td>00:08:03</td>\n",
       "      <td>True</td>\n",
       "      <td>False</td>\n",
       "    </tr>\n",
       "    <tr>\n",
       "      <th>126</th>\n",
       "      <td>180219_1049</td>\n",
       "      <td>16985</td>\n",
       "      <td>2018-02-19 10:50:00+00:00</td>\n",
       "      <td>LED_3mus_stable</td>\n",
       "      <td>194366.0</td>\n",
       "      <td>2018-02-19 10:58:02+00:00</td>\n",
       "      <td>spe_topbulk,_sciencerun2_candidate</td>\n",
       "      <td>LED_3mus_stable</td>\n",
       "      <td>00:08:02</td>\n",
       "      <td>True</td>\n",
       "      <td>False</td>\n",
       "    </tr>\n",
       "    <tr>\n",
       "      <th>127</th>\n",
       "      <td>180219_1059</td>\n",
       "      <td>16986</td>\n",
       "      <td>2018-02-19 10:59:21+00:00</td>\n",
       "      <td>LED_3mus_stable</td>\n",
       "      <td>193050.0</td>\n",
       "      <td>2018-02-19 11:07:24+00:00</td>\n",
       "      <td>spe_topring,_sciencerun2_candidate</td>\n",
       "      <td>LED_3mus_stable</td>\n",
       "      <td>00:08:03</td>\n",
       "      <td>True</td>\n",
       "      <td>False</td>\n",
       "    </tr>\n",
       "    <tr>\n",
       "      <th>128</th>\n",
       "      <td>180219_1110</td>\n",
       "      <td>16987</td>\n",
       "      <td>2018-02-19 11:10:28+00:00</td>\n",
       "      <td>LED_7mus_stable</td>\n",
       "      <td>46116.0</td>\n",
       "      <td>2018-02-19 11:15:31+00:00</td>\n",
       "      <td>Afterpulse,_sciencerun2_candidate</td>\n",
       "      <td>LED_7mus_stable</td>\n",
       "      <td>00:05:03</td>\n",
       "      <td>True</td>\n",
       "      <td>False</td>\n",
       "    </tr>\n",
       "    <tr>\n",
       "      <th>129</th>\n",
       "      <td>180219_1116</td>\n",
       "      <td>16988</td>\n",
       "      <td>2018-02-19 11:16:48+00:00</td>\n",
       "      <td>LED_7mus_stable</td>\n",
       "      <td>137431.0</td>\n",
       "      <td>2018-02-19 11:31:50+00:00</td>\n",
       "      <td>Afterpulse,_sciencerun2_candidate</td>\n",
       "      <td>LED_7mus_stable</td>\n",
       "      <td>00:15:02</td>\n",
       "      <td>True</td>\n",
       "      <td>False</td>\n",
       "    </tr>\n",
       "  </tbody>\n",
       "</table>\n",
       "</div>"
      ],
      "text/plain": [
       "            name  number                     start  reader.ini.name  \\\n",
       "121  180219_0952   16979 2018-02-19 09:52:13+00:00  LED_3mus_stable   \n",
       "122  180219_1001   16980 2018-02-19 10:01:41+00:00  LED_3mus_stable   \n",
       "123  180219_1011   16981 2018-02-19 10:11:06+00:00  LED_3mus_stable   \n",
       "124  180219_1021   16982 2018-02-19 10:21:18+00:00  LED_3mus_stable   \n",
       "125  180219_1030   16983 2018-02-19 10:31:02+00:00  LED_3mus_stable   \n",
       "126  180219_1049   16985 2018-02-19 10:50:00+00:00  LED_3mus_stable   \n",
       "127  180219_1059   16986 2018-02-19 10:59:21+00:00  LED_3mus_stable   \n",
       "128  180219_1110   16987 2018-02-19 11:10:28+00:00  LED_7mus_stable   \n",
       "129  180219_1116   16988 2018-02-19 11:16:48+00:00  LED_7mus_stable   \n",
       "\n",
       "     trigger.events_built                       end  \\\n",
       "121              196157.0 2018-02-19 10:00:16+00:00   \n",
       "122              196207.0 2018-02-19 10:09:44+00:00   \n",
       "123              194686.0 2018-02-19 10:19:09+00:00   \n",
       "124              196373.0 2018-02-19 10:29:22+00:00   \n",
       "125              195938.0 2018-02-19 10:39:05+00:00   \n",
       "126              194366.0 2018-02-19 10:58:02+00:00   \n",
       "127              193050.0 2018-02-19 11:07:24+00:00   \n",
       "128               46116.0 2018-02-19 11:15:31+00:00   \n",
       "129              137431.0 2018-02-19 11:31:50+00:00   \n",
       "\n",
       "                                   tags             mode livetime  \\\n",
       "121   gain_step0,_sciencerun2_candidate  LED_3mus_stable 00:08:03   \n",
       "122   gain_step1,_sciencerun2_candidate  LED_3mus_stable 00:08:03   \n",
       "123   gain_step2,_sciencerun2_candidate  LED_3mus_stable 00:08:03   \n",
       "124   gain_step3,_sciencerun2_candidate  LED_3mus_stable 00:08:04   \n",
       "125   gain_step4,_sciencerun2_candidate  LED_3mus_stable 00:08:03   \n",
       "126  spe_topbulk,_sciencerun2_candidate  LED_3mus_stable 00:08:02   \n",
       "127  spe_topring,_sciencerun2_candidate  LED_3mus_stable 00:08:03   \n",
       "128   Afterpulse,_sciencerun2_candidate  LED_7mus_stable 00:05:03   \n",
       "129   Afterpulse,_sciencerun2_candidate  LED_7mus_stable 00:15:02   \n",
       "\n",
       "     raw_records_available  event_info_available  \n",
       "121                   True                 False  \n",
       "122                   True                 False  \n",
       "123                   True                 False  \n",
       "124                   True                 False  \n",
       "125                   True                 False  \n",
       "126                   True                 False  \n",
       "127                   True                 False  \n",
       "128                   True                 False  \n",
       "129                   True                 False  "
      ]
     },
     "execution_count": 9,
     "metadata": {},
     "output_type": "execute_result"
    }
   ],
   "source": [
    "runs"
   ]
  },
  {
   "cell_type": "markdown",
   "metadata": {},
   "source": [
    "#### Hist of windows integration by raw_records plugin"
   ]
  },
  {
   "cell_type": "code",
   "execution_count": 17,
   "metadata": {},
   "outputs": [],
   "source": [
    "run_id = '180219_1011'\n",
    "data_rr = st.get_array(run_id, 'raw_records', max_workers = 10, seconds_range=(0,10))"
   ]
  },
  {
   "cell_type": "markdown",
   "metadata": {},
   "source": [
    "#### Shingo baseline"
   ]
  },
  {
   "cell_type": "code",
   "execution_count": 27,
   "metadata": {},
   "outputs": [],
   "source": [
    "def get_area(raw_records, led_window, noise_window):\n",
    "    '''\n",
    "    Needed for the gain computation.\n",
    "    Sum the data in the defined window to get the area.\n",
    "    This is done in 6 integration window and it returns the average area.\n",
    "    '''\n",
    "    left = led_window[0]\n",
    "    end_pos = [led_window[1]+2*i for i in range(6)]\n",
    "\n",
    "    left_noise  = noise_window[0]\n",
    "    right_noise = noise_window[-1]\n",
    "    \n",
    "    Area = np.zeros((len(raw_records)), dtype=[('channel','int16'),('area','float64')])\n",
    "    for right in end_pos:\n",
    "        Area['area'] += raw_records['data'][:, left:right].sum(axis=1)\n",
    "        Area['area'] -= float(right-left)*raw_records['data'][:, left_noise:right_noise].sum(axis=1)/(right_noise-left_noise)\n",
    "    Area['channel'] = raw_records['channel']\n",
    "    Area['area'] = Area['area']/float(len(end_pos))\n",
    "        \n",
    "    return Area\n",
    "\n",
    "\n",
    "def get_area_old(raw_records, led_window, noise_window):\n",
    "    '''\n",
    "    Needed for the gain computation.\n",
    "    Sum the data in the defined window to get the area.\n",
    "    This is done in 6 integration window and it returns the average area.\n",
    "    '''\n",
    "    left = led_window[0]\n",
    "    end_pos = [led_window[1]+2*i for i in range(6)]\n",
    "\n",
    "    left_noise  = noise_window[0]\n",
    "    right_noise = noise_window[-1]\n",
    "    \n",
    "    Area = np.zeros((len(raw_records)), dtype=[('channel','int16'),('area','float64')])\n",
    "    for right in end_pos:\n",
    "        Area['area'] += raw_records['data'][:, left:right].sum(axis=1)\n",
    "        #Area['area'] -= float(right-left)*raw_records['data'][:, left_noise:right_noise].sum(axis=1)/(right_noise-left_noise)\n",
    "    Area['channel'] = raw_records['channel']\n",
    "    Area['area'] = Area['area']/float(len(end_pos))\n",
    "        \n",
    "    return Area\n"
   ]
  },
  {
   "cell_type": "code",
   "execution_count": 35,
   "metadata": {},
   "outputs": [
    {
     "data": {
      "text/plain": [
       "-62.48332268370607"
      ]
     },
     "execution_count": 35,
     "metadata": {},
     "output_type": "execute_result"
    }
   ],
   "source": [
    "(Area['area'] - Area_shingo['area']).mean()"
   ]
  },
  {
   "cell_type": "code",
   "execution_count": 33,
   "metadata": {},
   "outputs": [
    {
     "data": {
      "text/plain": [
       "array([ 18.8       ,  62.98666667, 654.40666667, ..., 167.58      ,\n",
       "       274.41333333,  58.48666667])"
      ]
     },
     "execution_count": 33,
     "metadata": {},
     "output_type": "execute_result"
    }
   ],
   "source": [
    "Area_shingo['area']"
   ]
  },
  {
   "cell_type": "code",
   "execution_count": 28,
   "metadata": {},
   "outputs": [
    {
     "data": {
      "image/png": "[encoded data removed]",
      "text/plain": [
       "<Figure size 720x360 with 2 Axes>"
      ]
     },
     "metadata": {
      "needs_background": "light"
     },
     "output_type": "display_data"
    },
    {
     "data": {
      "image/png": "[encoded data removed]",
      "text/plain": [
       "<Figure size 720x360 with 2 Axes>"
      ]
     },
     "metadata": {
      "needs_background": "light"
     },
     "output_type": "display_data"
    },
    {
     "data": {
      "image/png": "[encoded data removed]",
      "text/plain": [
       "<Figure size 720x360 with 2 Axes>"
      ]
     },
     "metadata": {
      "needs_background": "light"
     },
     "output_type": "display_data"
    },
    {
     "data": {
      "image/png": "[encoded data removed]",
      "text/plain": [
       "<Figure size 720x360 with 2 Axes>"
      ]
     },
     "metadata": {
      "needs_background": "light"
     },
     "output_type": "display_data"
    },
    {
     "data": {
      "image/png": "[encoded data removed]",
      "text/plain": [
       "<Figure size 720x360 with 2 Axes>"
      ]
     },
     "metadata": {
      "needs_background": "light"
     },
     "output_type": "display_data"
    },
    {
     "data": {
      "image/png": "[encoded data removed]",
      "text/plain": [
       "<Figure size 720x360 with 2 Axes>"
      ]
     },
     "metadata": {
      "needs_background": "light"
     },
     "output_type": "display_data"
    },
    {
     "data": {
      "image/png": "[encoded data removed]",
      "text/plain": [
       "<Figure size 720x360 with 2 Axes>"
      ]
     },
     "metadata": {
      "needs_background": "light"
     },
     "output_type": "display_data"
    },
    {
     "data": {
      "image/png": "[encoded data removed]",
      "text/plain": [
       "<Figure size 720x360 with 2 Axes>"
      ]
     },
     "metadata": {
      "needs_background": "light"
     },
     "output_type": "display_data"
    },
    {
     "data": {
      "image/png": "[encoded data removed]",
      "text/plain": [
       "<Figure size 720x360 with 2 Axes>"
      ]
     },
     "metadata": {
      "needs_background": "light"
     },
     "output_type": "display_data"
    },
    {
     "data": {
      "image/png": "[encoded data removed]",
      "text/plain": [
       "<Figure size 720x360 with 2 Axes>"
      ]
     },
     "metadata": {
      "needs_background": "light"
     },
     "output_type": "display_data"
    }
   ],
   "source": [
    "for ch in range(0, 10):\n",
    "    Area_shingo = get_area(data_rr[data_rr['channel']==ch], (150, 275), (0,125))\n",
    "    Area = get_area_old(data_rr[data_rr['channel']==ch], (150, 275), (0,125))\n",
    "    plt.figure(figsize=(10,5))\n",
    "    plt.subplot(121)\n",
    "    plt.hist(Area_shingo['area'], bins=3000, range=[-1000,5000])\n",
    "    plt.yscale('log')\n",
    "    plt.subplot(122)\n",
    "    plt.hist(Area['area'], bins=3000, range=[-1000,5000])\n",
    "    plt.yscale('log')\n",
    "    plt.show()"
   ]
  },
  {
   "cell_type": "code",
   "execution_count": null,
   "metadata": {},
   "outputs": [],
   "source": []
  },
  {
   "cell_type": "code",
   "execution_count": null,
   "metadata": {},
   "outputs": [],
   "source": []
  },
  {
   "cell_type": "code",
   "execution_count": null,
   "metadata": {},
   "outputs": [],
   "source": []
  },
  {
   "cell_type": "code",
   "execution_count": null,
   "metadata": {},
   "outputs": [],
   "source": []
  },
  {
   "cell_type": "markdown",
   "metadata": {},
   "source": [
    "#### Hist of windows integration by led_calibration plugin"
   ]
  },
  {
   "cell_type": "code",
   "execution_count": 8,
   "metadata": {},
   "outputs": [],
   "source": [
    "import configparser as cp\n",
    "Config = cp.ConfigParser()\n",
    "Config.read('/home/gvolta/XENONnT/LedAnalysis/Script/configuration.ini')\n",
    "run_led = Config.get('runs_pars','run_led')\n",
    "led_window   = [Config.getint('window_pars','led_windows_left'), Config.getint('window_pars','led_windows_right')]\n",
    "noise_window = [Config.getint('window_pars','noise_windows_left'), Config.getint('window_pars','noise_windows_right')]"
   ]
  },
  {
   "cell_type": "code",
   "execution_count": 9,
   "metadata": {},
   "outputs": [
    {
     "data": {
      "text/html": [
       "<div>\n",
       "<style scoped>\n",
       "    .dataframe tbody tr th:only-of-type {\n",
       "        vertical-align: middle;\n",
       "    }\n",
       "\n",
       "    .dataframe tbody tr th {\n",
       "        vertical-align: top;\n",
       "    }\n",
       "\n",
       "    .dataframe thead th {\n",
       "        text-align: right;\n",
       "    }\n",
       "</style>\n",
       "<table border=\"1\" class=\"dataframe\">\n",
       "  <thead>\n",
       "    <tr style=\"text-align: right;\">\n",
       "      <th></th>\n",
       "      <th>option</th>\n",
       "      <th>default</th>\n",
       "      <th>current</th>\n",
       "      <th>applies_to</th>\n",
       "      <th>help</th>\n",
       "    </tr>\n",
       "  </thead>\n",
       "  <tbody>\n",
       "    <tr>\n",
       "      <th>0</th>\n",
       "      <td>led_window</td>\n",
       "      <td>(150, 275)</td>\n",
       "      <td>(143, 168)</td>\n",
       "      <td>(led_calibration,)</td>\n",
       "      <td>Window (samples) where we expect the signal in LED calibration</td>\n",
       "    </tr>\n",
       "    <tr>\n",
       "      <th>1</th>\n",
       "      <td>noise_window</td>\n",
       "      <td>(0, 125)</td>\n",
       "      <td>(5, 30)</td>\n",
       "      <td>(led_calibration,)</td>\n",
       "      <td>Window (samples) to analysis the noise</td>\n",
       "    </tr>\n",
       "    <tr>\n",
       "      <th>2</th>\n",
       "      <td>channel_list</td>\n",
       "      <td>(0, 248)</td>\n",
       "      <td>(2, 3)</td>\n",
       "      <td>(led_calibration,)</td>\n",
       "      <td>Three different light level for XENON1T: (0,36), (37,126), (127,248). Defalt value: all the PMTs</td>\n",
       "    </tr>\n",
       "    <tr>\n",
       "      <th>3</th>\n",
       "      <td>pax_raw_dir</td>\n",
       "      <td>/data/xenon/raw</td>\n",
       "      <td>&lt;OMITTED&gt;</td>\n",
       "      <td>(raw_records,)</td>\n",
       "      <td>Directory with raw pax datasets</td>\n",
       "    </tr>\n",
       "    <tr>\n",
       "      <th>4</th>\n",
       "      <td>stop_after_zips</td>\n",
       "      <td>0</td>\n",
       "      <td>&lt;OMITTED&gt;</td>\n",
       "      <td>(raw_records,)</td>\n",
       "      <td>Convert only this many zip files. 0 = all.</td>\n",
       "    </tr>\n",
       "    <tr>\n",
       "      <th>5</th>\n",
       "      <td>events_per_chunk</td>\n",
       "      <td>50</td>\n",
       "      <td>&lt;OMITTED&gt;</td>\n",
       "      <td>(raw_records,)</td>\n",
       "      <td>Number of events to yield per chunk</td>\n",
       "    </tr>\n",
       "    <tr>\n",
       "      <th>6</th>\n",
       "      <td>samples_per_record</td>\n",
       "      <td>110</td>\n",
       "      <td>&lt;OMITTED&gt;</td>\n",
       "      <td>(raw_records,)</td>\n",
       "      <td>Number of samples per record</td>\n",
       "    </tr>\n",
       "  </tbody>\n",
       "</table>\n",
       "</div>"
      ],
      "text/plain": [
       "               option          default     current          applies_to  \\\n",
       "0          led_window       (150, 275)  (143, 168)  (led_calibration,)   \n",
       "1        noise_window         (0, 125)     (5, 30)  (led_calibration,)   \n",
       "2        channel_list         (0, 248)      (2, 3)  (led_calibration,)   \n",
       "3         pax_raw_dir  /data/xenon/raw   <OMITTED>      (raw_records,)   \n",
       "4     stop_after_zips                0   <OMITTED>      (raw_records,)   \n",
       "5    events_per_chunk               50   <OMITTED>      (raw_records,)   \n",
       "6  samples_per_record              110   <OMITTED>      (raw_records,)   \n",
       "\n",
       "                                                                                               help  \n",
       "0                                    Window (samples) where we expect the signal in LED calibration  \n",
       "1                                                            Window (samples) to analysis the noise  \n",
       "2  Three different light level for XENON1T: (0,36), (37,126), (127,248). Defalt value: all the PMTs  \n",
       "3                                                                   Directory with raw pax datasets  \n",
       "4                                                        Convert only this many zip files. 0 = all.  \n",
       "5                                                               Number of events to yield per chunk  \n",
       "6                                                                      Number of samples per record  "
      ]
     },
     "execution_count": 9,
     "metadata": {},
     "output_type": "execute_result"
    }
   ],
   "source": [
    "st_2 = st.new_context(config=dict(led_window=(led_window[0],led_window[1]), \n",
    "                                noise_window=(noise_window[0], noise_window[1]),\n",
    "                                channel_list=(2,3)))\n",
    "st_2.show_config('led_calibration')"
   ]
  },
  {
   "cell_type": "code",
   "execution_count": 10,
   "metadata": {},
   "outputs": [],
   "source": [
    "data_lc = st_2.get_array('180219_1049', 'led_calibration', max_workers = 10)"
   ]
  },
  {
   "cell_type": "code",
   "execution_count": 11,
   "metadata": {},
   "outputs": [
    {
     "data": {
      "text/plain": [
       "array([2, 3, 2, ..., 3, 2, 3], dtype=int16)"
      ]
     },
     "execution_count": 11,
     "metadata": {},
     "output_type": "execute_result"
    }
   ],
   "source": [
    "data_lc['channel']"
   ]
  },
  {
   "cell_type": "code",
   "execution_count": null,
   "metadata": {},
   "outputs": [],
   "source": [
    "def get_amplitude(raw_records, led_window=[125, 250], noise_window=[350, 475]):\n",
    "    '''\n",
    "    Needed for the SPE computation.\n",
    "    Take the maximum in two different regions, where there is the signal and where there is not.\n",
    "    '''\n",
    "    on = np.zeros((len(raw_records)), dtype=[('channel','int16'),('amplitude_led', '<i4')])\n",
    "    off = np.zeros((len(raw_records)), dtype=[('channel','int16'),('amplitude_noise', '<i4')])\n",
    "    i = 0\n",
    "    for r in raw_records:\n",
    "        on['amplitude_led'][i] = np.max(r['data'][led_window[0]:led_window[1]])\n",
    "        on['channel'][i] = r['channel']\n",
    "        off['amplitude_noise'][i] = np.max(r['data'][noise_window[0]:noise_window[1]])\n",
    "        off['channel'][i] = r['channel']\n",
    "        i=i+1\n",
    "    return on, off\n",
    "\n",
    "def get_area(raw_records, LED_window=[125, 250]):\n",
    "    '''\n",
    "    Needed for the gain computation.\n",
    "    Sum the data in the defined window to get the area.\n",
    "    This is done in 6 integration window and it returns the average area.\n",
    "    '''\n",
    "    left = LED_window[0]\n",
    "    end_pos = [LED_window[1]+2*i for i in range(6)]\n",
    "\n",
    "    Area = np.zeros((len(raw_records)), dtype=[('channel','int16'),('area','float32')])\n",
    "    for right in end_pos:\n",
    "        Area['area'] += raw_records['data'][:, left:right].sum(axis=1)\n",
    "    Area['channel'] = raw_records['channel']\n",
    "    Area['area'] = Area['area']/float(len(end_pos))\n",
    "        \n",
    "    return Area"
   ]
  },
  {
   "cell_type": "code",
   "execution_count": null,
   "metadata": {},
   "outputs": [],
   "source": [
    "on, off = get_amplitude(data_rr)\n",
    "Area = get_area(data_rr)"
   ]
  },
  {
   "cell_type": "code",
   "execution_count": null,
   "metadata": {},
   "outputs": [],
   "source": [
    "data_lc"
   ]
  },
  {
   "cell_type": "markdown",
   "metadata": {},
   "source": [
    "### Comparison"
   ]
  },
  {
   "cell_type": "code",
   "execution_count": null,
   "metadata": {},
   "outputs": [],
   "source": [
    "plt.figure(figsize=(20,22))\n",
    "\n",
    "plt.subplot(321)\n",
    "plt.hist(data_lc[data_lc['channel']==0]['area'], bins=200, range=(-500, 2000), \n",
    "         color='red', histtype='step', density=True, label='lc')\n",
    "plt.yscale('log')\n",
    "plt.xlabel('Area')\n",
    "#plt.title('led_calibration')\n",
    "\n",
    "plt.subplot(322)\n",
    "plt.hist(Area[Area['channel']==0]['area'], bins=200, range=(-500, 2000), \n",
    "         color='gold', histtype='step', density=True, label='rr')\n",
    "plt.yscale('log')\n",
    "plt.xlabel('Area')\n",
    "#plt.title('raw_records')\n",
    "\n",
    "plt.subplot(323)\n",
    "plt.hist(data_lc[data_lc['channel']==0]['amplitude_led'], bins=100, range=(-5, 200), \n",
    "         color='red', histtype='step', density=True, label='lc')\n",
    "plt.hist(data_lc[data_lc['channel']==0]['amplitude_noise'], bins=100, range=(-5, 200), \n",
    "         color='black', histtype='step', density=True, label='lc')\n",
    "plt.yscale('log')\n",
    "plt.xlabel('Amplitude')\n",
    "\n",
    "plt.subplot(324)\n",
    "plt.hist(on[on['channel']==0]['amplitude_led'], bins=100, range=(-5, 200), \n",
    "         color='gold', histtype='step', density=True, label='rr')\n",
    "plt.hist(off[off['channel']==0]['amplitude_noise'], bins=100, range=(-5, 200), \n",
    "         color='black', histtype='step', density=True, label='rr')\n",
    "plt.yscale('log')\n",
    "#plt.xlabel('Amplitude')\n",
    "\n",
    "plt.subplot(325)\n",
    "plt.hist(data_lc[data_lc['channel']==0]['area'], bins=200, range=(-500, 2000), \n",
    "         color='red', histtype='step', density=True, label='lc')\n",
    "plt.hist(Area[Area['channel']==0]['area'], bins=200, range=(-500, 2000), \n",
    "         color='gold', histtype='step', density=True, label='rr')\n",
    "plt.yscale('log')\n",
    "plt.xlabel('Area')\n",
    "plt.legend(loc='best')\n",
    "#plt.title('raw_records')\n",
    "\n",
    "plt.subplot(326)\n",
    "plt.hist(on[on['channel']==0]['amplitude_led'], bins=100, range=(-5, 200), \n",
    "         color='gold', histtype='step', density=True, label='lc')\n",
    "plt.hist(data_lc[data_lc['channel']==0]['amplitude_led'], bins=100, range=(-5, 200), \n",
    "         color='red', histtype='step', density=True, label='rr')\n",
    "plt.yscale('log')\n",
    "plt.xlabel('Amplitude')\n",
    "plt.legend(loc='best')\n",
    "\n",
    "plt.show()\n",
    "plt.tight_layout()"
   ]
  },
  {
   "cell_type": "code",
   "execution_count": null,
   "metadata": {},
   "outputs": [],
   "source": []
  }
 ],
 "metadata": {
  "kernelspec": {
   "display_name": "Python 3",
   "language": "python",
   "name": "python3"
  },
  "language_info": {
   "codemirror_mode": {
    "name": "ipython",
    "version": 3
   },
   "file_extension": ".py",
   "mimetype": "text/x-python",
   "name": "python",
   "nbconvert_exporter": "python",
   "pygments_lexer": "ipython3",
   "version": "3.6.10"
  }
 },
 "nbformat": 4,
 "nbformat_minor": 4
}
