{
 "cells": [
  {
   "cell_type": "code",
   "execution_count": 1,
   "metadata": {},
   "outputs": [
    {
     "name": "stdout",
     "output_type": "stream",
     "text": [
      "0.0.8\n",
      "               option          default    current          applies_to  \\\n",
      "0          LED_window       (125, 250)  <OMITTED>  (led_calibration,)   \n",
      "1        noise_window       (350, 475)  <OMITTED>  (led_calibration,)   \n",
      "2         light_level         (0, 248)  <OMITTED>  (led_calibration,)   \n",
      "3         pax_raw_dir  /data/xenon/raw  <OMITTED>      (raw_records,)   \n",
      "4     stop_after_zips                0  <OMITTED>      (raw_records,)   \n",
      "5    events_per_chunk               50  <OMITTED>      (raw_records,)   \n",
      "6  samples_per_record              110  <OMITTED>      (raw_records,)   \n",
      "\n",
      "                                                help  \n",
      "0  Window (samples) where we expect the signal in...  \n",
      "1             Window (samples) to analysis the noise  \n",
      "2  Three different light level for XENON1T: (0,36...  \n",
      "3                    Directory with raw pax datasets  \n",
      "4         Convert only this many zip files. 0 = all.  \n",
      "5                Number of events to yield per chunk  \n",
      "6                       Number of samples per record  \n"
     ]
    }
   ],
   "source": [
    "%run '/home/gvolta/XENONnT/LedAnalysis/Initialization_for_SPE.py'"
   ]
  },
  {
   "cell_type": "code",
   "execution_count": 2,
   "metadata": {},
   "outputs": [],
   "source": [
    "run_id = '180219_1049'\n",
    "data_rr = st.get_array(run_id, 'raw_records', seconds_range=(0,20))"
   ]
  },
  {
   "cell_type": "code",
   "execution_count": 3,
   "metadata": {},
   "outputs": [],
   "source": [
    "datatype = [('pmt', np.int16),\n",
    "            ('Amplitude', np.float32),\n",
    "            ('Sample of Amplitude', np.float32)]\n",
    "\n",
    "Data = np.zeros((len(data_rr)), dtype = datatype)\n",
    "\n",
    "for i in range(len(data_rr)):\n",
    "    Data[i]['pmt'] = data_rr['channel'][i]\n",
    "    Data[i]['Amplitude'] = np.max(data_rr['data'][i])\n",
    "    Data[i]['Sample of Amplitude'] = np.argmax(data_rr['data'][i])"
   ]
  },
  {
   "cell_type": "code",
   "execution_count": 10,
   "metadata": {},
   "outputs": [
    {
     "data": {
      "text/plain": [
       "Text(0.5, 0, 'amp (ADC counts)')"
      ]
     },
     "execution_count": 10,
     "metadata": {},
     "output_type": "execute_result"
    },
    {
     "data": {
      "image/png": "[encoded data removed]",
      "text/plain": [
       "<Figure size 864x432 with 1 Axes>"
      ]
     },
     "metadata": {
      "needs_background": "light"
     },
     "output_type": "display_data"
    }
   ],
   "source": [
    "plt.figure(figsize=(12,6))\n",
    "n_channel = 180\n",
    "\n",
    "plt.hist(Data[Data['pmt']==n_channel]['Amplitude'], bins=150, range=(0,300), histtype='bar', color='lightblue', alpha=0.5)\n",
    "plt.hist(Data[Data['pmt']==n_channel]['Amplitude'], bins=150, range=(0,300), histtype='step', color='indigo')\n",
    "plt.yscale('log')\n",
    "plt.title('Channel %d' %n_channel)\n",
    "plt.xlabel('amp (ADC counts)')"
   ]
  },
  {
   "cell_type": "code",
   "execution_count": 130,
   "metadata": {},
   "outputs": [],
   "source": [
    "def Noise(x, A0, mu0, sgm0):\n",
    "    Noise = A0 * np.exp(-((x-mu0)**2)/2*sgm0**2)\n",
    "    return Noise\n",
    "def SPE(x, A1, lamb, mu1, sgm1):\n",
    "    SPE = A1 * ((lamb**1)*(np.exp(-lamb))/1) * np.exp(-((x-mu1)**2)/(2*(1*sgm1)**2))\n",
    "    return SPE\n",
    "def DPE(x, A1, lamb, mu1, sgm1):\n",
    "    SPE = A1 * ((lamb**1)*(np.exp(-lamb))/1) * np.exp(-((x-(mu1))**2)/(2*(1*sgm1)**2))\n",
    "    DPE = A1 * ((lamb**1)*(np.exp(-lamb))/1) * np.exp(-((x-(2*mu1))**2)/(2*(2*sgm1)**2))\n",
    "    return SPE + DPE"
   ]
  },
  {
   "cell_type": "code",
   "execution_count": 76,
   "metadata": {},
   "outputs": [],
   "source": [
    "hist, xbins= np.histogram(Data[Data['pmt']==n_channel]['Amplitude'], bins=150, range=(0,300))\n",
    "xbins_center = np.array([0.5*(xbins[i]+xbins[i+1]) for i in range(len(xbins)-1)])"
   ]
  },
  {
   "cell_type": "code",
   "execution_count": 85,
   "metadata": {},
   "outputs": [
    {
     "data": {
      "image/png": "[encoded data removed]",
      "text/plain": [
       "<Figure size 432x288 with 1 Axes>"
      ]
     },
     "metadata": {
      "needs_background": "light"
     },
     "output_type": "display_data"
    }
   ],
   "source": [
    "mask = np.where(hist>0)\n",
    "plt.plot(xbins_center[mask][:10], hist[mask][:10], '+b')\n",
    "plt.plot(xbins_center[mask][25:100], hist[mask][25:100], '+r')\n",
    "plt.yscale('log')"
   ]
  },
  {
   "cell_type": "code",
   "execution_count": 197,
   "metadata": {},
   "outputs": [],
   "source": [
    "popt_init_Noise = [2.76528041e+03, 7.28173379e+00, 6.63997445e-01]\n",
    "popt_init_SPE = [90.,   0.8, 120.,  30.]\n",
    "popt_Noise, pcov_Noise = curve_fit(Noise, xbins_center[mask][:10], hist[mask][:10], sigma=np.sqrt(hist[mask][:10]), p0=popt_init_Noise, maxfev=int(1e6))\n",
    "popt_SPE, pcov_SPE = curve_fit(SPE, xbins_center[mask][25:50], hist[mask][25:50], sigma=np.sqrt(hist[mask][25:50]), p0=popt_init_SPE, maxfev=int(1e6), \n",
    "                               bounds=((70,0.5, 100, 20), (150, 1, 130, 40)))\n",
    "popt_DPE, pcov_DPE = curve_fit(DPE, xbins_center[mask][25:100], hist[mask][25:100], sigma=np.sqrt(hist[mask][25:100]), p0=popt_init_SPE, maxfev=int(1e6),\n",
    "                               bounds=((70,0.5, 100, 20), (150, 1, 130, 40)))"
   ]
  },
  {
   "cell_type": "code",
   "execution_count": 198,
   "metadata": {},
   "outputs": [
    {
     "data": {
      "text/plain": [
       "array([2.76527739e+03, 7.28173186e+00, 6.63996717e-01])"
      ]
     },
     "execution_count": 198,
     "metadata": {},
     "output_type": "execute_result"
    }
   ],
   "source": [
    "popt_Noise"
   ]
  },
  {
   "cell_type": "code",
   "execution_count": 199,
   "metadata": {},
   "outputs": [
    {
     "data": {
      "text/plain": [
       "array([117.57452351,   0.89355662, 120.8692007 ,  40.        ])"
      ]
     },
     "execution_count": 199,
     "metadata": {},
     "output_type": "execute_result"
    }
   ],
   "source": [
    "popt_SPE"
   ]
  },
  {
   "cell_type": "code",
   "execution_count": 200,
   "metadata": {},
   "outputs": [
    {
     "data": {
      "text/plain": [
       "array([ 70. ,   0.5, 100. ,  40. ])"
      ]
     },
     "execution_count": 200,
     "metadata": {},
     "output_type": "execute_result"
    }
   ],
   "source": [
    "popt_DPE"
   ]
  },
  {
   "cell_type": "code",
   "execution_count": 201,
   "metadata": {},
   "outputs": [
    {
     "data": {
      "text/plain": [
       "(1.0, 4000.0)"
      ]
     },
     "execution_count": 201,
     "metadata": {},
     "output_type": "execute_result"
    },
    {
     "data": {
      "image/png": "[encoded data removed]",
      "text/plain": [
       "<Figure size 432x288 with 1 Axes>"
      ]
     },
     "metadata": {
      "needs_background": "light"
     },
     "output_type": "display_data"
    }
   ],
   "source": [
    "x = np.linspace(0, 250, 250)\n",
    "plt.plot(x , Noise(x, *popt_Noise), 'b-')\n",
    "plt.plot(xbins_center[mask][:10], hist[mask][:10], '+b')\n",
    "plt.plot(x , SPE(x, *popt_SPE), 'r-')\n",
    "plt.plot(x , DPE(x, *popt_SPE), 'r-')\n",
    "plt.plot(xbins_center[mask][25:], hist[mask][25:], '+r')\n",
    "plt.yscale('log')\n",
    "plt.ylim(1e0, 4e3)"
   ]
  },
  {
   "cell_type": "code",
   "execution_count": 120,
   "metadata": {},
   "outputs": [],
   "source": [
    "def SPE(x, A1, lamb, mu1, sgm1):\n",
    "    SPE = A1 * ((lamb**1)*(np.exp(-lamb))/1) * np.exp(-((x-mu1)**2)/(2*(1*sgm1)**2))\n",
    "    return SPE"
   ]
  },
  {
   "cell_type": "code",
   "execution_count": null,
   "metadata": {},
   "outputs": [],
   "source": []
  }
 ],
 "metadata": {
  "kernelspec": {
   "display_name": "Python [conda env:strax] *",
   "language": "python",
   "name": "conda-env-strax-py"
  },
  "language_info": {
   "codemirror_mode": {
    "name": "ipython",
    "version": 3
   },
   "file_extension": ".py",
   "mimetype": "text/x-python",
   "name": "python",
   "nbconvert_exporter": "python",
   "pygments_lexer": "ipython3",
   "version": "3.6.8"
  }
 },
 "nbformat": 4,
 "nbformat_minor": 2
}
